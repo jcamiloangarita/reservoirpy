{
 "cells": [
  {
   "cell_type": "code",
   "execution_count": 2,
   "metadata": {},
   "outputs": [],
   "source": [
    "import os\n",
    "path = os.path.abspath(os.path.join('..','..'))\n",
    "import sys\n",
    "sys.path.append(path)\n",
    "from reservoirpy.pvtpy import black_oil as bl\n",
    "from reservoirpy.wellproductivitypy import pi\n",
    "import pandas as pd\n",
    "import numpy as np\n",
    "import matplotlib.pyplot as plt\n",
    "import pandas as pd"
   ]
  },
  {
   "cell_type": "markdown",
   "metadata": {},
   "source": [
    "# Gas Composition"
   ]
  },
  {
   "cell_type": "code",
   "execution_count": 3,
   "metadata": {},
   "outputs": [
    {
     "data": {
      "text/html": [
       "<div>\n",
       "<style scoped>\n",
       "    .dataframe tbody tr th:only-of-type {\n",
       "        vertical-align: middle;\n",
       "    }\n",
       "\n",
       "    .dataframe tbody tr th {\n",
       "        vertical-align: top;\n",
       "    }\n",
       "\n",
       "    .dataframe thead th {\n",
       "        text-align: right;\n",
       "    }\n",
       "</style>\n",
       "<table border=\"1\" class=\"dataframe\">\n",
       "  <thead>\n",
       "    <tr style=\"text-align: right;\">\n",
       "      <th></th>\n",
       "      <th>mole_fraction</th>\n",
       "      <th>formula</th>\n",
       "      <th>mw</th>\n",
       "      <th>ppc</th>\n",
       "      <th>tpc</th>\n",
       "    </tr>\n",
       "    <tr>\n",
       "      <th>compound</th>\n",
       "      <th></th>\n",
       "      <th></th>\n",
       "      <th></th>\n",
       "      <th></th>\n",
       "      <th></th>\n",
       "    </tr>\n",
       "  </thead>\n",
       "  <tbody>\n",
       "    <tr>\n",
       "      <th>methane</th>\n",
       "      <td>0.7410</td>\n",
       "      <td>CH4</td>\n",
       "      <td>16.0430</td>\n",
       "      <td>666.4</td>\n",
       "      <td>-116.67</td>\n",
       "    </tr>\n",
       "    <tr>\n",
       "      <th>ethane</th>\n",
       "      <td>0.0246</td>\n",
       "      <td>C2H6</td>\n",
       "      <td>30.0700</td>\n",
       "      <td>706.5</td>\n",
       "      <td>89.92</td>\n",
       "    </tr>\n",
       "    <tr>\n",
       "      <th>propane</th>\n",
       "      <td>0.0007</td>\n",
       "      <td>C3H8</td>\n",
       "      <td>44.0970</td>\n",
       "      <td>616.0</td>\n",
       "      <td>206.06</td>\n",
       "    </tr>\n",
       "    <tr>\n",
       "      <th>isobutane</th>\n",
       "      <td>0.0005</td>\n",
       "      <td>C4H10</td>\n",
       "      <td>58.1230</td>\n",
       "      <td>527.9</td>\n",
       "      <td>274.46</td>\n",
       "    </tr>\n",
       "    <tr>\n",
       "      <th>n-butane</th>\n",
       "      <td>0.0003</td>\n",
       "      <td>C4H10</td>\n",
       "      <td>58.1230</td>\n",
       "      <td>550.6</td>\n",
       "      <td>305.62</td>\n",
       "    </tr>\n",
       "    <tr>\n",
       "      <th>isopentane</th>\n",
       "      <td>0.0001</td>\n",
       "      <td>C5H12</td>\n",
       "      <td>72.1500</td>\n",
       "      <td>490.4</td>\n",
       "      <td>369.10</td>\n",
       "    </tr>\n",
       "    <tr>\n",
       "      <th>n-pentane</th>\n",
       "      <td>0.0001</td>\n",
       "      <td>C5H12</td>\n",
       "      <td>73.1500</td>\n",
       "      <td>488.6</td>\n",
       "      <td>385.80</td>\n",
       "    </tr>\n",
       "    <tr>\n",
       "      <th>n-hexane</th>\n",
       "      <td>0.0005</td>\n",
       "      <td>C6H14</td>\n",
       "      <td>86.1770</td>\n",
       "      <td>436.9</td>\n",
       "      <td>453.60</td>\n",
       "    </tr>\n",
       "    <tr>\n",
       "      <th>nitrogen</th>\n",
       "      <td>0.0592</td>\n",
       "      <td>N2</td>\n",
       "      <td>28.0134</td>\n",
       "      <td>493.1</td>\n",
       "      <td>-232.51</td>\n",
       "    </tr>\n",
       "    <tr>\n",
       "      <th>carbon-dioxide</th>\n",
       "      <td>0.0210</td>\n",
       "      <td>CO2</td>\n",
       "      <td>44.0100</td>\n",
       "      <td>1071.0</td>\n",
       "      <td>87.91</td>\n",
       "    </tr>\n",
       "    <tr>\n",
       "      <th>sulfur-dioxide</th>\n",
       "      <td>0.1520</td>\n",
       "      <td>SO2</td>\n",
       "      <td>64.0600</td>\n",
       "      <td>1143.0</td>\n",
       "      <td>315.80</td>\n",
       "    </tr>\n",
       "  </tbody>\n",
       "</table>\n",
       "</div>"
      ],
      "text/plain": [
       "                mole_fraction formula       mw     ppc     tpc\n",
       "compound                                                      \n",
       "methane                0.7410     CH4  16.0430   666.4 -116.67\n",
       "ethane                 0.0246    C2H6  30.0700   706.5   89.92\n",
       "propane                0.0007    C3H8  44.0970   616.0  206.06\n",
       "isobutane              0.0005   C4H10  58.1230   527.9  274.46\n",
       "n-butane               0.0003   C4H10  58.1230   550.6  305.62\n",
       "isopentane             0.0001   C5H12  72.1500   490.4  369.10\n",
       "n-pentane              0.0001   C5H12  73.1500   488.6  385.80\n",
       "n-hexane               0.0005   C6H14  86.1770   436.9  453.60\n",
       "nitrogen               0.0592      N2  28.0134   493.1 -232.51\n",
       "carbon-dioxide         0.0210     CO2  44.0100  1071.0   87.91\n",
       "sulfur-dioxide         0.1520     SO2  64.0600  1143.0  315.80"
      ]
     },
     "execution_count": 3,
     "metadata": {},
     "output_type": "execute_result"
    }
   ],
   "source": [
    "composition_dict = {\n",
    "    'mole_fraction':[0.7410,0.0246,0.0007,0.0005,0.0003,0.0001,0.0001,0.0005,0.0592,0.021,0.152],\n",
    "    'compound':['methane','ethane','propane','isobutane','n-butane','isopentane','n-pentane','n-hexane','nitrogen','carbon-dioxide','sulfur-dioxide']\n",
    "    }\n",
    "\n",
    "\n",
    "composition=bl.chromatography(composition_dict)\n",
    "composition"
   ]
  },
  {
   "cell_type": "markdown",
   "metadata": {},
   "source": [
    "## Create Gas Object\n",
    "\n",
    "Create gas object with chromatography and PVT from Correlations"
   ]
  },
  {
   "cell_type": "code",
   "execution_count": 3,
   "metadata": {},
   "outputs": [
    {
     "data": {
      "text/html": [
       "<div>\n",
       "<style scoped>\n",
       "    .dataframe tbody tr th:only-of-type {\n",
       "        vertical-align: middle;\n",
       "    }\n",
       "\n",
       "    .dataframe tbody tr th {\n",
       "        vertical-align: top;\n",
       "    }\n",
       "\n",
       "    .dataframe thead th {\n",
       "        text-align: right;\n",
       "    }\n",
       "</style>\n",
       "<table border=\"1\" class=\"dataframe\">\n",
       "  <thead>\n",
       "    <tr style=\"text-align: right;\">\n",
       "      <th></th>\n",
       "      <th>z</th>\n",
       "      <th>rhog</th>\n",
       "      <th>bg</th>\n",
       "      <th>mug</th>\n",
       "      <th>cg</th>\n",
       "    </tr>\n",
       "    <tr>\n",
       "      <th>pressure</th>\n",
       "      <th></th>\n",
       "      <th></th>\n",
       "      <th></th>\n",
       "      <th></th>\n",
       "      <th></th>\n",
       "    </tr>\n",
       "  </thead>\n",
       "  <tbody>\n",
       "    <tr>\n",
       "      <th>20.000000</th>\n",
       "      <td>0.997746</td>\n",
       "      <td>0.080511</td>\n",
       "      <td>0.146043</td>\n",
       "      <td>0.010978</td>\n",
       "      <td>0.050000</td>\n",
       "    </tr>\n",
       "    <tr>\n",
       "      <th>282.105263</th>\n",
       "      <td>0.969095</td>\n",
       "      <td>1.169201</td>\n",
       "      <td>0.010056</td>\n",
       "      <td>0.011298</td>\n",
       "      <td>0.003545</td>\n",
       "    </tr>\n",
       "    <tr>\n",
       "      <th>544.210526</th>\n",
       "      <td>0.942106</td>\n",
       "      <td>2.320127</td>\n",
       "      <td>0.005068</td>\n",
       "      <td>0.011795</td>\n",
       "      <td>0.001838</td>\n",
       "    </tr>\n",
       "    <tr>\n",
       "      <th>806.315789</th>\n",
       "      <td>0.916777</td>\n",
       "      <td>3.532531</td>\n",
       "      <td>0.003329</td>\n",
       "      <td>0.012443</td>\n",
       "      <td>0.001240</td>\n",
       "    </tr>\n",
       "    <tr>\n",
       "      <th>1068.421053</th>\n",
       "      <td>0.893109</td>\n",
       "      <td>4.804880</td>\n",
       "      <td>0.002447</td>\n",
       "      <td>0.013248</td>\n",
       "      <td>0.000936</td>\n",
       "    </tr>\n",
       "    <tr>\n",
       "      <th>1330.526316</th>\n",
       "      <td>0.871101</td>\n",
       "      <td>6.134785</td>\n",
       "      <td>0.001917</td>\n",
       "      <td>0.014227</td>\n",
       "      <td>0.000752</td>\n",
       "    </tr>\n",
       "    <tr>\n",
       "      <th>1592.631579</th>\n",
       "      <td>0.850754</td>\n",
       "      <td>7.518924</td>\n",
       "      <td>0.001564</td>\n",
       "      <td>0.015405</td>\n",
       "      <td>0.000628</td>\n",
       "    </tr>\n",
       "    <tr>\n",
       "      <th>1854.736842</th>\n",
       "      <td>0.832068</td>\n",
       "      <td>8.952988</td>\n",
       "      <td>0.001313</td>\n",
       "      <td>0.016812</td>\n",
       "      <td>0.000539</td>\n",
       "    </tr>\n",
       "    <tr>\n",
       "      <th>2116.842105</th>\n",
       "      <td>0.815042</td>\n",
       "      <td>10.431645</td>\n",
       "      <td>0.001127</td>\n",
       "      <td>0.018483</td>\n",
       "      <td>0.000472</td>\n",
       "    </tr>\n",
       "    <tr>\n",
       "      <th>2378.947368</th>\n",
       "      <td>0.799677</td>\n",
       "      <td>11.948531</td>\n",
       "      <td>0.000984</td>\n",
       "      <td>0.020461</td>\n",
       "      <td>0.000420</td>\n",
       "    </tr>\n",
       "    <tr>\n",
       "      <th>2641.052632</th>\n",
       "      <td>0.785973</td>\n",
       "      <td>13.496274</td>\n",
       "      <td>0.000871</td>\n",
       "      <td>0.022793</td>\n",
       "      <td>0.000379</td>\n",
       "    </tr>\n",
       "    <tr>\n",
       "      <th>2903.157895</th>\n",
       "      <td>0.773929</td>\n",
       "      <td>15.066550</td>\n",
       "      <td>0.000780</td>\n",
       "      <td>0.025534</td>\n",
       "      <td>0.000344</td>\n",
       "    </tr>\n",
       "    <tr>\n",
       "      <th>3165.263158</th>\n",
       "      <td>0.763546</td>\n",
       "      <td>16.650179</td>\n",
       "      <td>0.000706</td>\n",
       "      <td>0.028741</td>\n",
       "      <td>0.000316</td>\n",
       "    </tr>\n",
       "    <tr>\n",
       "      <th>3427.368421</th>\n",
       "      <td>0.754824</td>\n",
       "      <td>18.237260</td>\n",
       "      <td>0.000645</td>\n",
       "      <td>0.032475</td>\n",
       "      <td>0.000292</td>\n",
       "    </tr>\n",
       "    <tr>\n",
       "      <th>3689.473684</th>\n",
       "      <td>0.747762</td>\n",
       "      <td>19.817339</td>\n",
       "      <td>0.000593</td>\n",
       "      <td>0.036796</td>\n",
       "      <td>0.000271</td>\n",
       "    </tr>\n",
       "    <tr>\n",
       "      <th>3951.578947</th>\n",
       "      <td>0.742361</td>\n",
       "      <td>21.379615</td>\n",
       "      <td>0.000550</td>\n",
       "      <td>0.041762</td>\n",
       "      <td>0.000253</td>\n",
       "    </tr>\n",
       "    <tr>\n",
       "      <th>4213.684211</th>\n",
       "      <td>0.738621</td>\n",
       "      <td>22.913157</td>\n",
       "      <td>0.000513</td>\n",
       "      <td>0.047423</td>\n",
       "      <td>0.000237</td>\n",
       "    </tr>\n",
       "    <tr>\n",
       "      <th>4475.789474</th>\n",
       "      <td>0.736541</td>\n",
       "      <td>24.407156</td>\n",
       "      <td>0.000482</td>\n",
       "      <td>0.053812</td>\n",
       "      <td>0.000223</td>\n",
       "    </tr>\n",
       "    <tr>\n",
       "      <th>4737.894737</th>\n",
       "      <td>0.736122</td>\n",
       "      <td>25.851165</td>\n",
       "      <td>0.000455</td>\n",
       "      <td>0.060946</td>\n",
       "      <td>0.000211</td>\n",
       "    </tr>\n",
       "    <tr>\n",
       "      <th>5000.000000</th>\n",
       "      <td>0.737364</td>\n",
       "      <td>27.235344</td>\n",
       "      <td>0.000432</td>\n",
       "      <td>0.068811</td>\n",
       "      <td>0.000200</td>\n",
       "    </tr>\n",
       "  </tbody>\n",
       "</table>\n",
       "</div>"
      ],
      "text/plain": [
       "                    z       rhog        bg       mug        cg\n",
       "pressure                                                      \n",
       "20.000000    0.997746   0.080511  0.146043  0.010978  0.050000\n",
       "282.105263   0.969095   1.169201  0.010056  0.011298  0.003545\n",
       "544.210526   0.942106   2.320127  0.005068  0.011795  0.001838\n",
       "806.315789   0.916777   3.532531  0.003329  0.012443  0.001240\n",
       "1068.421053  0.893109   4.804880  0.002447  0.013248  0.000936\n",
       "1330.526316  0.871101   6.134785  0.001917  0.014227  0.000752\n",
       "1592.631579  0.850754   7.518924  0.001564  0.015405  0.000628\n",
       "1854.736842  0.832068   8.952988  0.001313  0.016812  0.000539\n",
       "2116.842105  0.815042  10.431645  0.001127  0.018483  0.000472\n",
       "2378.947368  0.799677  11.948531  0.000984  0.020461  0.000420\n",
       "2641.052632  0.785973  13.496274  0.000871  0.022793  0.000379\n",
       "2903.157895  0.773929  15.066550  0.000780  0.025534  0.000344\n",
       "3165.263158  0.763546  16.650179  0.000706  0.028741  0.000316\n",
       "3427.368421  0.754824  18.237260  0.000645  0.032475  0.000292\n",
       "3689.473684  0.747762  19.817339  0.000593  0.036796  0.000271\n",
       "3951.578947  0.742361  21.379615  0.000550  0.041762  0.000253\n",
       "4213.684211  0.738621  22.913157  0.000513  0.047423  0.000237\n",
       "4475.789474  0.736541  24.407156  0.000482  0.053812  0.000223\n",
       "4737.894737  0.736122  25.851165  0.000455  0.060946  0.000211\n",
       "5000.000000  0.737364  27.235344  0.000432  0.068811  0.000200"
      ]
     },
     "execution_count": 3,
     "metadata": {},
     "output_type": "execute_result"
    }
   ],
   "source": [
    "fm = 'formation_1'\n",
    "t= 122\n",
    "g = bl.gas(formation=fm, temp=t, chromatography=composition)\n",
    "g.pvt_from_correlations()\n",
    "g.pvt"
   ]
  },
  {
   "cell_type": "code",
   "execution_count": 4,
   "metadata": {},
   "outputs": [
    {
     "data": {
      "text/plain": [
       "0.8661012803867403"
      ]
     },
     "execution_count": 4,
     "metadata": {},
     "output_type": "execute_result"
    }
   ],
   "source": [
    "g.sg"
   ]
  },
  {
   "cell_type": "code",
   "execution_count": 5,
   "metadata": {},
   "outputs": [],
   "source": [
    "td = 10000\n",
    "md = np.linspace(0,td,20)\n",
    "inc = np.zeros(md.shape)\n",
    "thp = 800\n",
    "surf_temp = 150\n",
    "res_temp = 200\n",
    "t_grad = ((200-150)/td)*100\n",
    "q_rate = 2000"
   ]
  },
  {
   "cell_type": "code",
   "execution_count": 6,
   "metadata": {},
   "outputs": [
    {
     "name": "stdout",
     "output_type": "stream",
     "text": [
      "Bottom Pressure 1079.2606771644917\n",
      "Pressure Profile\n",
      "                 pressure  pressure_gradient  temperature  iterations\n",
      "0.000000       800.000000           0.000000   150.000000         0.0\n",
      "526.315789     813.217315           0.025113   152.631579         2.0\n",
      "1052.631579    826.587609           0.025404   155.263158         1.0\n",
      "1578.947368    840.112943           0.025698   157.894737         1.0\n",
      "2105.263158    853.795235           0.025996   160.526316         1.0\n",
      "2631.578947    867.636432           0.026298   163.157895         1.0\n",
      "3157.894737    881.638509           0.026604   165.789474         1.0\n",
      "3684.210526    895.803470           0.026913   168.421053         1.0\n",
      "4210.526316    910.133351           0.027227   171.052632         1.0\n",
      "4736.842105    924.630216           0.027544   173.684211         1.0\n",
      "5263.157895    939.296163           0.027865   176.315789         1.0\n",
      "5789.473684    954.133325           0.028191   178.947368         1.0\n",
      "6315.789474    969.143866           0.028520   181.578947         1.0\n",
      "6842.105263    984.329986           0.028854   184.210526         1.0\n",
      "7368.421053    999.693923           0.029191   186.842105         1.0\n",
      "7894.736842   1015.237949           0.029534   189.473684         1.0\n",
      "8421.052632   1030.964376           0.029880   192.105263         1.0\n",
      "8947.368421   1046.875557           0.030231   194.736842         1.0\n",
      "9473.684211   1062.973882           0.030587   197.368421         1.0\n",
      "10000.000000  1079.260677           0.030945   200.000000         1.0\n"
     ]
    }
   ],
   "source": [
    "df,pwf = pi.gas_pressure_profile(md,inc,thp,q_rate,g,surf_temp=surf_temp,temp_grad=t_grad,di=2.259)\n",
    "\n",
    "print(f'Bottom Pressure {pwf}')\n",
    "print('Pressure Profile')\n",
    "print(df)\n"
   ]
  },
  {
   "cell_type": "code",
   "execution_count": 14,
   "metadata": {},
   "outputs": [
    {
     "data": {
      "text/plain": [
       "<matplotlib.axes._subplots.AxesSubplot at 0x232060b61c0>"
      ]
     },
     "execution_count": 14,
     "metadata": {},
     "output_type": "execute_result"
    },
    {
     "data": {
      "image/png": "[encoded data removed]",
      "text/plain": [
       "<Figure size 432x288 with 1 Axes>"
      ]
     },
     "metadata": {
      "needs_background": "light"
     },
     "output_type": "display_data"
    }
   ],
   "source": [
    "outflow = pi.gas_outflow_curve(md, inc, 500, g,di=[2,2.259,2.5, 2.99,3.5],surf_temp=150,temp_grad=t_grad,min_rate=10,max_rate=3000)\n",
    "outflow.plot()"
   ]
  },
  {
   "cell_type": "code",
   "execution_count": 15,
   "metadata": {},
   "outputs": [
    {
     "data": {
      "image/png": "[encoded data removed]",
      "text/plain": [
       "<Figure size 432x288 with 1 Axes>"
      ]
     },
     "metadata": {
      "needs_background": "light"
     },
     "output_type": "display_data"
    }
   ],
   "source": [
    "df,aof = pi.gas_inflow_curve(1000,3e-5,g.pvt,n=10)\n",
    "\n",
    "fig, ax = plt.subplots()\n",
    "ax.plot(df['q'],df['p'])\n",
    "outflow.plot(ax=ax)\n",
    "plt.grid()"
   ]
  },
  {
   "cell_type": "code",
   "execution_count": 9,
   "metadata": {},
   "outputs": [
    {
     "data": {
      "text/html": [
       "<div>\n",
       "<style scoped>\n",
       "    .dataframe tbody tr th:only-of-type {\n",
       "        vertical-align: middle;\n",
       "    }\n",
       "\n",
       "    .dataframe tbody tr th {\n",
       "        vertical-align: top;\n",
       "    }\n",
       "\n",
       "    .dataframe thead th {\n",
       "        text-align: right;\n",
       "    }\n",
       "</style>\n",
       "<table border=\"1\" class=\"dataframe\">\n",
       "  <thead>\n",
       "    <tr style=\"text-align: right;\">\n",
       "      <th></th>\n",
       "      <th>p</th>\n",
       "      <th>q</th>\n",
       "    </tr>\n",
       "  </thead>\n",
       "  <tbody>\n",
       "    <tr>\n",
       "      <th>0</th>\n",
       "      <td>0.000000</td>\n",
       "      <td>2654.448144</td>\n",
       "    </tr>\n",
       "    <tr>\n",
       "      <th>1</th>\n",
       "      <td>111.111111</td>\n",
       "      <td>2620.634803</td>\n",
       "    </tr>\n",
       "    <tr>\n",
       "      <th>2</th>\n",
       "      <td>222.222222</td>\n",
       "      <td>2519.180226</td>\n",
       "    </tr>\n",
       "    <tr>\n",
       "      <th>3</th>\n",
       "      <td>333.333333</td>\n",
       "      <td>2350.368372</td>\n",
       "    </tr>\n",
       "    <tr>\n",
       "      <th>4</th>\n",
       "      <td>444.444444</td>\n",
       "      <td>2115.164805</td>\n",
       "    </tr>\n",
       "    <tr>\n",
       "      <th>5</th>\n",
       "      <td>555.555556</td>\n",
       "      <td>1814.685496</td>\n",
       "    </tr>\n",
       "    <tr>\n",
       "      <th>6</th>\n",
       "      <td>666.666667</td>\n",
       "      <td>1450.784707</td>\n",
       "    </tr>\n",
       "    <tr>\n",
       "      <th>7</th>\n",
       "      <td>777.777778</td>\n",
       "      <td>1025.449999</td>\n",
       "    </tr>\n",
       "    <tr>\n",
       "      <th>8</th>\n",
       "      <td>888.888889</td>\n",
       "      <td>540.933100</td>\n",
       "    </tr>\n",
       "    <tr>\n",
       "      <th>9</th>\n",
       "      <td>1000.000000</td>\n",
       "      <td>0.000000</td>\n",
       "    </tr>\n",
       "  </tbody>\n",
       "</table>\n",
       "</div>"
      ],
      "text/plain": [
       "             p            q\n",
       "0     0.000000  2654.448144\n",
       "1   111.111111  2620.634803\n",
       "2   222.222222  2519.180226\n",
       "3   333.333333  2350.368372\n",
       "4   444.444444  2115.164805\n",
       "5   555.555556  1814.685496\n",
       "6   666.666667  1450.784707\n",
       "7   777.777778  1025.449999\n",
       "8   888.888889   540.933100\n",
       "9  1000.000000     0.000000"
      ]
     },
     "execution_count": 9,
     "metadata": {},
     "output_type": "execute_result"
    }
   ],
   "source": [
    "df"
   ]
  },
  {
   "cell_type": "code",
   "execution_count": 10,
   "metadata": {},
   "outputs": [
    {
     "data": {
      "text/plain": [
       "array([0., 0., 0., 0., 0., 0., 0., 0., 0., 0.])"
      ]
     },
     "execution_count": 10,
     "metadata": {},
     "output_type": "execute_result"
    }
   ],
   "source": [
    "q=np.zeros(df.shape[0])\n",
    "q"
   ]
  },
  {
   "cell_type": "code",
   "execution_count": 11,
   "metadata": {},
   "outputs": [
    {
     "data": {
      "text/plain": [
       "array([   0.        ,  111.11111111,  222.22222222,  333.33333333,\n",
       "        444.44444444,  555.55555556,  666.66666667,  777.77777778,\n",
       "        888.88888889, 1000.        ])"
      ]
     },
     "execution_count": 11,
     "metadata": {},
     "output_type": "execute_result"
    }
   ],
   "source": [
    "for i in range(df.shape[0]):\n",
    "    q[i] = df.iloc[i,0]\n",
    "q"
   ]
  },
  {
   "cell_type": "code",
   "execution_count": null,
   "metadata": {},
   "outputs": [],
   "source": []
  }
 ],
 "metadata": {
  "kernelspec": {
   "display_name": "Python 3",
   "language": "python",
   "name": "python3"
  },
  "language_info": {
   "codemirror_mode": {
    "name": "ipython",
    "version": 3
   },
   "file_extension": ".py",
   "mimetype": "text/x-python",
   "name": "python",
   "nbconvert_exporter": "python",
   "pygments_lexer": "ipython3",
   "version": "3.8.3"
  }
 },
 "nbformat": 4,
 "nbformat_minor": 4
}
