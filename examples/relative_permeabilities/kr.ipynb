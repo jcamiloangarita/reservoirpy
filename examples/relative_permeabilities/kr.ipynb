{
 "cells": [
  {
   "cell_type": "code",
   "execution_count": 1,
   "metadata": {},
   "outputs": [],
   "source": [
    "import os\n",
    "path = os.path.join('/home/santiago/Documents/dev/reservoirpy')\n",
    "import sys\n",
    "sys.path.insert(0,path)\n",
    "import pandas as pd\n",
    "import numpy as np\n",
    "from reservoirpy.krpy import kr_df, water_oil_kr\n",
    "import matplotlib.pyplot as plt"
   ]
  },
  {
   "cell_type": "markdown",
   "metadata": {},
   "source": [
    "# Create relative permeabilities table"
   ]
  },
  {
   "cell_type": "code",
   "execution_count": 2,
   "metadata": {},
   "outputs": [
    {
     "data": {
      "text/html": [
       "<div>\n",
       "<style scoped>\n",
       "    .dataframe tbody tr th:only-of-type {\n",
       "        vertical-align: middle;\n",
       "    }\n",
       "\n",
       "    .dataframe tbody tr th {\n",
       "        vertical-align: top;\n",
       "    }\n",
       "\n",
       "    .dataframe thead th {\n",
       "        text-align: right;\n",
       "    }\n",
       "</style>\n",
       "<table border=\"1\" class=\"dataframe\">\n",
       "  <thead>\n",
       "    <tr style=\"text-align: right;\">\n",
       "      <th></th>\n",
       "      <th>krw</th>\n",
       "      <th>kro</th>\n",
       "      <th>pc</th>\n",
       "    </tr>\n",
       "    <tr>\n",
       "      <th>sw</th>\n",
       "      <th></th>\n",
       "      <th></th>\n",
       "      <th></th>\n",
       "    </tr>\n",
       "  </thead>\n",
       "  <tbody>\n",
       "    <tr>\n",
       "      <th>0.10</th>\n",
       "      <td>0.000000</td>\n",
       "      <td>1.000000</td>\n",
       "      <td>0.0</td>\n",
       "    </tr>\n",
       "    <tr>\n",
       "      <th>0.20</th>\n",
       "      <td>0.013841</td>\n",
       "      <td>0.686953</td>\n",
       "      <td>0.0</td>\n",
       "    </tr>\n",
       "    <tr>\n",
       "      <th>0.30</th>\n",
       "      <td>0.055363</td>\n",
       "      <td>0.447181</td>\n",
       "      <td>0.0</td>\n",
       "    </tr>\n",
       "    <tr>\n",
       "      <th>0.40</th>\n",
       "      <td>0.124567</td>\n",
       "      <td>0.270914</td>\n",
       "      <td>0.0</td>\n",
       "    </tr>\n",
       "    <tr>\n",
       "      <th>0.50</th>\n",
       "      <td>0.221453</td>\n",
       "      <td>0.148382</td>\n",
       "      <td>0.0</td>\n",
       "    </tr>\n",
       "    <tr>\n",
       "      <th>0.60</th>\n",
       "      <td>0.346021</td>\n",
       "      <td>0.069815</td>\n",
       "      <td>0.0</td>\n",
       "    </tr>\n",
       "    <tr>\n",
       "      <th>0.70</th>\n",
       "      <td>0.498270</td>\n",
       "      <td>0.025443</td>\n",
       "      <td>0.0</td>\n",
       "    </tr>\n",
       "    <tr>\n",
       "      <th>0.80</th>\n",
       "      <td>0.678201</td>\n",
       "      <td>0.005496</td>\n",
       "      <td>0.0</td>\n",
       "    </tr>\n",
       "    <tr>\n",
       "      <th>0.90</th>\n",
       "      <td>0.885813</td>\n",
       "      <td>0.000204</td>\n",
       "      <td>0.0</td>\n",
       "    </tr>\n",
       "    <tr>\n",
       "      <th>0.95</th>\n",
       "      <td>1.000000</td>\n",
       "      <td>0.000000</td>\n",
       "      <td>0.0</td>\n",
       "    </tr>\n",
       "    <tr>\n",
       "      <th>1.00</th>\n",
       "      <td>1.000000</td>\n",
       "      <td>0.000000</td>\n",
       "      <td>0.0</td>\n",
       "    </tr>\n",
       "  </tbody>\n",
       "</table>\n",
       "</div>"
      ],
      "text/plain": [
       "           krw       kro   pc\n",
       "sw                           \n",
       "0.10  0.000000  1.000000  0.0\n",
       "0.20  0.013841  0.686953  0.0\n",
       "0.30  0.055363  0.447181  0.0\n",
       "0.40  0.124567  0.270914  0.0\n",
       "0.50  0.221453  0.148382  0.0\n",
       "0.60  0.346021  0.069815  0.0\n",
       "0.70  0.498270  0.025443  0.0\n",
       "0.80  0.678201  0.005496  0.0\n",
       "0.90  0.885813  0.000204  0.0\n",
       "0.95  1.000000  0.000000  0.0\n",
       "1.00  1.000000  0.000000  0.0"
      ]
     },
     "execution_count": 2,
     "metadata": {},
     "output_type": "execute_result"
    }
   ],
   "source": [
    "data = np.array([\n",
    "    [0.1000000, 0.0000000, 1.0000000, 0],\n",
    "    [0.2000000, 0.0138408, 0.6869530, 0],\n",
    "    [0.3000000, 0.0553633, 0.4471809, 0],\n",
    "    [0.4000000, 0.1245675, 0.2709139, 0],\n",
    "    [0.5000000, 0.2214533, 0.1483818, 0],\n",
    "    [0.6000000, 0.3460208, 0.0698148, 0],\n",
    "    [0.7000000, 0.4982699, 0.0254427, 0],\n",
    "    [0.8000000, 0.6782007, 0.0054956, 0],\n",
    "    [0.9000000, 0.8858131, 0.0002035, 0],\n",
    "    [0.9500000, 1.0000000, 0.0000000, 0],\n",
    "    [1.0000000, 1.0000000, 0.0000000, 0],\n",
    "])\n",
    "krwo = kr_df(data,columns=['sw','krw','kro','pc'])\n",
    "krwo"
   ]
  },
  {
   "cell_type": "code",
   "execution_count": 3,
   "metadata": {},
   "outputs": [],
   "source": [
    "# Create Water Oil Relative permeabilities object"
   ]
  },
  {
   "cell_type": "code",
   "execution_count": 4,
   "metadata": {},
   "outputs": [],
   "source": [
    "kr = water_oil_kr(\n",
    "    swir = 0.4, \n",
    "    sor=0.2, \n",
    "    nw=2, \n",
    "    no=2, \n",
    "    np=5, \n",
    "    pcend=20,\n",
    "    krwend = 0.5,\n",
    "    kroend = 0.9\n",
    ")"
   ]
  },
  {
   "cell_type": "code",
   "execution_count": 5,
   "metadata": {},
   "outputs": [
    {
     "data": {
      "text/html": [
       "<div>\n",
       "<style scoped>\n",
       "    .dataframe tbody tr th:only-of-type {\n",
       "        vertical-align: middle;\n",
       "    }\n",
       "\n",
       "    .dataframe tbody tr th {\n",
       "        vertical-align: top;\n",
       "    }\n",
       "\n",
       "    .dataframe thead th {\n",
       "        text-align: right;\n",
       "    }\n",
       "</style>\n",
       "<table border=\"1\" class=\"dataframe\">\n",
       "  <thead>\n",
       "    <tr style=\"text-align: right;\">\n",
       "      <th></th>\n",
       "      <th>krw</th>\n",
       "      <th>kro</th>\n",
       "      <th>pcwo</th>\n",
       "    </tr>\n",
       "    <tr>\n",
       "      <th>sw</th>\n",
       "      <th></th>\n",
       "      <th></th>\n",
       "      <th></th>\n",
       "    </tr>\n",
       "  </thead>\n",
       "  <tbody>\n",
       "    <tr>\n",
       "      <th>0.400000</th>\n",
       "      <td>0.000000</td>\n",
       "      <td>0.900000</td>\n",
       "      <td>20.000000</td>\n",
       "    </tr>\n",
       "    <tr>\n",
       "      <th>0.421053</th>\n",
       "      <td>0.001385</td>\n",
       "      <td>0.807756</td>\n",
       "      <td>15.262459</td>\n",
       "    </tr>\n",
       "    <tr>\n",
       "      <th>0.442105</th>\n",
       "      <td>0.005540</td>\n",
       "      <td>0.720499</td>\n",
       "      <td>11.468499</td>\n",
       "    </tr>\n",
       "    <tr>\n",
       "      <th>0.463158</th>\n",
       "      <td>0.012465</td>\n",
       "      <td>0.638227</td>\n",
       "      <td>8.469581</td>\n",
       "    </tr>\n",
       "    <tr>\n",
       "      <th>0.484211</th>\n",
       "      <td>0.022161</td>\n",
       "      <td>0.560942</td>\n",
       "      <td>6.133640</td>\n",
       "    </tr>\n",
       "    <tr>\n",
       "      <th>0.505263</th>\n",
       "      <td>0.034626</td>\n",
       "      <td>0.488643</td>\n",
       "      <td>4.344124</td>\n",
       "    </tr>\n",
       "    <tr>\n",
       "      <th>0.526316</th>\n",
       "      <td>0.049861</td>\n",
       "      <td>0.421330</td>\n",
       "      <td>2.999016</td>\n",
       "    </tr>\n",
       "    <tr>\n",
       "      <th>0.547368</th>\n",
       "      <td>0.067867</td>\n",
       "      <td>0.359003</td>\n",
       "      <td>2.009871</td>\n",
       "    </tr>\n",
       "    <tr>\n",
       "      <th>0.568421</th>\n",
       "      <td>0.088643</td>\n",
       "      <td>0.301662</td>\n",
       "      <td>1.300845</td>\n",
       "    </tr>\n",
       "    <tr>\n",
       "      <th>0.589474</th>\n",
       "      <td>0.112188</td>\n",
       "      <td>0.249307</td>\n",
       "      <td>0.807722</td>\n",
       "    </tr>\n",
       "    <tr>\n",
       "      <th>0.610526</th>\n",
       "      <td>0.138504</td>\n",
       "      <td>0.201939</td>\n",
       "      <td>0.476952</td>\n",
       "    </tr>\n",
       "    <tr>\n",
       "      <th>0.631579</th>\n",
       "      <td>0.167590</td>\n",
       "      <td>0.159557</td>\n",
       "      <td>0.264674</td>\n",
       "    </tr>\n",
       "    <tr>\n",
       "      <th>0.652632</th>\n",
       "      <td>0.199446</td>\n",
       "      <td>0.122161</td>\n",
       "      <td>0.135754</td>\n",
       "    </tr>\n",
       "    <tr>\n",
       "      <th>0.673684</th>\n",
       "      <td>0.234072</td>\n",
       "      <td>0.089751</td>\n",
       "      <td>0.062808</td>\n",
       "    </tr>\n",
       "    <tr>\n",
       "      <th>0.694737</th>\n",
       "      <td>0.271468</td>\n",
       "      <td>0.062327</td>\n",
       "      <td>0.025241</td>\n",
       "    </tr>\n",
       "    <tr>\n",
       "      <th>0.715789</th>\n",
       "      <td>0.311634</td>\n",
       "      <td>0.039889</td>\n",
       "      <td>0.008271</td>\n",
       "    </tr>\n",
       "    <tr>\n",
       "      <th>0.736842</th>\n",
       "      <td>0.354571</td>\n",
       "      <td>0.022438</td>\n",
       "      <td>0.001963</td>\n",
       "    </tr>\n",
       "    <tr>\n",
       "      <th>0.757895</th>\n",
       "      <td>0.400277</td>\n",
       "      <td>0.009972</td>\n",
       "      <td>0.000258</td>\n",
       "    </tr>\n",
       "    <tr>\n",
       "      <th>0.778947</th>\n",
       "      <td>0.448753</td>\n",
       "      <td>0.002493</td>\n",
       "      <td>0.000008</td>\n",
       "    </tr>\n",
       "    <tr>\n",
       "      <th>0.800000</th>\n",
       "      <td>0.500000</td>\n",
       "      <td>0.000000</td>\n",
       "      <td>0.000000</td>\n",
       "    </tr>\n",
       "    <tr>\n",
       "      <th>1.000000</th>\n",
       "      <td>1.000000</td>\n",
       "      <td>0.000000</td>\n",
       "      <td>0.000000</td>\n",
       "    </tr>\n",
       "  </tbody>\n",
       "</table>\n",
       "</div>"
      ],
      "text/plain": [
       "               krw       kro       pcwo\n",
       "sw                                     \n",
       "0.400000  0.000000  0.900000  20.000000\n",
       "0.421053  0.001385  0.807756  15.262459\n",
       "0.442105  0.005540  0.720499  11.468499\n",
       "0.463158  0.012465  0.638227   8.469581\n",
       "0.484211  0.022161  0.560942   6.133640\n",
       "0.505263  0.034626  0.488643   4.344124\n",
       "0.526316  0.049861  0.421330   2.999016\n",
       "0.547368  0.067867  0.359003   2.009871\n",
       "0.568421  0.088643  0.301662   1.300845\n",
       "0.589474  0.112188  0.249307   0.807722\n",
       "0.610526  0.138504  0.201939   0.476952\n",
       "0.631579  0.167590  0.159557   0.264674\n",
       "0.652632  0.199446  0.122161   0.135754\n",
       "0.673684  0.234072  0.089751   0.062808\n",
       "0.694737  0.271468  0.062327   0.025241\n",
       "0.715789  0.311634  0.039889   0.008271\n",
       "0.736842  0.354571  0.022438   0.001963\n",
       "0.757895  0.400277  0.009972   0.000258\n",
       "0.778947  0.448753  0.002493   0.000008\n",
       "0.800000  0.500000  0.000000   0.000000\n",
       "1.000000  1.000000  0.000000   0.000000"
      ]
     },
     "execution_count": 5,
     "metadata": {},
     "output_type": "execute_result"
    }
   ],
   "source": [
    "kr.build_kr(n=20)\n",
    "kr.kr"
   ]
  },
  {
   "cell_type": "code",
   "execution_count": 6,
   "metadata": {},
   "outputs": [
    {
     "data": {
      "image/png": "[encoded data removed]",
      "text/plain": [
       "<Figure size 432x288 with 1 Axes>"
      ]
     },
     "metadata": {
      "needs_background": "light"
     },
     "output_type": "display_data"
    }
   ],
   "source": [
    "kr.plot(ann=True, pc=False)"
   ]
  },
  {
   "cell_type": "code",
   "execution_count": 8,
   "metadata": {},
   "outputs": [
    {
     "data": {
      "image/png": "[encoded data removed]",
      "text/plain": [
       "<Figure size 432x288 with 1 Axes>"
      ]
     },
     "metadata": {
      "needs_background": "light"
     },
     "output_type": "display_data"
    }
   ],
   "source": [
    "kr.plot(kr=False, pc=True)"
   ]
  },
  {
   "cell_type": "code",
   "execution_count": 9,
   "metadata": {},
   "outputs": [
    {
     "data": {
      "image/png": "[encoded data removed]",
      "text/plain": [
       "<Figure size 432x288 with 2 Axes>"
      ]
     },
     "metadata": {
      "needs_background": "light"
     },
     "output_type": "display_data"
    }
   ],
   "source": [
    "kr.plot(pc=True, ann=False)"
   ]
  },
  {
   "cell_type": "code",
   "execution_count": null,
   "metadata": {},
   "outputs": [],
   "source": []
  }
 ],
 "metadata": {
  "kernelspec": {
   "display_name": "Python 3",
   "language": "python",
   "name": "python3"
  },
  "language_info": {
   "codemirror_mode": {
    "name": "ipython",
    "version": 3
   },
   "file_extension": ".py",
   "mimetype": "text/x-python",
   "name": "python",
   "nbconvert_exporter": "python",
   "pygments_lexer": "ipython3",
   "version": "3.7.5"
  }
 },
 "nbformat": 4,
 "nbformat_minor": 4
}
