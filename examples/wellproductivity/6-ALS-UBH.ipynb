{
 "cells": [
  {
   "cell_type": "code",
   "execution_count": 23,
   "metadata": {},
   "outputs": [],
   "source": [
    "import os\n",
    "path = os.path.join('/home/santiago/Documents/dev/reservoirpy')\n",
    "import sys\n",
    "sys.path.insert(0,path)\n",
    "from reservoirpy.pvtpy import black_oil as bl\n",
    "from reservoirpy.wellproductivitypy import pi\n",
    "import pandas as pd\n",
    "import numpy as np\n",
    "import matplotlib.pyplot as plt\n",
    "import pandas as pd"
   ]
  },
  {
   "cell_type": "code",
   "execution_count": 24,
   "metadata": {},
   "outputs": [],
   "source": [
    "ubh = pi.ubh(\n",
    "    brand='brand', \n",
    "    surf_to_pump_depth=4500,\n",
    "    pump_to_perf_depth=5820,\n",
    "    injection_di=1.6,\n",
    "    return_di=2.3087,\n",
    "    prod_di=1.99,\n",
    "    nozzle=4.02, \n",
    "    throat=6.09,\n",
    "    power_fluid_ge=1\n",
    ")"
   ]
  },
  {
   "cell_type": "code",
   "execution_count": 25,
   "metadata": {},
   "outputs": [
    {
     "data": {
      "text/plain": [
       "True"
      ]
     },
     "execution_count": 25,
     "metadata": {},
     "output_type": "execute_result"
    }
   ],
   "source": [
    "issubclass(type(ubh),pi.als)"
   ]
  },
  {
   "cell_type": "code",
   "execution_count": 26,
   "metadata": {},
   "outputs": [
    {
     "data": {
      "text/plain": [
       "0.025476745526896858"
      ]
     },
     "execution_count": 26,
     "metadata": {},
     "output_type": "execute_result"
    }
   ],
   "source": [
    "ubh.annulus_area()"
   ]
  },
  {
   "cell_type": "code",
   "execution_count": 27,
   "metadata": {},
   "outputs": [
    {
     "data": {
      "text/plain": [
       "0.01967317948999957"
      ]
     },
     "execution_count": 27,
     "metadata": {},
     "output_type": "execute_result"
    }
   ],
   "source": [
    "ubh.get_area('nozzle')"
   ]
  },
  {
   "cell_type": "code",
   "execution_count": 28,
   "metadata": {},
   "outputs": [
    {
     "data": {
      "text/plain": [
       "0.04514992501689643"
      ]
     },
     "execution_count": 28,
     "metadata": {},
     "output_type": "execute_result"
    }
   ],
   "source": [
    "ubh.get_area('throat')"
   ]
  },
  {
   "cell_type": "code",
   "execution_count": 29,
   "metadata": {},
   "outputs": [
    {
     "data": {
      "text/plain": [
       "array([4500.        , 4594.28571429, 4688.57142857, 4782.85714286,\n",
       "       4877.14285714, 4971.42857143, 5065.71428571, 5160.        ,\n",
       "       5254.28571429, 5348.57142857, 5442.85714286, 5537.14285714,\n",
       "       5631.42857143, 5725.71428571, 5820.        ])"
      ]
     },
     "execution_count": 29,
     "metadata": {},
     "output_type": "execute_result"
    }
   ],
   "source": [
    "ubh.pump_to_perf_depth"
   ]
  },
  {
   "cell_type": "code",
   "execution_count": 30,
   "metadata": {},
   "outputs": [
    {
     "data": {
      "text/plain": [
       "array([1.6, 1.6, 1.6, 1.6, 1.6, 1.6, 1.6, 1.6, 1.6, 1.6, 1.6, 1.6, 1.6,\n",
       "       1.6, 1.6])"
      ]
     },
     "execution_count": 30,
     "metadata": {},
     "output_type": "execute_result"
    }
   ],
   "source": [
    "ubh.injection_di"
   ]
  },
  {
   "cell_type": "code",
   "execution_count": 31,
   "metadata": {},
   "outputs": [
    {
     "data": {
      "text/plain": [
       "0.43573005896770123"
      ]
     },
     "execution_count": 31,
     "metadata": {},
     "output_type": "execute_result"
    }
   ],
   "source": [
    "ubh.fad()"
   ]
  },
  {
   "cell_type": "markdown",
   "metadata": {},
   "source": [
    "# Example"
   ]
  },
  {
   "cell_type": "markdown",
   "metadata": {},
   "source": [
    "## Fluids Properties (Oil, Gas, Water)"
   ]
  },
  {
   "cell_type": "code",
   "execution_count": 32,
   "metadata": {},
   "outputs": [
    {
     "name": "stdout",
     "output_type": "stream",
     "text": [
      "             bo     rs     muo        co   rhoo  tension\n",
      "pressure                                                \n",
      "2570.0    1.126  287.0   5.796  0.000007  0.839       30\n",
      "2500.0    1.127  287.0   5.750  0.000007  0.838       30\n",
      "2400.0    1.128  287.0   5.697  0.000007  0.838       30\n",
      "2300.0    1.128  287.0   5.644  0.000008  0.837       30\n",
      "2200.0    1.129  287.0   5.591  0.000012  0.836       30\n",
      "2174.0    1.133  287.0   5.538       NaN  0.836       30\n",
      "1850.0    1.121  242.0   6.888       NaN  0.841       30\n",
      "1550.0    1.107  205.0   8.095       NaN  0.846       30\n",
      "1250.0    1.094  167.0   9.306       NaN  0.852       30\n",
      "950.0     1.081  128.0  10.595       NaN  0.858       30\n",
      "650.0     1.067   88.0  12.093       NaN  0.864       30\n",
      "350.0     1.052   45.0  14.088       NaN  0.871       30\n",
      "150.0     1.041   19.0  16.102       NaN  0.876       30\n",
      "80.0      1.038    8.0  17.131       NaN  0.877       30\n",
      "0.0       1.027    0.0  19.135       NaN  0.884       30\n"
     ]
    }
   ],
   "source": [
    "oil = bl.oil(\n",
    "    formation = 'fm',\n",
    "    pb = 2174,\n",
    "    api = 24.4,\n",
    "    rsb = 287,\n",
    "    sg_gas = 0.6,\n",
    "    temp = 122\n",
    ")\n",
    "\n",
    "#Read the csv file\n",
    "oil_pvt_df = pd.read_csv('pvt.csv', index_col='pressure')\n",
    "\n",
    "#Interpolate for the missing values of muo\n",
    "oil_pvt_df['muo'] = oil_pvt_df['muo'].interpolate(method='linear')\n",
    "oil_pvt_df['tension'] = 30\n",
    "\n",
    "#Create oil pvt object\n",
    "oil_pvt = bl.pvt(oil_pvt_df)\n",
    "\n",
    "oil.pvt = oil_pvt\n",
    "\n",
    "print(oil.pvt)"
   ]
  },
  {
   "cell_type": "code",
   "execution_count": 33,
   "metadata": {},
   "outputs": [
    {
     "name": "stdout",
     "output_type": "stream",
     "text": [
      "                mole_fraction formula        mw     ppc     tpc\n",
      "compound                                                       \n",
      "carbon-dioxide         0.0194     CO2   44.0100  1071.0   87.91\n",
      "nitrogen               0.0040      N2   28.0134   493.1 -232.51\n",
      "methane                0.9598     CH4   16.0430   666.4 -116.67\n",
      "ethane                 0.0023    C2H6   30.0700   706.5   89.92\n",
      "propane                0.0057    C3H8   44.0970   616.0  206.06\n",
      "isobutane              0.0062   C4H10   58.1230   527.9  274.46\n",
      "n-butane               0.0006   C4H10   58.1230   550.6  305.62\n",
      "isopentane             0.0003   C5H12   72.1500   490.4  369.10\n",
      "n-pentane              0.0001   C5H12   73.1500   488.6  385.80\n",
      "n-hexane               0.0005   C6H14   86.1770   436.9  453.60\n",
      "n-heptane              0.0010   C7H16  100.2040   396.8  512.70\n",
      "n-octane               0.0001   C8H18  114.2310   360.7  564.22\n",
      "                    z      rhog        bg       mug        cg\n",
      "pressure                                                     \n",
      "20.000000    0.998581  0.055367  0.146165  0.012234  0.050000\n",
      "154.210526   0.989244  0.430936  0.018779  0.012317  0.006485\n",
      "288.421053   0.980233  0.813392  0.009949  0.012437  0.003467\n",
      "422.631579   0.971549  1.202539  0.006730  0.012581  0.002366\n",
      "556.842105   0.963192  1.598164  0.005064  0.012746  0.001796\n",
      "691.052632   0.955161  2.000031  0.004046  0.012931  0.001447\n",
      "825.263158   0.947457  2.407882  0.003361  0.013134  0.001212\n",
      "959.473684   0.940080  2.821439  0.002868  0.013356  0.001042\n",
      "1093.684211  0.933028  3.240405  0.002497  0.013596  0.000914\n",
      "1227.894737  0.926304  3.664459  0.002208  0.013854  0.000814\n",
      "1362.105263  0.919906  4.093260  0.001977  0.014130  0.000734\n",
      "1496.315789  0.913835  4.526450  0.001788  0.014425  0.000668\n",
      "1630.526316  0.908090  4.963649  0.001630  0.014738  0.000613\n",
      "1764.736842  0.902672  5.404459  0.001497  0.015071  0.000567\n",
      "1898.947368  0.897580  5.848464  0.001384  0.015423  0.000527\n",
      "2033.157895  0.892815  6.295231  0.001286  0.015794  0.000492\n",
      "2167.368421  0.888377  6.744313  0.001200  0.016186  0.000461\n",
      "2301.578947  0.884265  7.195246  0.001125  0.016598  0.000434\n",
      "2435.789474  0.880480  7.647555  0.001058  0.017031  0.000411\n",
      "2570.000000  0.877021  8.100752  0.000999  0.017485  0.000389\n",
      "{'cp_correction': 'wichert-aziz', 'z': 'papay', 'rhog': 'real_gas', 'bg': {'unit': 'bbl/scf'}, 'mug': 'lee_gonzalez', 'cg': 'ideal_gas'}\n"
     ]
    }
   ],
   "source": [
    "composition_dict = {\n",
    "    'mole_fraction':[0.0194,0.004,0.9598,0.0023,0.0057,0.0062,0.0006,0.0003,0.0001,0.0005,0.001,0.0001],\n",
    "    'compound':['carbon-dioxide','nitrogen','methane','ethane','propane','isobutane','n-butane','isopentane','n-pentane','n-hexane','n-heptane','n-octane']\n",
    "     }\n",
    "\n",
    "\n",
    "composition=bl.chromatography(composition_dict,normalize=True)\n",
    "print(composition)\n",
    "\n",
    "fm = 'fm'\n",
    "t= 122\n",
    "gas = bl.gas(formation=fm, temp=t, chromatography=composition)\n",
    "gas.pvt_from_correlations(end_pressure=2570)\n",
    "print(gas.pvt)\n",
    "print(gas.correlations)"
   ]
  },
  {
   "cell_type": "code",
   "execution_count": 34,
   "metadata": {},
   "outputs": [
    {
     "name": "stdout",
     "output_type": "stream",
     "text": [
      "                   rsw        cw        bw       muw       rhow  tension\n",
      "pressure                                                                \n",
      "20.000000     3.245692  0.000003  1.014461  0.602674  61.519059       30\n",
      "154.210526    3.915812  0.000003  1.014374  0.602674  61.524338       30\n",
      "288.421053    4.578329  0.000003  1.014278  0.602674  61.530164       30\n",
      "422.631579    5.233244  0.000003  1.014173  0.602674  61.536537       30\n",
      "556.842105    5.880557  0.000003  1.014059  0.602674  61.543458       30\n",
      "691.052632    6.520268  0.000003  1.013936  0.602674  61.550928       30\n",
      "825.263158    7.152377  0.000003  1.013803  0.602674  61.558946       30\n",
      "959.473684    7.776883  0.000003  1.013662  0.602674  61.567514       30\n",
      "1093.684211   8.393787  0.000003  1.013512  0.602674  61.576631       30\n",
      "1227.894737   9.003088  0.000003  1.013353  0.602674  61.586298       30\n",
      "1362.105263   9.604787  0.000003  1.013185  0.602674  61.596515       30\n",
      "1496.315789  10.198884  0.000003  1.013008  0.602674  61.607284       30\n",
      "1630.526316  10.785379  0.000003  1.012822  0.602674  61.618604       30\n",
      "1764.736842  11.364271  0.000003  1.012627  0.602674  61.630477       30\n",
      "1898.947368  11.935561  0.000003  1.012423  0.602674  61.642902       30\n",
      "2033.157895  12.499249  0.000003  1.012210  0.602674  61.655881       30\n",
      "2167.368421  13.055335  0.000003  1.011987  0.602674  61.669415       30\n",
      "2301.578947  13.603818  0.000003  1.011550  0.602674  61.696068       30\n",
      "2435.789474  14.144699  0.000003  1.011102  0.602674  61.723413       30\n",
      "2570.000000  14.677977  0.000003  1.010654  0.602674  61.750775       30\n"
     ]
    }
   ],
   "source": [
    "water = bl.water(\n",
    "    formation='fm',\n",
    "    pb=2174,\n",
    "    salinity=200, \n",
    "    temp=122\n",
    ")\n",
    "water.pvt_from_correlations(end_pressure=2570)\n",
    "water.pvt['tension'] = 30\n",
    "print(water.pvt)"
   ]
  },
  {
   "cell_type": "markdown",
   "metadata": {},
   "source": [
    "## Inflow curve"
   ]
  },
  {
   "cell_type": "code",
   "execution_count": 46,
   "metadata": {},
   "outputs": [
    {
     "data": {
      "image/png": "[encoded data removed]",
      "text/plain": [
       "<Figure size 432x288 with 1 Axes>"
      ]
     },
     "metadata": {
      "needs_background": "light"
     },
     "output_type": "display_data"
    }
   ],
   "source": [
    "well_pi = pi.oil_inflow(\n",
    "        pr = 1000,\n",
    "        j = 1.2,\n",
    "        pb = 1000,\n",
    ")\n",
    "\n",
    "well_pi.plot()"
   ]
  },
  {
   "cell_type": "code",
   "execution_count": 48,
   "metadata": {},
   "outputs": [
    {
     "name": "stdout",
     "output_type": "stream",
     "text": [
      "422.53964837594845\n",
      "           qs         qo    qg          gor         glr           qn  \\\n",
      "0  256.000000  46.080000  73.0  1584.201389  285.156250  1684.167116   \n",
      "1  459.429577  82.697324  73.0   882.737151  158.892687  1723.247126   \n",
      "2  385.827500  69.448950  73.0  1051.131802  189.203724  1707.488195   \n",
      "3  434.924097  78.286337  73.0   932.474329  167.845379  1717.968462   \n",
      "4  411.677238  74.101903  73.0   985.129898  177.323382  1712.940892   \n",
      "5  422.539648  76.057137  73.0   959.804736  172.764852     0.000000   \n",
      "\n",
      "          pwf           pn         pps           qd  ...       mur  \\\n",
      "0  760.966862  5115.167566  530.978700  1940.167116  ...  1.026763   \n",
      "1  510.301619  5074.998908  275.595442  2182.676702  ...  1.279202   \n",
      "2  610.892386  5080.514352  368.489692  2093.315695  ...  1.195073   \n",
      "3  545.448649  5076.851485  306.806125  2152.892559  ...  1.251977   \n",
      "4  577.610566  5078.611157  336.443661  2124.618130  ...  1.225450   \n",
      "5    0.000000     0.000000    0.000000     0.000000  ...  0.000000   \n",
      "\n",
      "           ppd     fmfd1     fmfd2       fpd       acm  cav        gs  it_qn  \\\n",
      "0  1726.190465  0.672911  0.374955  0.352676  0.012288  0.0  0.174233    1.0   \n",
      "1  1769.334634  0.592499  0.705527  0.451873  0.027634  1.0  0.177808    2.0   \n",
      "2  1742.583720  0.624095  0.553644  0.411660  0.020502  0.0  0.183638    2.0   \n",
      "3  1751.861120  0.605908  0.640123  0.434604  0.024931  0.0  0.180790    2.0   \n",
      "4  1747.464732  0.614590  0.598790  0.423584  0.022686  0.0  0.182702    2.0   \n",
      "5     0.000000  0.000000  0.000000  0.000000  0.000000  0.0  0.000000    0.0   \n",
      "\n",
      "      error  \n",
      "0  0.794647  \n",
      "1  0.160203  \n",
      "2  0.127250  \n",
      "3  0.053450  \n",
      "4  0.026386  \n",
      "5  0.000000  \n",
      "\n",
      "[6 rows x 23 columns]\n"
     ]
    }
   ],
   "source": [
    "df, qs = ubh.flow_match(\n",
    "        injection_pressure=3450,\n",
    "        injection_rate = 1659,\n",
    "        mu_inj = 1,\n",
    "        return_pressure = 27,\n",
    "        liquid_rate_guess = 256,\n",
    "        bsw = 0.82,\n",
    "        gas_rate = 73,\n",
    "        gor = None,\n",
    "        glr = None,\n",
    "        inflow = well_pi,\n",
    "        oil_obj=oil,\n",
    "        gas_obj=gas,\n",
    "        water_obj=water, \n",
    "        epsilon = 0.0006,\n",
    "        surface_temperature=80, \n",
    "        temperature_gradient=1, \n",
    "        max_iter = 20,\n",
    "        max_iter_profile = 20,\n",
    "        max_iter_qn = 20,\n",
    "        tol = 0.03,\n",
    "        tol_profile = 0.05,\n",
    "        tol_qn = 0.15,\n",
    "        method_profile = 'hagedorn_brown'\n",
    "    )\n",
    "\n",
    "print(qs)\n",
    "print(df)"
   ]
  },
  {
   "cell_type": "code",
   "execution_count": 37,
   "metadata": {},
   "outputs": [
    {
     "data": {
      "text/plain": [
       "474.17066742962663"
      ]
     },
     "execution_count": 37,
     "metadata": {},
     "output_type": "execute_result"
    }
   ],
   "source": [
    "qs"
   ]
  },
  {
   "cell_type": "code",
   "execution_count": null,
   "metadata": {},
   "outputs": [],
   "source": []
  }
 ],
 "metadata": {
  "kernelspec": {
   "display_name": "Python 3",
   "language": "python",
   "name": "python3"
  },
  "language_info": {
   "codemirror_mode": {
    "name": "ipython",
    "version": 3
   },
   "file_extension": ".py",
   "mimetype": "text/x-python",
   "name": "python",
   "nbconvert_exporter": "python",
   "pygments_lexer": "ipython3",
   "version": "3.7.5"
  }
 },
 "nbformat": 4,
 "nbformat_minor": 4
}
