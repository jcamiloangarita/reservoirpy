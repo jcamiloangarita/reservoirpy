{
 "cells": [
  {
   "cell_type": "code",
   "execution_count": 1,
   "metadata": {},
   "outputs": [],
   "source": [
    "import os\n",
    "path = os.path.join('/home/scuervo/Documents/dev/reservoirpy')\n",
    "import sys\n",
    "sys.path.insert(0,path)\n",
    "\n",
    "import numpy as np\n",
    "from datetime import date, timedelta\n",
    "import pandas as pd\n",
    "import matplotlib.pyplot as plt\n",
    "import seaborn as sns\n",
    "from reservoirpy.wellproductivitypy import decline as dc\n",
    "from reservoirpy.wellpy import path as ph\n"
   ]
  },
  {
   "cell_type": "code",
   "execution_count": 16,
   "metadata": {},
   "outputs": [],
   "source": [
    "pr1 = ph.well(name='pr-1',fq='A')\n",
    "\n",
    "\n",
    "p90 = {\n",
    "    'initial':{\n",
    "        'declination':dc.declination(qi=3000, b=0, di=0.4, ti=date(2021,1,1), start_date=date(2021,1,1),end_date=date(2030,1,1),\n",
    "                                     econ_limit=200, fluid_rate=2500,fq='M'),\n",
    "        'capex':-4000\n",
    "}}\n",
    "\n",
    "p50 = {\n",
    "    'initial':{\n",
    "        'declination':dc.declination(qi=3000, b=0.5, di=0.4, ti=date(2021,1,1), start_date=date(2021,1,1),end_date=date(2030,1,1),\n",
    "                                     econ_limit=200, fluid_rate=2500,fq='M'),\n",
    "        'capex':-4000\n",
    "}}\n",
    "\n",
    "p10 = {\n",
    "    'initial':{\n",
    "        'declination':dc.declination(qi=3000, b=1, di=0.4, ti=date(2021,1,1), start_date=date(2021,1,1),end_date=date(2030,1,1),\n",
    "                                     econ_limit=200, fluid_rate=2500,fq='M'),\n",
    "        'capex':-4000\n",
    "}}\n",
    "\n",
    "pr1.add_schedule(\n",
    "    {\n",
    "        'p90':p90,\n",
    "        'p50':p50,\n",
    "        'p10':p10\n",
    "    }\n",
    ")\n",
    "\n"
   ]
  },
  {
   "cell_type": "code",
   "execution_count": 17,
   "metadata": {},
   "outputs": [
    {
     "data": {
      "text/html": [
       "<div>\n",
       "<style scoped>\n",
       "    .dataframe tbody tr th:only-of-type {\n",
       "        vertical-align: middle;\n",
       "    }\n",
       "\n",
       "    .dataframe tbody tr th {\n",
       "        vertical-align: top;\n",
       "    }\n",
       "\n",
       "    .dataframe thead th {\n",
       "        text-align: right;\n",
       "    }\n",
       "</style>\n",
       "<table border=\"1\" class=\"dataframe\">\n",
       "  <thead>\n",
       "    <tr style=\"text-align: right;\">\n",
       "      <th></th>\n",
       "      <th>qo</th>\n",
       "      <th>vo</th>\n",
       "      <th>np</th>\n",
       "      <th>period</th>\n",
       "      <th>case</th>\n",
       "    </tr>\n",
       "    <tr>\n",
       "      <th>time</th>\n",
       "      <th></th>\n",
       "      <th></th>\n",
       "      <th></th>\n",
       "      <th></th>\n",
       "      <th></th>\n",
       "    </tr>\n",
       "  </thead>\n",
       "  <tbody>\n",
       "    <tr>\n",
       "      <th>2021-01-31</th>\n",
       "      <td>2902.97</td>\n",
       "      <td>81283.26</td>\n",
       "      <td>81283.26</td>\n",
       "      <td>initial</td>\n",
       "      <td>p90</td>\n",
       "    </tr>\n",
       "    <tr>\n",
       "      <th>2021-02-28</th>\n",
       "      <td>2815.25</td>\n",
       "      <td>87272.71</td>\n",
       "      <td>168555.97</td>\n",
       "      <td>initial</td>\n",
       "      <td>p90</td>\n",
       "    </tr>\n",
       "    <tr>\n",
       "      <th>2021-03-31</th>\n",
       "      <td>2721.21</td>\n",
       "      <td>81636.41</td>\n",
       "      <td>250192.39</td>\n",
       "      <td>initial</td>\n",
       "      <td>p90</td>\n",
       "    </tr>\n",
       "    <tr>\n",
       "      <th>2021-04-30</th>\n",
       "      <td>2633.20</td>\n",
       "      <td>81629.32</td>\n",
       "      <td>331821.71</td>\n",
       "      <td>initial</td>\n",
       "      <td>p90</td>\n",
       "    </tr>\n",
       "    <tr>\n",
       "      <th>2021-05-31</th>\n",
       "      <td>2545.25</td>\n",
       "      <td>76357.49</td>\n",
       "      <td>408179.20</td>\n",
       "      <td>initial</td>\n",
       "      <td>p90</td>\n",
       "    </tr>\n",
       "    <tr>\n",
       "      <th>...</th>\n",
       "      <td>...</td>\n",
       "      <td>...</td>\n",
       "      <td>...</td>\n",
       "      <td>...</td>\n",
       "      <td>...</td>\n",
       "    </tr>\n",
       "    <tr>\n",
       "      <th>2029-07-31</th>\n",
       "      <td>676.68</td>\n",
       "      <td>20977.01</td>\n",
       "      <td>4043113.79</td>\n",
       "      <td>initial</td>\n",
       "      <td>p10</td>\n",
       "    </tr>\n",
       "    <tr>\n",
       "      <th>2029-08-31</th>\n",
       "      <td>671.53</td>\n",
       "      <td>20145.96</td>\n",
       "      <td>4063259.75</td>\n",
       "      <td>initial</td>\n",
       "      <td>p10</td>\n",
       "    </tr>\n",
       "    <tr>\n",
       "      <th>2029-09-30</th>\n",
       "      <td>666.63</td>\n",
       "      <td>20665.41</td>\n",
       "      <td>4083925.16</td>\n",
       "      <td>initial</td>\n",
       "      <td>p10</td>\n",
       "    </tr>\n",
       "    <tr>\n",
       "      <th>2029-10-31</th>\n",
       "      <td>661.63</td>\n",
       "      <td>19848.94</td>\n",
       "      <td>4103774.10</td>\n",
       "      <td>initial</td>\n",
       "      <td>p10</td>\n",
       "    </tr>\n",
       "    <tr>\n",
       "      <th>2029-11-30</th>\n",
       "      <td>656.87</td>\n",
       "      <td>20362.93</td>\n",
       "      <td>4124137.03</td>\n",
       "      <td>initial</td>\n",
       "      <td>p10</td>\n",
       "    </tr>\n",
       "  </tbody>\n",
       "</table>\n",
       "<p>294 rows × 5 columns</p>\n",
       "</div>"
      ],
      "text/plain": [
       "                 qo        vo          np   period case\n",
       "time                                                   \n",
       "2021-01-31  2902.97  81283.26    81283.26  initial  p90\n",
       "2021-02-28  2815.25  87272.71   168555.97  initial  p90\n",
       "2021-03-31  2721.21  81636.41   250192.39  initial  p90\n",
       "2021-04-30  2633.20  81629.32   331821.71  initial  p90\n",
       "2021-05-31  2545.25  76357.49   408179.20  initial  p90\n",
       "...             ...       ...         ...      ...  ...\n",
       "2029-07-31   676.68  20977.01  4043113.79  initial  p10\n",
       "2029-08-31   671.53  20145.96  4063259.75  initial  p10\n",
       "2029-09-30   666.63  20665.41  4083925.16  initial  p10\n",
       "2029-10-31   661.63  19848.94  4103774.10  initial  p10\n",
       "2029-11-30   656.87  20362.93  4124137.03  initial  p10\n",
       "\n",
       "[294 rows x 5 columns]"
      ]
     },
     "execution_count": 17,
     "metadata": {},
     "output_type": "execute_result"
    }
   ],
   "source": [
    "f1 = pr1.schedule_forecast()\n",
    "f1"
   ]
  },
  {
   "cell_type": "code",
   "execution_count": 18,
   "metadata": {},
   "outputs": [
    {
     "data": {
      "text/plain": [
       "<AxesSubplot:xlabel='time', ylabel='qo'>"
      ]
     },
     "execution_count": 18,
     "metadata": {},
     "output_type": "execute_result"
    },
    {
     "data": {
      "image/png": "[encoded data removed]",
      "text/plain": [
       "<Figure size 432x288 with 1 Axes>"
      ]
     },
     "metadata": {
      "needs_background": "light"
     },
     "output_type": "display_data"
    }
   ],
   "source": [
    "sns.lineplot(data=f1, x=f1.index, y='qo', hue='case')"
   ]
  },
  {
   "cell_type": "code",
   "execution_count": 19,
   "metadata": {},
   "outputs": [
    {
     "data": {
      "text/plain": [
       "{'p90': {'capex': <reservoirpy.cashflows.timeseries.cash at 0x7fb023f5aca0>,\n",
       "  'depreciation': <reservoirpy.cashflows.timeseries.cash at 0x7fb023f55eb0>},\n",
       " 'p50': {'capex': <reservoirpy.cashflows.timeseries.cash at 0x7fb023f82280>,\n",
       "  'depreciation': <reservoirpy.cashflows.timeseries.cash at 0x7fb023f55e80>},\n",
       " 'p10': {'capex': <reservoirpy.cashflows.timeseries.cash at 0x7fb023f82220>,\n",
       "  'depreciation': <reservoirpy.cashflows.timeseries.cash at 0x7fb0240437f0>}}"
      ]
     },
     "execution_count": 19,
     "metadata": {},
     "output_type": "execute_result"
    }
   ],
   "source": [
    "pr1.cashflow"
   ]
  }
 ],
 "metadata": {
  "kernelspec": {
   "display_name": "Python 3",
   "language": "python",
   "name": "python3"
  },
  "language_info": {
   "codemirror_mode": {
    "name": "ipython",
    "version": 3
   },
   "file_extension": ".py",
   "mimetype": "text/x-python",
   "name": "python",
   "nbconvert_exporter": "python",
   "pygments_lexer": "ipython3",
   "version": "3.8.5"
  }
 },
 "nbformat": 4,
 "nbformat_minor": 4
}
