{
 "cells": [
  {
   "cell_type": "code",
   "execution_count": 1,
   "metadata": {},
   "outputs": [],
   "source": [
    "import sys\n",
    "import os\n",
    "path = os.path.abspath(os.path.join('..','..'))\n",
    "sys.path.append(path)\n",
    "\n",
    "import numpy as np\n",
    "from datetime import date, timedelta\n",
    "import pandas as pd\n",
    "import matplotlib.pyplot as plt\n",
    "from reservoirpy.wellproductivitypy import decline as dc"
   ]
  },
  {
   "cell_type": "code",
   "execution_count": 13,
   "metadata": {},
   "outputs": [],
   "source": [
    "w = dc.wor_declination(slope=2e-6,bsw_i=0.94)"
   ]
  },
  {
   "cell_type": "code",
   "execution_count": 27,
   "metadata": {},
   "outputs": [],
   "source": [
    "f= w.forecast(start_date=date(2020,5,21), end_date=date(2025,6,21),fq='2M', fluid_rate=5000)"
   ]
  },
  {
   "cell_type": "code",
   "execution_count": 28,
   "metadata": {},
   "outputs": [
    {
     "data": {
      "image/png": "[encoded data removed]",
      "text/plain": [
       "<Figure size 432x288 with 1 Axes>"
      ]
     },
     "metadata": {
      "needs_background": "light"
     },
     "output_type": "display_data"
    }
   ],
   "source": [
    "plt.plot(f['np'], f['wor'])\n",
    "plt.yscale('log')"
   ]
  },
  {
   "cell_type": "code",
   "execution_count": 4,
   "metadata": {},
   "outputs": [
    {
     "data": {
      "text/html": [
       "<div>\n",
       "<style scoped>\n",
       "    .dataframe tbody tr th:only-of-type {\n",
       "        vertical-align: middle;\n",
       "    }\n",
       "\n",
       "    .dataframe tbody tr th {\n",
       "        vertical-align: top;\n",
       "    }\n",
       "\n",
       "    .dataframe thead th {\n",
       "        text-align: right;\n",
       "    }\n",
       "</style>\n",
       "<table border=\"1\" class=\"dataframe\">\n",
       "  <thead>\n",
       "    <tr style=\"text-align: right;\">\n",
       "      <th></th>\n",
       "      <th>qf</th>\n",
       "      <th>qo</th>\n",
       "      <th>qw</th>\n",
       "      <th>bsw</th>\n",
       "      <th>wor_1</th>\n",
       "      <th>wor</th>\n",
       "      <th>np</th>\n",
       "    </tr>\n",
       "  </thead>\n",
       "  <tbody>\n",
       "    <tr>\n",
       "      <th>2020-05-21</th>\n",
       "      <td>1000</td>\n",
       "      <td>909.090909</td>\n",
       "      <td>90.909091</td>\n",
       "      <td>0.090909</td>\n",
       "      <td>1.100000</td>\n",
       "      <td>0.100000</td>\n",
       "      <td>909.090909</td>\n",
       "    </tr>\n",
       "    <tr>\n",
       "      <th>2020-05-23</th>\n",
       "      <td>1000</td>\n",
       "      <td>889.471012</td>\n",
       "      <td>110.528988</td>\n",
       "      <td>0.110529</td>\n",
       "      <td>1.124264</td>\n",
       "      <td>0.124264</td>\n",
       "      <td>2688.032933</td>\n",
       "    </tr>\n",
       "    <tr>\n",
       "      <th>2020-05-25</th>\n",
       "      <td>1000</td>\n",
       "      <td>852.294657</td>\n",
       "      <td>147.705343</td>\n",
       "      <td>0.147705</td>\n",
       "      <td>1.173303</td>\n",
       "      <td>0.173303</td>\n",
       "      <td>4392.622247</td>\n",
       "    </tr>\n",
       "    <tr>\n",
       "      <th>2020-05-27</th>\n",
       "      <td>1000</td>\n",
       "      <td>818.130750</td>\n",
       "      <td>181.869250</td>\n",
       "      <td>0.181869</td>\n",
       "      <td>1.222299</td>\n",
       "      <td>0.222299</td>\n",
       "      <td>6028.883748</td>\n",
       "    </tr>\n",
       "    <tr>\n",
       "      <th>2020-05-29</th>\n",
       "      <td>1000</td>\n",
       "      <td>786.625195</td>\n",
       "      <td>213.374805</td>\n",
       "      <td>0.213375</td>\n",
       "      <td>1.271253</td>\n",
       "      <td>0.271253</td>\n",
       "      <td>7602.134137</td>\n",
       "    </tr>\n",
       "  </tbody>\n",
       "</table>\n",
       "</div>"
      ],
      "text/plain": [
       "              qf          qo          qw       bsw     wor_1       wor  \\\n",
       "2020-05-21  1000  909.090909   90.909091  0.090909  1.100000  0.100000   \n",
       "2020-05-23  1000  889.471012  110.528988  0.110529  1.124264  0.124264   \n",
       "2020-05-25  1000  852.294657  147.705343  0.147705  1.173303  0.173303   \n",
       "2020-05-27  1000  818.130750  181.869250  0.181869  1.222299  0.222299   \n",
       "2020-05-29  1000  786.625195  213.374805  0.213375  1.271253  0.271253   \n",
       "\n",
       "                     np  \n",
       "2020-05-21   909.090909  \n",
       "2020-05-23  2688.032933  \n",
       "2020-05-25  4392.622247  \n",
       "2020-05-27  6028.883748  \n",
       "2020-05-29  7602.134137  "
      ]
     },
     "execution_count": 4,
     "metadata": {},
     "output_type": "execute_result"
    }
   ],
   "source": [
    "range_time = pd.Series(pd.date_range(start=date(2020,5,21),end=date(2020,5,30),freq='2D'))\n",
    "fluid_rate = np.full(range_time.shape,1000)\n",
    "slope = 2.4e-5\n",
    "wor_i = 0.1\n",
    "\n",
    "forecast = dc.wor_forecast(range_time,fluid_rate, slope, wor_i)\n",
    "forecast"
   ]
  },
  {
   "cell_type": "code",
   "execution_count": null,
   "metadata": {},
   "outputs": [],
   "source": []
  },
  {
   "cell_type": "code",
   "execution_count": null,
   "metadata": {},
   "outputs": [],
   "source": []
  }
 ],
 "metadata": {
  "kernelspec": {
   "display_name": "Python 3",
   "language": "python",
   "name": "python3"
  },
  "language_info": {
   "codemirror_mode": {
    "name": "ipython",
    "version": 3
   },
   "file_extension": ".py",
   "mimetype": "text/x-python",
   "name": "python",
   "nbconvert_exporter": "python",
   "pygments_lexer": "ipython3",
   "version": "3.7.5"
  }
 },
 "nbformat": 4,
 "nbformat_minor": 4
}
