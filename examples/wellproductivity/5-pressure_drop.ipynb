{
 "cells": [
  {
   "cell_type": "code",
   "execution_count": 1,
   "metadata": {},
   "outputs": [],
   "source": [
    "import os\n",
    "path = os.path.join('/home/santiago/Documents/dev/reservoirpy')\n",
    "import sys\n",
    "sys.path.insert(0,path)\n",
    "import pandas as pd\n",
    "import numpy as np\n",
    "from reservoirpy.wellproductivitypy import pi\n",
    "import matplotlib.pyplot as plt"
   ]
  },
  {
   "cell_type": "markdown",
   "metadata": {},
   "source": [
    "# Potential Energy Change"
   ]
  },
  {
   "cell_type": "code",
   "execution_count": 2,
   "metadata": {},
   "outputs": [
    {
     "name": "stdout",
     "output_type": "stream",
     "text": [
      "[822.7]\n",
      "[1572.7]\n"
     ]
    }
   ],
   "source": [
    "#Downward flow\n",
    "z1 = 0\n",
    "z2 = -1900\n",
    "ge = 1\n",
    "angle = 0\n",
    "p1 = 750\n",
    "delta, p2 = pi.potential_energy_change(\n",
    "    z1=z1,\n",
    "    z2=z2,\n",
    "    ge= ge,\n",
    "    angle= angle,\n",
    "    p1 = p1\n",
    ")\n",
    "\n",
    "print(delta)\n",
    "print(p2)"
   ]
  },
  {
   "cell_type": "code",
   "execution_count": 3,
   "metadata": {},
   "outputs": [
    {
     "name": "stdout",
     "output_type": "stream",
     "text": [
      "[-2255.4537]\n",
      "[244.5463]\n"
     ]
    }
   ],
   "source": [
    "#upward flow\n",
    "z1 = -5820\n",
    "z2 = 0\n",
    "ge = 0.895\n",
    "angle = 0\n",
    "p1 = 2500\n",
    "delta, p2 = pi.potential_energy_change(\n",
    "    z1=z1,\n",
    "    z2=z2,\n",
    "    ge= ge,\n",
    "    angle= angle,\n",
    "    p1 = p1\n",
    ")\n",
    "\n",
    "print(delta)\n",
    "print(p2)"
   ]
  },
  {
   "cell_type": "code",
   "execution_count": 4,
   "metadata": {},
   "outputs": [
    {
     "name": "stdout",
     "output_type": "stream",
     "text": [
      "[-2254.07973855]\n",
      "[7745.92026145]\n"
     ]
    }
   ],
   "source": [
    "#downward flow\n",
    "l= 5820\n",
    "ge = 0.895\n",
    "angle = -88\n",
    "p1 = 10000\n",
    "delta, p2 = pi.potential_energy_change(\n",
    "    length=l,\n",
    "    ge= ge,\n",
    "    angle= angle,\n",
    "    p1 = p1\n",
    ")\n",
    "\n",
    "print(delta)\n",
    "print(p2)"
   ]
  },
  {
   "cell_type": "markdown",
   "metadata": {},
   "source": [
    "# Kinetic Energy Change "
   ]
  },
  {
   "cell_type": "code",
   "execution_count": 5,
   "metadata": {},
   "outputs": [
    {
     "name": "stdout",
     "output_type": "stream",
     "text": [
      "[-3.32743788]\n",
      "[103.32743788]\n"
     ]
    }
   ],
   "source": [
    "d1 = 1\n",
    "d2 = 2\n",
    "rate = 2000\n",
    "ge = 0.9294\n",
    "\n",
    "delta, p2 = pi.kinetic_energy_change(\n",
    "    d1=d1,\n",
    "    d2=d2,\n",
    "    rate=rate,\n",
    "    ge=ge,\n",
    "    p1 = 100\n",
    ")\n",
    "\n",
    "print(delta)\n",
    "print(p2)"
   ]
  },
  {
   "cell_type": "markdown",
   "metadata": {},
   "source": [
    "# Frictional Pressure Drop"
   ]
  },
  {
   "cell_type": "code",
   "execution_count": 6,
   "metadata": {},
   "outputs": [
    {
     "name": "stdout",
     "output_type": "stream",
     "text": [
      "[-5.18308727]\n"
     ]
    }
   ],
   "source": [
    "rate = 1000\n",
    "eps = 0.001\n",
    "mu = 1.2\n",
    "d = 2.259\n",
    "ge = 1.04967\n",
    "l = 1000\n",
    "\n",
    "delta = pi.frictional_pressure_drop(\n",
    "    rate=rate,\n",
    "    epsilon = eps,\n",
    "    ge = ge,\n",
    "    d = d,\n",
    "    mu = mu,\n",
    "    length = l\n",
    ")\n",
    "\n",
    "print(delta)"
   ]
  },
  {
   "cell_type": "code",
   "execution_count": 7,
   "metadata": {},
   "outputs": [
    {
     "data": {
      "text/html": [
       "<div>\n",
       "<style scoped>\n",
       "    .dataframe tbody tr th:only-of-type {\n",
       "        vertical-align: middle;\n",
       "    }\n",
       "\n",
       "    .dataframe tbody tr th {\n",
       "        vertical-align: top;\n",
       "    }\n",
       "\n",
       "    .dataframe thead th {\n",
       "        text-align: right;\n",
       "    }\n",
       "</style>\n",
       "<table border=\"1\" class=\"dataframe\">\n",
       "  <thead>\n",
       "    <tr style=\"text-align: right;\">\n",
       "      <th></th>\n",
       "      <th>md</th>\n",
       "      <th>tvd</th>\n",
       "      <th>pressure</th>\n",
       "      <th>ppe</th>\n",
       "      <th>pke</th>\n",
       "      <th>pf</th>\n",
       "      <th>delta_p</th>\n",
       "    </tr>\n",
       "  </thead>\n",
       "  <tbody>\n",
       "    <tr>\n",
       "      <th>0</th>\n",
       "      <td>-0.000000</td>\n",
       "      <td>-0.000000</td>\n",
       "      <td>0.000000</td>\n",
       "      <td>0.000000</td>\n",
       "      <td>0.0</td>\n",
       "      <td>0.000000</td>\n",
       "      <td>0.000000</td>\n",
       "    </tr>\n",
       "    <tr>\n",
       "      <th>1</th>\n",
       "      <td>-646.666667</td>\n",
       "      <td>-646.666667</td>\n",
       "      <td>278.628947</td>\n",
       "      <td>280.006667</td>\n",
       "      <td>0.0</td>\n",
       "      <td>-1.377719</td>\n",
       "      <td>278.628947</td>\n",
       "    </tr>\n",
       "    <tr>\n",
       "      <th>2</th>\n",
       "      <td>-1293.333333</td>\n",
       "      <td>-1293.333333</td>\n",
       "      <td>557.257895</td>\n",
       "      <td>280.006667</td>\n",
       "      <td>0.0</td>\n",
       "      <td>-1.377719</td>\n",
       "      <td>278.628947</td>\n",
       "    </tr>\n",
       "    <tr>\n",
       "      <th>3</th>\n",
       "      <td>-1940.000000</td>\n",
       "      <td>-1940.000000</td>\n",
       "      <td>835.886842</td>\n",
       "      <td>280.006667</td>\n",
       "      <td>0.0</td>\n",
       "      <td>-1.377719</td>\n",
       "      <td>278.628947</td>\n",
       "    </tr>\n",
       "    <tr>\n",
       "      <th>4</th>\n",
       "      <td>-2586.666667</td>\n",
       "      <td>-2586.666667</td>\n",
       "      <td>1114.515790</td>\n",
       "      <td>280.006667</td>\n",
       "      <td>0.0</td>\n",
       "      <td>-1.377719</td>\n",
       "      <td>278.628947</td>\n",
       "    </tr>\n",
       "    <tr>\n",
       "      <th>5</th>\n",
       "      <td>-3233.333333</td>\n",
       "      <td>-3233.333333</td>\n",
       "      <td>1393.144737</td>\n",
       "      <td>280.006667</td>\n",
       "      <td>0.0</td>\n",
       "      <td>-1.377719</td>\n",
       "      <td>278.628947</td>\n",
       "    </tr>\n",
       "    <tr>\n",
       "      <th>6</th>\n",
       "      <td>-3880.000000</td>\n",
       "      <td>-3880.000000</td>\n",
       "      <td>1671.773685</td>\n",
       "      <td>280.006667</td>\n",
       "      <td>0.0</td>\n",
       "      <td>-1.377719</td>\n",
       "      <td>278.628947</td>\n",
       "    </tr>\n",
       "    <tr>\n",
       "      <th>7</th>\n",
       "      <td>-4526.666667</td>\n",
       "      <td>-4526.666667</td>\n",
       "      <td>1950.402632</td>\n",
       "      <td>280.006667</td>\n",
       "      <td>0.0</td>\n",
       "      <td>-1.377719</td>\n",
       "      <td>278.628947</td>\n",
       "    </tr>\n",
       "    <tr>\n",
       "      <th>8</th>\n",
       "      <td>-5173.333333</td>\n",
       "      <td>-5173.333333</td>\n",
       "      <td>2229.031580</td>\n",
       "      <td>280.006667</td>\n",
       "      <td>0.0</td>\n",
       "      <td>-1.377719</td>\n",
       "      <td>278.628947</td>\n",
       "    </tr>\n",
       "    <tr>\n",
       "      <th>9</th>\n",
       "      <td>-5820.000000</td>\n",
       "      <td>-5820.000000</td>\n",
       "      <td>2507.660527</td>\n",
       "      <td>280.006667</td>\n",
       "      <td>0.0</td>\n",
       "      <td>-1.377719</td>\n",
       "      <td>278.628947</td>\n",
       "    </tr>\n",
       "  </tbody>\n",
       "</table>\n",
       "</div>"
      ],
      "text/plain": [
       "            md          tvd     pressure         ppe  pke        pf  \\\n",
       "0    -0.000000    -0.000000     0.000000    0.000000  0.0  0.000000   \n",
       "1  -646.666667  -646.666667   278.628947  280.006667  0.0 -1.377719   \n",
       "2 -1293.333333 -1293.333333   557.257895  280.006667  0.0 -1.377719   \n",
       "3 -1940.000000 -1940.000000   835.886842  280.006667  0.0 -1.377719   \n",
       "4 -2586.666667 -2586.666667  1114.515790  280.006667  0.0 -1.377719   \n",
       "5 -3233.333333 -3233.333333  1393.144737  280.006667  0.0 -1.377719   \n",
       "6 -3880.000000 -3880.000000  1671.773685  280.006667  0.0 -1.377719   \n",
       "7 -4526.666667 -4526.666667  1950.402632  280.006667  0.0 -1.377719   \n",
       "8 -5173.333333 -5173.333333  2229.031580  280.006667  0.0 -1.377719   \n",
       "9 -5820.000000 -5820.000000  2507.660527  280.006667  0.0 -1.377719   \n",
       "\n",
       "      delta_p  \n",
       "0    0.000000  \n",
       "1  278.628947  \n",
       "2  278.628947  \n",
       "3  278.628947  \n",
       "4  278.628947  \n",
       "5  278.628947  \n",
       "6  278.628947  \n",
       "7  278.628947  \n",
       "8  278.628947  \n",
       "9  278.628947  "
      ]
     },
     "execution_count": 7,
     "metadata": {},
     "output_type": "execute_result"
    }
   ],
   "source": [
    "md = np.linspace(0,5820,10)*-1\n",
    "p1 = 0\n",
    "ge=1\n",
    "d = [2.7]*10\n",
    "rate = 1000\n",
    "mu = 1.3\n",
    "epsilon = 0.001\n",
    "\n",
    "pf = pi.incompressible_pressure_profile(\n",
    "    p1=p1,\n",
    "    ge=ge,\n",
    "    epsilon=epsilon,\n",
    "    md=md,\n",
    "    tvd=md,\n",
    "    d = d,\n",
    "    rate = rate,\n",
    "    mu=mu\n",
    "    )\n",
    "pf"
   ]
  },
  {
   "cell_type": "code",
   "execution_count": null,
   "metadata": {},
   "outputs": [],
   "source": []
  }
 ],
 "metadata": {
  "kernelspec": {
   "display_name": "Python 3",
   "language": "python",
   "name": "python3"
  },
  "language_info": {
   "codemirror_mode": {
    "name": "ipython",
    "version": 3
   },
   "file_extension": ".py",
   "mimetype": "text/x-python",
   "name": "python",
   "nbconvert_exporter": "python",
   "pygments_lexer": "ipython3",
   "version": "3.7.5"
  }
 },
 "nbformat": 4,
 "nbformat_minor": 4
}
