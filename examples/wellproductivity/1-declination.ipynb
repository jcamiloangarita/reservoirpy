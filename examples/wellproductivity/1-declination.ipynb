{
 "cells": [
  {
   "cell_type": "code",
   "execution_count": 1,
   "metadata": {},
   "outputs": [],
   "source": [
    "import os\n",
    "path = os.path.join('/home/santiago/Documents/dev/reservoirpy')\n",
    "import sys\n",
    "sys.path.insert(0,path)\n",
    "\n",
    "import numpy as np\n",
    "from datetime import date, timedelta\n",
    "import pandas as pd\n",
    "import matplotlib.pyplot as plt\n",
    "from reservoirpy.wellproductivitypy import decline as dc\n",
    "import seaborn as sns"
   ]
  },
  {
   "cell_type": "markdown",
   "metadata": {},
   "source": [
    "# Declination Object\n",
    "\n",
    "Create a declination Object by setting the parameters"
   ]
  },
  {
   "cell_type": "code",
   "execution_count": 2,
   "metadata": {},
   "outputs": [
    {
     "name": "stdout",
     "output_type": "stream",
     "text": [
      "Exponential Declination \n",
      " Ti: 2020-05-01 \n",
      " Qi: 680 bbl/d \n",
      " Rate: 0.28 Annually \n",
      " b: 0\n"
     ]
    }
   ],
   "source": [
    "qi = 680 #bbl/d\n",
    "di = 0.28 #Annual declination in fraction\n",
    "ti = date(2020,5,1) #Time for initial flow\n",
    "b = 0\n",
    "\n",
    "c = dc.declination(qi=qi,di=di,ti=ti)\n",
    "print(c)"
   ]
  },
  {
   "cell_type": "code",
   "execution_count": 3,
   "metadata": {},
   "outputs": [
    {
     "name": "stdout",
     "output_type": "stream",
     "text": [
      "              rate        cum\n",
      "time                         \n",
      "2020-02-01  728.61     728.61\n",
      "2020-02-02  728.05    1456.65\n",
      "2020-02-03  727.49    2184.14\n",
      "2020-02-04  726.93    2911.08\n",
      "2020-02-05  726.37    3637.45\n",
      "...            ...        ...\n",
      "2025-12-27  139.38  768530.75\n",
      "2025-12-28  139.27  768670.03\n",
      "2025-12-29  139.17  768809.20\n",
      "2025-12-30  139.06  768948.26\n",
      "2025-12-31  138.95  769087.21\n",
      "\n",
      "[2161 rows x 2 columns]\n",
      "Cummulative production is:  <module 'numpy' from '/home/santiago/anaconda3/envs/dev/lib/python3.7/site-packages/numpy/__init__.py'>\n"
     ]
    }
   ],
   "source": [
    "fr,cum = c.forecast(date(2020,2,1),date(2025,12,31),fq='1d')\n",
    "print(fr)\n",
    "print('Cummulative production is: ', np)"
   ]
  },
  {
   "cell_type": "code",
   "execution_count": 4,
   "metadata": {},
   "outputs": [
    {
     "data": {
      "text/plain": [
       "(              rate        cum\n",
       " time                         \n",
       " 2020-05-31  664.53     664.53\n",
       " 2020-06-30  649.41   20146.85\n",
       " 2020-07-31  634.15   39805.48\n",
       " 2020-08-31  619.25   59002.13\n",
       " 2020-09-30  605.16   77156.88\n",
       " 2020-10-31  590.94   95475.92\n",
       " 2020-11-30  577.49  112800.70\n",
       " 2020-12-31  563.92  130282.26\n",
       " 2021-01-31  550.67  147353.00\n",
       " 2021-02-28  538.97  162444.08\n",
       " 2021-03-31  526.30  178759.41\n",
       " 2021-04-30  514.33  194189.23,\n",
       " 194189.23)"
      ]
     },
     "execution_count": 4,
     "metadata": {},
     "output_type": "execute_result"
    }
   ],
   "source": [
    "c.forecast()"
   ]
  },
  {
   "cell_type": "code",
   "execution_count": 5,
   "metadata": {},
   "outputs": [
    {
     "name": "stdout",
     "output_type": "stream",
     "text": [
      "              rate        cum\n",
      "time                         \n",
      "2020-05-31  664.53     664.53\n",
      "2020-06-30  649.41   20146.85\n",
      "2020-07-31  634.15   39805.48\n",
      "2020-08-31  619.25   59002.13\n",
      "2020-09-30  605.16   77156.88\n",
      "2020-10-31  590.94   95475.92\n",
      "2020-11-30  577.49  112800.70\n",
      "2020-12-31  563.92  130282.26\n",
      "2021-01-31  550.67  147353.00\n",
      "2021-02-28  538.97  162444.08\n",
      "2021-03-31  526.30  178759.41\n",
      "2021-04-30  514.33  194189.23\n",
      "Cummulative  <module 'numpy' from '/home/santiago/anaconda3/envs/dev/lib/python3.7/site-packages/numpy/__init__.py'>\n"
     ]
    }
   ],
   "source": [
    "fr, cum = c.forecast(econ_limit=300, fq='1m')\n",
    "print(fr)\n",
    "print('Cummulative ',np)"
   ]
  },
  {
   "cell_type": "code",
   "execution_count": 6,
   "metadata": {},
   "outputs": [
    {
     "data": {
      "text/plain": [
       "<matplotlib.axes._subplots.AxesSubplot at 0x7f8eb0469a50>"
      ]
     },
     "execution_count": 6,
     "metadata": {},
     "output_type": "execute_result"
    },
    {
     "data": {
      "image/png": "[encoded data removed]",
      "text/plain": [
       "<Figure size 432x288 with 1 Axes>"
      ]
     },
     "metadata": {
      "needs_background": "light"
     },
     "output_type": "display_data"
    }
   ],
   "source": [
    "fr['rate'].plot()"
   ]
  },
  {
   "cell_type": "markdown",
   "metadata": {},
   "source": [
    "## Fit real production data to declination"
   ]
  },
  {
   "cell_type": "code",
   "execution_count": 7,
   "metadata": {},
   "outputs": [],
   "source": [
    "from sqlalchemy import create_engine\n",
    "\n",
    "## Set up Database \n",
    "Username='scuervo'\n",
    "Password='Fenicia1703'\n",
    "Host='localhost'\n",
    "db_name='cedco'\n",
    "connect_database='postgresql://{}:{}@{}/{}'.format(Username,Password,Host,db_name)\n",
    "\n",
    "engine = create_engine(connect_database)"
   ]
  },
  {
   "cell_type": "code",
   "execution_count": 8,
   "metadata": {},
   "outputs": [
    {
     "data": {
      "text/plain": [
       "<matplotlib.axes._subplots.AxesSubplot at 0x7f8e5f2753d0>"
      ]
     },
     "execution_count": 8,
     "metadata": {},
     "output_type": "execute_result"
    },
    {
     "data": {
      "image/png": "[encoded data removed]",
      "text/plain": [
       "<Figure size 432x288 with 1 Axes>"
      ]
     },
     "metadata": {
      "needs_background": "light"
     },
     "output_type": "display_data"
    }
   ],
   "source": [
    "query = \"\"\"\n",
    "    select w.well, p.date, p.bo\n",
    "    from production p\n",
    "    join wells w on p.well_id = w.id\n",
    "    where w.well = 'CANACABARE-3' and p.date >= DATE '2019-09-01'\n",
    "    order by p.date\n",
    "\"\"\"\n",
    "\n",
    "prod = pd.read_sql(query,engine)\n",
    "prod.head()\n",
    "prod.plot(color='green')"
   ]
  },
  {
   "cell_type": "code",
   "execution_count": 9,
   "metadata": {},
   "outputs": [
    {
     "data": {
      "text/html": [
       "<div>\n",
       "<style scoped>\n",
       "    .dataframe tbody tr th:only-of-type {\n",
       "        vertical-align: middle;\n",
       "    }\n",
       "\n",
       "    .dataframe tbody tr th {\n",
       "        vertical-align: top;\n",
       "    }\n",
       "\n",
       "    .dataframe thead th {\n",
       "        text-align: right;\n",
       "    }\n",
       "</style>\n",
       "<table border=\"1\" class=\"dataframe\">\n",
       "  <thead>\n",
       "    <tr style=\"text-align: right;\">\n",
       "      <th></th>\n",
       "      <th>well</th>\n",
       "      <th>date</th>\n",
       "      <th>bo</th>\n",
       "    </tr>\n",
       "  </thead>\n",
       "  <tbody>\n",
       "    <tr>\n",
       "      <th>0</th>\n",
       "      <td>CANACABARE-3</td>\n",
       "      <td>2019-09-01</td>\n",
       "      <td>591.662488</td>\n",
       "    </tr>\n",
       "    <tr>\n",
       "      <th>1</th>\n",
       "      <td>CANACABARE-3</td>\n",
       "      <td>2019-09-02</td>\n",
       "      <td>582.793308</td>\n",
       "    </tr>\n",
       "    <tr>\n",
       "      <th>2</th>\n",
       "      <td>CANACABARE-3</td>\n",
       "      <td>2019-09-03</td>\n",
       "      <td>582.466135</td>\n",
       "    </tr>\n",
       "    <tr>\n",
       "      <th>3</th>\n",
       "      <td>CANACABARE-3</td>\n",
       "      <td>2019-09-04</td>\n",
       "      <td>583.804090</td>\n",
       "    </tr>\n",
       "    <tr>\n",
       "      <th>4</th>\n",
       "      <td>CANACABARE-3</td>\n",
       "      <td>2019-09-05</td>\n",
       "      <td>598.191882</td>\n",
       "    </tr>\n",
       "    <tr>\n",
       "      <th>...</th>\n",
       "      <td>...</td>\n",
       "      <td>...</td>\n",
       "      <td>...</td>\n",
       "    </tr>\n",
       "    <tr>\n",
       "      <th>355</th>\n",
       "      <td>CANACABARE-3</td>\n",
       "      <td>2020-08-21</td>\n",
       "      <td>133.620662</td>\n",
       "    </tr>\n",
       "    <tr>\n",
       "      <th>356</th>\n",
       "      <td>CANACABARE-3</td>\n",
       "      <td>2020-08-22</td>\n",
       "      <td>140.944825</td>\n",
       "    </tr>\n",
       "    <tr>\n",
       "      <th>357</th>\n",
       "      <td>CANACABARE-3</td>\n",
       "      <td>2020-08-23</td>\n",
       "      <td>137.843793</td>\n",
       "    </tr>\n",
       "    <tr>\n",
       "      <th>358</th>\n",
       "      <td>CANACABARE-3</td>\n",
       "      <td>2020-08-24</td>\n",
       "      <td>135.875024</td>\n",
       "    </tr>\n",
       "    <tr>\n",
       "      <th>359</th>\n",
       "      <td>CANACABARE-3</td>\n",
       "      <td>2020-08-25</td>\n",
       "      <td>133.866054</td>\n",
       "    </tr>\n",
       "  </tbody>\n",
       "</table>\n",
       "<p>360 rows × 3 columns</p>\n",
       "</div>"
      ],
      "text/plain": [
       "             well        date          bo\n",
       "0    CANACABARE-3  2019-09-01  591.662488\n",
       "1    CANACABARE-3  2019-09-02  582.793308\n",
       "2    CANACABARE-3  2019-09-03  582.466135\n",
       "3    CANACABARE-3  2019-09-04  583.804090\n",
       "4    CANACABARE-3  2019-09-05  598.191882\n",
       "..            ...         ...         ...\n",
       "355  CANACABARE-3  2020-08-21  133.620662\n",
       "356  CANACABARE-3  2020-08-22  140.944825\n",
       "357  CANACABARE-3  2020-08-23  137.843793\n",
       "358  CANACABARE-3  2020-08-24  135.875024\n",
       "359  CANACABARE-3  2020-08-25  133.866054\n",
       "\n",
       "[360 rows x 3 columns]"
      ]
     },
     "execution_count": 9,
     "metadata": {},
     "output_type": "execute_result"
    }
   ],
   "source": [
    "prod"
   ]
  },
  {
   "cell_type": "code",
   "execution_count": 10,
   "metadata": {},
   "outputs": [
    {
     "name": "stderr",
     "output_type": "stream",
     "text": [
      "divide by zero encountered in log\n",
      "invalid value encountered in greater\n",
      "invalid value encountered in greater\n",
      "invalid value encountered in greater\n"
     ]
    },
    {
     "data": {
      "text/plain": [
       "[<matplotlib.lines.Line2D at 0x7f8e5f13b790>]"
      ]
     },
     "execution_count": 10,
     "metadata": {},
     "output_type": "execute_result"
    },
    {
     "data": {
      "image/png": "[encoded data removed]",
      "text/plain": [
       "<Figure size 1080x648 with 2 Axes>"
      ]
     },
     "metadata": {
      "needs_background": "light"
     },
     "output_type": "display_data"
    }
   ],
   "source": [
    "range_time = prod['date']\n",
    "flow_rate=prod['bo']\n",
    "tnum = range_time.apply(lambda x: x.toordinal()) \n",
    "lnq = np.log(flow_rate)\n",
    "slp = np.diff(lnq) / np.diff(tnum)\n",
    "slp = np.append(slp[0],slp)\n",
    "mu = slp.mean()\n",
    "sig = slp.std()\n",
    "range_timef = range_time[np.abs(slp)>mu+3*sig]\n",
    "flow_ratef = flow_rate[np.abs(slp)>mu+3*sig]\n",
    "\n",
    "fig,ax = plt.subplots(2,1, figsize=(15,9))\n",
    "\n",
    "ax[0].scatter(range_timef,flow_ratef, color='red')\n",
    "ax[0].plot(range_time,flow_rate)\n",
    "ax[1].plot(tnum,slp)\n",
    "ax[1].scatter(tnum[np.abs(slp)>mu+3*sig],slp[np.abs(slp)>mu+3*sig])\n",
    "ax[1].plot([tnum[0],tnum[-1:]],np.full(2,mu+3*sig))\n",
    "ax[1].plot([tnum[0],tnum[-1:]],np.full(2,mu-3*sig))\n"
   ]
  },
  {
   "cell_type": "code",
   "execution_count": 11,
   "metadata": {},
   "outputs": [
    {
     "name": "stdout",
     "output_type": "stream",
     "text": [
      "Shape of input dataframe  348\n",
      "Revome 4 rows by anomalies\n",
      "new shape 344\n"
     ]
    },
    {
     "data": {
      "text/plain": [
       "Hyperbolic Declination \n",
       " Ti: 2019-09-01 \n",
       " Qi: 618.7532944409021 bbl/d \n",
       " Rate: 2.3873637756327684 Annually \n",
       " b: 0.43878540285583745"
      ]
     },
     "execution_count": 11,
     "metadata": {},
     "output_type": "execute_result"
    }
   ],
   "source": [
    "c3 = dc.declination()\n",
    "c3.fit(prod,time='date',rate='bo',xstd=3)\n",
    "c3"
   ]
  },
  {
   "cell_type": "code",
   "execution_count": 12,
   "metadata": {},
   "outputs": [
    {
     "data": {
      "text/html": [
       "<div>\n",
       "<style scoped>\n",
       "    .dataframe tbody tr th:only-of-type {\n",
       "        vertical-align: middle;\n",
       "    }\n",
       "\n",
       "    .dataframe tbody tr th {\n",
       "        vertical-align: top;\n",
       "    }\n",
       "\n",
       "    .dataframe thead th {\n",
       "        text-align: right;\n",
       "    }\n",
       "</style>\n",
       "<table border=\"1\" class=\"dataframe\">\n",
       "  <thead>\n",
       "    <tr style=\"text-align: right;\">\n",
       "      <th></th>\n",
       "      <th>rate</th>\n",
       "      <th>cum</th>\n",
       "    </tr>\n",
       "    <tr>\n",
       "      <th>time</th>\n",
       "      <th></th>\n",
       "      <th></th>\n",
       "    </tr>\n",
       "  </thead>\n",
       "  <tbody>\n",
       "    <tr>\n",
       "      <th>2019-09-01</th>\n",
       "      <td>618.75</td>\n",
       "      <td>618.75</td>\n",
       "    </tr>\n",
       "    <tr>\n",
       "      <th>2019-09-02</th>\n",
       "      <td>614.73</td>\n",
       "      <td>1233.48</td>\n",
       "    </tr>\n",
       "    <tr>\n",
       "      <th>2019-09-03</th>\n",
       "      <td>610.73</td>\n",
       "      <td>1844.21</td>\n",
       "    </tr>\n",
       "    <tr>\n",
       "      <th>2019-09-04</th>\n",
       "      <td>606.78</td>\n",
       "      <td>2450.99</td>\n",
       "    </tr>\n",
       "    <tr>\n",
       "      <th>2019-09-05</th>\n",
       "      <td>602.86</td>\n",
       "      <td>3053.86</td>\n",
       "    </tr>\n",
       "    <tr>\n",
       "      <th>...</th>\n",
       "      <td>...</td>\n",
       "      <td>...</td>\n",
       "    </tr>\n",
       "    <tr>\n",
       "      <th>2020-04-27</th>\n",
       "      <td>188.17</td>\n",
       "      <td>82543.24</td>\n",
       "    </tr>\n",
       "    <tr>\n",
       "      <th>2020-04-28</th>\n",
       "      <td>187.44</td>\n",
       "      <td>82730.68</td>\n",
       "    </tr>\n",
       "    <tr>\n",
       "      <th>2020-04-29</th>\n",
       "      <td>186.72</td>\n",
       "      <td>82917.40</td>\n",
       "    </tr>\n",
       "    <tr>\n",
       "      <th>2020-04-30</th>\n",
       "      <td>186.00</td>\n",
       "      <td>83103.40</td>\n",
       "    </tr>\n",
       "    <tr>\n",
       "      <th>2020-05-01</th>\n",
       "      <td>185.28</td>\n",
       "      <td>83288.68</td>\n",
       "    </tr>\n",
       "  </tbody>\n",
       "</table>\n",
       "<p>244 rows × 2 columns</p>\n",
       "</div>"
      ],
      "text/plain": [
       "              rate       cum\n",
       "time                        \n",
       "2019-09-01  618.75    618.75\n",
       "2019-09-02  614.73   1233.48\n",
       "2019-09-03  610.73   1844.21\n",
       "2019-09-04  606.78   2450.99\n",
       "2019-09-05  602.86   3053.86\n",
       "...            ...       ...\n",
       "2020-04-27  188.17  82543.24\n",
       "2020-04-28  187.44  82730.68\n",
       "2020-04-29  186.72  82917.40\n",
       "2020-04-30  186.00  83103.40\n",
       "2020-05-01  185.28  83288.68\n",
       "\n",
       "[244 rows x 2 columns]"
      ]
     },
     "execution_count": 12,
     "metadata": {},
     "output_type": "execute_result"
    }
   ],
   "source": [
    "f,cum=c3.forecast(end_date=date(2020,5,1),fq='D')\n",
    "f"
   ]
  },
  {
   "cell_type": "code",
   "execution_count": 13,
   "metadata": {},
   "outputs": [
    {
     "data": {
      "text/plain": [
       "[<matplotlib.lines.Line2D at 0x7f8e5f104f10>]"
      ]
     },
     "execution_count": 13,
     "metadata": {},
     "output_type": "execute_result"
    },
    {
     "data": {
      "image/png": "[encoded data removed]",
      "text/plain": [
       "<Figure size 1080x648 with 1 Axes>"
      ]
     },
     "metadata": {
      "needs_background": "light"
     },
     "output_type": "display_data"
    }
   ],
   "source": [
    "fig, ax = plt.subplots(figsize=(15,9))\n",
    "\n",
    "ax.plot(prod['date'], prod['bo'], linewidth = 1, color='darkgreen')\n",
    "ax.plot(f.index, f['rate'], linewidth = 2, linestyle='--', color='green')\n",
    "#ax.scatter(a['date'],a['bo'],color=(0.1,0.9,0.5),s=155)"
   ]
  },
  {
   "cell_type": "code",
   "execution_count": 14,
   "metadata": {},
   "outputs": [
    {
     "data": {
      "image/png": "[encoded data removed]",
      "text/plain": [
       "<Figure size 432x288 with 1 Axes>"
      ]
     },
     "metadata": {
      "needs_background": "light"
     },
     "output_type": "display_data"
    }
   ],
   "source": [
    "c3.plot()"
   ]
  },
  {
   "cell_type": "markdown",
   "metadata": {},
   "source": [
    "# Econ Limit"
   ]
  },
  {
   "cell_type": "code",
   "execution_count": 15,
   "metadata": {},
   "outputs": [
    {
     "name": "stdout",
     "output_type": "stream",
     "text": [
      "Exponential Declination \n",
      " Ti: 2020-05-01 \n",
      " Qi: 680 bbl/d \n",
      " Rate: 0.28 Annually \n",
      " b: 0\n"
     ]
    }
   ],
   "source": [
    "qi = 680 #bbl/d\n",
    "di = 0.28 #Annual declination in fraction\n",
    "ti = date(2020,5,1) #Time for initial flow\n",
    "b = 0\n",
    "ec = 600\n",
    "\n",
    "\n",
    "c4 = dc.declination(qi=qi,di=di,ti=ti, econ_limit=ec)\n",
    "print(c4)"
   ]
  },
  {
   "cell_type": "code",
   "execution_count": 16,
   "metadata": {},
   "outputs": [
    {
     "data": {
      "text/plain": [
       "(              rate        cum\n",
       " time                         \n",
       " 2020-05-31  664.53     664.53\n",
       " 2020-06-30  649.41   20146.85\n",
       " 2020-07-31  634.15   39805.48\n",
       " 2020-08-31  619.25   59002.13\n",
       " 2020-09-30  605.16   77156.88\n",
       " 2020-10-31  590.94   95475.92\n",
       " 2020-11-30  577.49  112800.70\n",
       " 2020-12-31  563.92  130282.26\n",
       " 2021-01-31  550.67  147353.00\n",
       " 2021-02-28  538.97  162444.08\n",
       " 2021-03-31  526.30  178759.41\n",
       " 2021-04-30  514.33  194189.23\n",
       " 2021-05-31  502.24  209758.69\n",
       " 2021-06-30  490.81  224483.11\n",
       " 2021-07-31  479.28  239340.79\n",
       " 2021-08-31  468.02  253849.30\n",
       " 2021-09-30  457.37  267570.36\n",
       " 2021-10-31  446.62  281415.60\n",
       " 2021-11-30  436.46  294509.38\n",
       " 2021-12-31  426.20  307721.66\n",
       " 2022-01-31  416.19  320623.45\n",
       " 2022-02-28  407.34  332029.04,\n",
       " 332029.04)"
      ]
     },
     "execution_count": 16,
     "metadata": {},
     "output_type": "execute_result"
    }
   ],
   "source": [
    "c4.forecast(end_date=date(2023,12,31),econ_limit=400)"
   ]
  },
  {
   "cell_type": "code",
   "execution_count": 19,
   "metadata": {},
   "outputs": [
    {
     "name": "stdout",
     "output_type": "stream",
     "text": [
      "Exponential Declination \n",
      " Ti: 2020-05-01 \n",
      " Qi: 680 bbl/d \n",
      " Rate: 0.28 Annually \n",
      " b: 0\n"
     ]
    }
   ],
   "source": [
    "qi = 680 #bbl/d\n",
    "di = 0.28 #Annual declination in fraction\n",
    "ti = date(2020,5,1) #Time for initial flow\n",
    "b = 0\n",
    "ec = 100\n",
    "npl = 200000\n",
    "\n",
    "c5 = dc.declination(qi=qi,di=di,ti=ti, econ_limit=ec, np_limit=npl)\n",
    "print(c5)"
   ]
  },
  {
   "cell_type": "code",
   "execution_count": 22,
   "metadata": {},
   "outputs": [
    {
     "data": {
      "text/plain": [
       "(              rate        cum\n",
       " time                         \n",
       " 2020-05-01  680.00     680.00\n",
       " 2020-05-06  677.40    4066.98\n",
       " 2020-05-11  674.80    7441.00\n",
       " 2020-05-16  672.22   10802.10\n",
       " 2020-05-21  669.65   14150.34\n",
       " ...            ...        ...\n",
       " 2021-03-07  536.08  187929.61\n",
       " 2021-03-12  534.03  190599.75\n",
       " 2021-03-17  531.98  193259.67\n",
       " 2021-03-22  529.95  195909.41\n",
       " 2021-03-27  527.92  198549.00\n",
       " \n",
       " [67 rows x 2 columns],\n",
       " 198549.0)"
      ]
     },
     "execution_count": 22,
     "metadata": {},
     "output_type": "execute_result"
    }
   ],
   "source": [
    "c5.forecast(fq='5d')"
   ]
  },
  {
   "cell_type": "code",
   "execution_count": null,
   "metadata": {},
   "outputs": [],
   "source": []
  }
 ],
 "metadata": {
  "kernelspec": {
   "display_name": "Python 3",
   "language": "python",
   "name": "python3"
  },
  "language_info": {
   "codemirror_mode": {
    "name": "ipython",
    "version": 3
   },
   "file_extension": ".py",
   "mimetype": "text/x-python",
   "name": "python",
   "nbconvert_exporter": "python",
   "pygments_lexer": "ipython3",
   "version": "3.7.5"
  }
 },
 "nbformat": 4,
 "nbformat_minor": 4
}
