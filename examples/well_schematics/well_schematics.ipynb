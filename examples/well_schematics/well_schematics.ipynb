{
 "cells": [
  {
   "cell_type": "code",
   "execution_count": 1,
   "metadata": {},
   "outputs": [],
   "source": [
    "import os\n",
    "path = os.path.join('/home/santiago/Documents/dev/reservoirpy')\n",
    "import sys\n",
    "sys.path.insert(0,path)\n",
    "import matplotlib.pyplot as plt\n",
    "from matplotlib import patches as mpatches\n",
    "import reservoirpy.wellschematicspy as ws\n",
    "import numpy as np\n",
    "import pandas as pd"
   ]
  },
  {
   "cell_type": "code",
   "execution_count": 2,
   "metadata": {},
   "outputs": [
    {
     "name": "stdout",
     "output_type": "stream",
     "text": [
      "17.5\n"
     ]
    },
    {
     "data": {
      "text/plain": [
       "[<matplotlib.patches.Rectangle at 0x7fd575a1ec50>,\n",
       " <matplotlib.patches.Rectangle at 0x7fd575a1ed10>,\n",
       " <matplotlib.patches.Rectangle at 0x7fd575a1edd0>,\n",
       " <matplotlib.patches.Rectangle at 0x7fd575a1ef10>,\n",
       " <matplotlib.patches.Rectangle at 0x7fd575a2a090>,\n",
       " <matplotlib.patches.Rectangle at 0x7fd575a2a150>]"
      ]
     },
     "execution_count": 2,
     "metadata": {},
     "output_type": "execute_result"
    },
    {
     "data": {
      "image/png": "[encoded data removed]",
      "text/plain": [
       "<Figure size 288x648 with 1 Axes>"
      ]
     },
     "metadata": {
      "needs_background": "light"
     },
     "output_type": "display_data"
    }
   ],
   "source": [
    "#fig, ax = plt.subplots(1,1)\n",
    "\n",
    "ws.plot_schematic(\n",
    "    [\n",
    "        {\"type\": \"casing\", \"top\": 0, \"bottom\": 255,'diameter':17.5},\n",
    "        {\"type\": \"casing\", \"top\": 0, \"bottom\":1000,'diameter':12.25},\n",
    "        {\"type\": \"casing\", \"top\": 0, \"bottom\":600,'diameter':3.5},\n",
    "        \n",
    "        \n",
    "    ],\n",
    "    #ax=ax,\n",
    "    pipe_width=0.05\n",
    ")"
   ]
  },
  {
   "cell_type": "markdown",
   "metadata": {},
   "source": [
    "# Open Hole"
   ]
  },
  {
   "cell_type": "code",
   "execution_count": 3,
   "metadata": {},
   "outputs": [
    {
     "data": {
      "text/plain": [
       "[<matplotlib.patches.Rectangle at 0x7fd5759423d0>,\n",
       " <matplotlib.patches.Rectangle at 0x7fd57594d1d0>]"
      ]
     },
     "execution_count": 3,
     "metadata": {},
     "output_type": "execute_result"
    },
    {
     "data": {
      "image/png": "[encoded data removed]",
      "text/plain": [
       "<Figure size 288x648 with 1 Axes>"
      ]
     },
     "metadata": {
      "needs_background": "light"
     },
     "output_type": "display_data"
    }
   ],
   "source": [
    "oh = {\n",
    "    'oh1':{'top':0,'bottom':250,'diameter':17.5},\n",
    "    'oh2':{'top':250,'bottom':500,'diameter':12.25},\n",
    "}\n",
    "\n",
    "w1 = ws.well_schema(open_hole=oh)\n",
    "w1.plot()"
   ]
  },
  {
   "cell_type": "markdown",
   "metadata": {},
   "source": [
    "# Open  Hole +  Casing"
   ]
  },
  {
   "cell_type": "code",
   "execution_count": 4,
   "metadata": {},
   "outputs": [
    {
     "data": {
      "text/plain": [
       "[<matplotlib.patches.Rectangle at 0x7fd5758b0150>,\n",
       " <matplotlib.patches.Rectangle at 0x7fd5758b0e90>,\n",
       " <matplotlib.patches.Rectangle at 0x7fd5758b0f50>,\n",
       " <matplotlib.patches.Rectangle at 0x7fd5758bd0d0>,\n",
       " <matplotlib.patches.Rectangle at 0x7fd5758bd1d0>,\n",
       " <matplotlib.patches.Polygon at 0x7fd5758bd2d0>,\n",
       " <matplotlib.patches.Polygon at 0x7fd5758bd3d0>,\n",
       " <matplotlib.patches.Rectangle at 0x7fd5758bd510>,\n",
       " <matplotlib.patches.Rectangle at 0x7fd5758bd5d0>,\n",
       " <matplotlib.patches.Polygon at 0x7fd5758bd690>,\n",
       " <matplotlib.patches.Polygon at 0x7fd5758bd810>]"
      ]
     },
     "execution_count": 4,
     "metadata": {},
     "output_type": "execute_result"
    },
    {
     "data": {
      "image/png": "[encoded data removed]",
      "text/plain": [
       "<Figure size 288x648 with 1 Axes>"
      ]
     },
     "metadata": {
      "needs_background": "light"
     },
     "output_type": "display_data"
    }
   ],
   "source": [
    "oh = {\n",
    "    'oh1':{'top':0,'bottom':250,'diameter':17.5},\n",
    "    'oh2':{'top':250,'bottom':500,'diameter':12.25},\n",
    "    'oh3':{'top':500,'bottom':2500,'diameter':8.5},\n",
    "}\n",
    "\n",
    "csg = {\n",
    "    'sup':{\"type\": \"casing\", \"top\": 0, \"bottom\": 240,'diameter':13.325,'pipe_width':0.04},\n",
    "    'int':{\"type\": \"casing\", \"top\": 0, \"bottom\":490,'diameter':9.625},\n",
    "}\n",
    "\n",
    "w1 = ws.well_schema(open_hole=oh, casing=csg)\n",
    "w1.plot(csg_kw={'pipe_width':0.04,'shoe_scale':10},xtick=False)"
   ]
  },
  {
   "cell_type": "markdown",
   "metadata": {},
   "source": [
    "# Openhole + casing + cement"
   ]
  },
  {
   "cell_type": "code",
   "execution_count": 5,
   "metadata": {},
   "outputs": [
    {
     "data": {
      "text/plain": [
       "[<matplotlib.patches.Rectangle at 0x7fd57582fe50>,\n",
       " <matplotlib.patches.Rectangle at 0x7fd575834bd0>,\n",
       " <matplotlib.patches.Rectangle at 0x7fd575834c90>,\n",
       " <matplotlib.patches.Rectangle at 0x7fd575834dd0>,\n",
       " <matplotlib.patches.Polygon at 0x7fd575834ed0>,\n",
       " <matplotlib.patches.Polygon at 0x7fd575834f90>,\n",
       " <matplotlib.patches.Rectangle at 0x7fd575840190>,\n",
       " <matplotlib.patches.Rectangle at 0x7fd5758401d0>,\n",
       " <matplotlib.patches.Rectangle at 0x7fd575840310>,\n",
       " <matplotlib.patches.Rectangle at 0x7fd575840410>,\n",
       " <matplotlib.patches.Rectangle at 0x7fd575840150>,\n",
       " <matplotlib.patches.Rectangle at 0x7fd575840650>,\n",
       " <matplotlib.patches.Polygon at 0x7fd5758405d0>,\n",
       " <matplotlib.patches.Polygon at 0x7fd575840850>,\n",
       " <matplotlib.patches.Rectangle at 0x7fd575840990>,\n",
       " <matplotlib.patches.Rectangle at 0x7fd575840a50>]"
      ]
     },
     "execution_count": 5,
     "metadata": {},
     "output_type": "execute_result"
    },
    {
     "data": {
      "image/png": "[encoded data removed]",
      "text/plain": [
       "<Figure size 288x648 with 1 Axes>"
      ]
     },
     "metadata": {
      "needs_background": "light"
     },
     "output_type": "display_data"
    }
   ],
   "source": [
    "oh = {\n",
    "    'oh1':{'top':0,'bottom':250,'diameter':17.5},\n",
    "    'oh2':{'top':250,'bottom':500,'diameter':12.25},\n",
    "}\n",
    "\n",
    "#Cement must be a list of dict for allowing to make multiple stages\n",
    "cement_sup = [\n",
    "    {'top':20,'bottom':50,'oh':17.5},\n",
    "    {'top':70,'bottom':240,'oh':17.5,'color':'#adadad'}\n",
    "]\n",
    "\n",
    "cement_int = [\n",
    "    {'top':300,'bottom':489,'oh':12.25}\n",
    "]\n",
    "\n",
    "csg = {\n",
    "    'sup':{\"type\": \"casing\", \"top\": 0, \"bottom\": 240,'diameter':13.325,'cement':cement_sup},\n",
    "    'int':{\"type\": \"casing\", \"top\": 0, \"bottom\":490,'diameter':9.625, 'cement':cement_int},\n",
    "}\n",
    "\n",
    "w1 = ws.well_schema(open_hole=oh, casing=csg)\n",
    "w1.plot(csg_kw={'pipe_width':0.04,'shoe_scale':10},xtick=False)"
   ]
  },
  {
   "cell_type": "markdown",
   "metadata": {},
   "source": [
    "# Openhole + casing + cement + perforations"
   ]
  },
  {
   "cell_type": "code",
   "execution_count": 17,
   "metadata": {},
   "outputs": [
    {
     "data": {
      "text/plain": [
       "[<matplotlib.patches.Rectangle at 0x7fd5752cfe50>,\n",
       " <matplotlib.patches.Rectangle at 0x7fd5752dfbd0>,\n",
       " <matplotlib.patches.Rectangle at 0x7fd5752dfc90>,\n",
       " <matplotlib.patches.Rectangle at 0x7fd5752dfdd0>,\n",
       " <matplotlib.patches.Polygon at 0x7fd5752dfed0>,\n",
       " <matplotlib.patches.Polygon at 0x7fd5752dff90>,\n",
       " <matplotlib.patches.Rectangle at 0x7fd575268190>,\n",
       " <matplotlib.patches.Rectangle at 0x7fd575268250>,\n",
       " <matplotlib.patches.Rectangle at 0x7fd575268150>,\n",
       " <matplotlib.patches.Rectangle at 0x7fd575268450>,\n",
       " <matplotlib.patches.Polygon at 0x7fd5752683d0>,\n",
       " <matplotlib.patches.Polygon at 0x7fd575268650>,\n",
       " <matplotlib.patches.Rectangle at 0x7fd575268790>,\n",
       " <matplotlib.patches.Rectangle at 0x7fd575268850>,\n",
       " <matplotlib.patches.Polygon at 0x7fd575268690>,\n",
       " <matplotlib.patches.Polygon at 0x7fd5752689d0>,\n",
       " <matplotlib.patches.Polygon at 0x7fd575268bd0>,\n",
       " <matplotlib.patches.Polygon at 0x7fd575268cd0>,\n",
       " <matplotlib.patches.Polygon at 0x7fd575268dd0>,\n",
       " <matplotlib.patches.Polygon at 0x7fd575268ed0>,\n",
       " <matplotlib.patches.Polygon at 0x7fd575268fd0>,\n",
       " <matplotlib.patches.Polygon at 0x7fd57526e110>,\n",
       " <matplotlib.patches.Polygon at 0x7fd57526e210>,\n",
       " <matplotlib.patches.Polygon at 0x7fd57526e310>,\n",
       " <matplotlib.patches.Polygon at 0x7fd57526e410>,\n",
       " <matplotlib.patches.Polygon at 0x7fd57526e510>,\n",
       " <matplotlib.patches.Polygon at 0x7fd57526e610>,\n",
       " <matplotlib.patches.Polygon at 0x7fd57526e710>,\n",
       " <matplotlib.patches.Polygon at 0x7fd57526e810>,\n",
       " <matplotlib.patches.Polygon at 0x7fd57526e910>,\n",
       " <matplotlib.patches.Polygon at 0x7fd57526ea10>,\n",
       " <matplotlib.patches.Polygon at 0x7fd57526eb10>,\n",
       " <matplotlib.patches.Polygon at 0x7fd57526ec10>,\n",
       " <matplotlib.patches.Polygon at 0x7fd57526ed10>,\n",
       " <matplotlib.patches.Polygon at 0x7fd57526ee10>,\n",
       " <matplotlib.patches.Polygon at 0x7fd57526ef10>,\n",
       " <matplotlib.patches.Polygon at 0x7fd575273050>,\n",
       " <matplotlib.patches.Polygon at 0x7fd575273150>,\n",
       " <matplotlib.patches.Polygon at 0x7fd575273250>,\n",
       " <matplotlib.patches.Polygon at 0x7fd575273350>,\n",
       " <matplotlib.patches.Polygon at 0x7fd575273450>,\n",
       " <matplotlib.patches.Polygon at 0x7fd575273550>,\n",
       " <matplotlib.patches.Polygon at 0x7fd575273650>,\n",
       " <matplotlib.patches.Polygon at 0x7fd575273750>,\n",
       " <matplotlib.patches.Polygon at 0x7fd575273850>,\n",
       " <matplotlib.patches.Polygon at 0x7fd575273950>,\n",
       " <matplotlib.patches.Polygon at 0x7fd575273a50>,\n",
       " <matplotlib.patches.Polygon at 0x7fd575273b50>,\n",
       " <matplotlib.patches.Polygon at 0x7fd575273c50>,\n",
       " <matplotlib.patches.Polygon at 0x7fd575273d50>,\n",
       " <matplotlib.patches.Polygon at 0x7fd575273e50>,\n",
       " <matplotlib.patches.Polygon at 0x7fd575273f50>,\n",
       " <matplotlib.patches.Polygon at 0x7fd575278090>,\n",
       " <matplotlib.patches.Polygon at 0x7fd575278190>,\n",
       " <matplotlib.patches.Polygon at 0x7fd575278290>,\n",
       " <matplotlib.patches.Polygon at 0x7fd575278390>,\n",
       " <matplotlib.patches.Polygon at 0x7fd575278490>,\n",
       " <matplotlib.patches.Polygon at 0x7fd575278590>,\n",
       " <matplotlib.patches.Polygon at 0x7fd575278690>,\n",
       " <matplotlib.patches.Polygon at 0x7fd575278790>]"
      ]
     },
     "execution_count": 17,
     "metadata": {},
     "output_type": "execute_result"
    },
    {
     "data": {
      "image/png": "[encoded data removed]",
      "text/plain": [
       "<Figure size 288x648 with 1 Axes>"
      ]
     },
     "metadata": {
      "needs_background": "light"
     },
     "output_type": "display_data"
    }
   ],
   "source": [
    "oh = {\n",
    "    'oh1':{'top':0,'bottom':250,'diameter':17.5},\n",
    "    'oh2':{'top':250,'bottom':500,'diameter':12.25},\n",
    "}\n",
    "\n",
    "#Cement must be a list of dict for allowing to make multiple stages\n",
    "cement_sup = [\n",
    "    {'top':10,'bottom':240,'oh':17.5}\n",
    "]\n",
    "\n",
    "cement_int = [\n",
    "    {'top':300,'bottom':489,'oh':12.25}\n",
    "]\n",
    "\n",
    "#perforations must be a list of dict for allowing to make multiple perf\n",
    "perf = [\n",
    "    {'top':410,'bottom':415,'oh':12.25,'penetrate':1.1,'scale':2,'color':'r'},\n",
    "    {'top':380,'bottom':400,'oh':12.25}\n",
    "]\n",
    "\n",
    "\n",
    "csg = {\n",
    "    'sup':{\"type\": \"casing\", \"top\": 0, \"bottom\": 240,'diameter':13.325,'cement':cement_sup},\n",
    "    'int':{\"type\": \"casing\", \"top\": 0, \"bottom\":490,'diameter':9.625, 'cement':cement_int,'perforations':perf},\n",
    "}\n",
    "\n",
    "w1 = ws.well_schema(open_hole=oh, casing=csg)\n",
    "w1.plot(xtick=False)"
   ]
  },
  {
   "cell_type": "code",
   "execution_count": 7,
   "metadata": {},
   "outputs": [
    {
     "data": {
      "text/plain": [
       "[<matplotlib.patches.Rectangle at 0x7fd57575c790>,\n",
       " <matplotlib.patches.Rectangle at 0x7fd5756e3410>,\n",
       " <matplotlib.patches.Rectangle at 0x7fd5756e35d0>,\n",
       " <matplotlib.patches.Rectangle at 0x7fd5756e3710>,\n",
       " <matplotlib.patches.Rectangle at 0x7fd5756e3810>,\n",
       " <matplotlib.patches.Polygon at 0x7fd5756e3910>,\n",
       " <matplotlib.patches.Polygon at 0x7fd5756e3a10>,\n",
       " <matplotlib.patches.Rectangle at 0x7fd5756e3b50>,\n",
       " <matplotlib.patches.Rectangle at 0x7fd5756e3c10>,\n",
       " <matplotlib.patches.Polygon at 0x7fd5756e3cd0>,\n",
       " <matplotlib.patches.Polygon at 0x7fd5756e3e50>]"
      ]
     },
     "execution_count": 7,
     "metadata": {},
     "output_type": "execute_result"
    },
    {
     "data": {
      "image/png": "[encoded data removed]",
      "text/plain": [
       "<Figure size 360x432 with 1 Axes>"
      ]
     },
     "metadata": {
      "needs_background": "light"
     },
     "output_type": "display_data"
    }
   ],
   "source": [
    "fig, ax = plt.subplots(1,1, figsize=(5,6))\n",
    "oh = {\n",
    "    'oh1':{'top':0,'bottom':250,'diameter':17.5},\n",
    "    'oh2':{'top':250,'bottom':500,'diameter':12.25},\n",
    "    'oh3':{'top':500,'bottom':2500,'diameter':8.5},\n",
    "}\n",
    "\n",
    "csg = {\n",
    "    'sup':{\"type\": \"casing\", \"top\": 0, \"bottom\": 240,'diameter':13.325},\n",
    "    'int':{\"type\": \"casing\", \"top\": 0, \"bottom\":490,'diameter':9.625},\n",
    "}\n",
    "\n",
    "w1 = ws.well_schema(open_hole=oh, casing=csg)\n",
    "w1.plot(csg_kw={'pipe_width':0.04,'shoe_scale':10},ax=ax)"
   ]
  },
  {
   "cell_type": "code",
   "execution_count": 8,
   "metadata": {},
   "outputs": [
    {
     "name": "stdout",
     "output_type": "stream",
     "text": [
      "10.5\n",
      "11.0\n",
      "11.5\n",
      "12.0\n",
      "12.5\n",
      "13.0\n",
      "13.5\n",
      "14.0\n",
      "14.5\n",
      "15.0\n"
     ]
    }
   ],
   "source": [
    "for i in np.arange(10.5,15.3,0.5):\n",
    "    print(i)"
   ]
  }
 ],
 "metadata": {
  "kernelspec": {
   "display_name": "Python 3",
   "language": "python",
   "name": "python3"
  },
  "language_info": {
   "codemirror_mode": {
    "name": "ipython",
    "version": 3
   },
   "file_extension": ".py",
   "mimetype": "text/x-python",
   "name": "python",
   "nbconvert_exporter": "python",
   "pygments_lexer": "ipython3",
   "version": "3.7.5"
  }
 },
 "nbformat": 4,
 "nbformat_minor": 4
}
