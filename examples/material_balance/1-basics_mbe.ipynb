{
 "cells": [
  {
   "cell_type": "code",
   "execution_count": 1,
   "metadata": {},
   "outputs": [],
   "source": [
    "import os\n",
    "path = os.path.abspath(os.path.join('..','..'))\n",
    "import sys\n",
    "sys.path.append(path)\n",
    "import pandas as pd\n",
    "import numpy as np\n",
    "from reservoirpy.materialbalancepy import mbe as mb\n",
    "from reservoirpy.pvtpy import black_oil as bl"
   ]
  },
  {
   "cell_type": "code",
   "execution_count": 2,
   "metadata": {},
   "outputs": [],
   "source": [
    "data = np.array([\n",
    "    [0.1000000, 0.0000000, 1.0000000, 0],\n",
    "    [0.2000000, 0.0138408, 0.6869530, 0],\n",
    "    [0.3000000, 0.0553633, 0.4471809, 0],\n",
    "    [0.4000000, 0.1245675, 0.2709139, 0],\n",
    "    [0.5000000, 0.2214533, 0.1483818, 0],\n",
    "    [0.6000000, 0.3460208, 0.0698148, 0],\n",
    "    [0.7000000, 0.4982699, 0.0254427, 0],\n",
    "    [0.8000000, 0.6782007, 0.0054956, 0],\n",
    "    [0.9000000, 0.8858131, 0.0002035, 0],\n",
    "    [0.9500000, 1.0000000, 0.0000000, 0],\n",
    "    [1.0000000, 1.0000000, 0.0000000, 0],\n",
    "])\n",
    "kr = mb.kr(data,columns=['sw','krw','kro','pc'])\n"
   ]
  },
  {
   "cell_type": "code",
   "execution_count": 3,
   "metadata": {},
   "outputs": [],
   "source": [
    "# Oil PVT\n",
    "oil_pvt = bl.pvt({\n",
    "    'pressure': [2925,2100,1800,1500],\n",
    "    'bo':[1.429,1.480,1.468,1.440],\n",
    "    'bt':[1.429,1.480,1.559,1.792],\n",
    "    'rs':[1340,1340,1280,1150],\n",
    "    'bg':[0.001,0.001283,0.001518,0.00183],\n",
    "    'muo':[10,7,7.5,8],\n",
    "    'mur':[0,34.1,38.3,42.4]\n",
    "})\n",
    "\n",
    "formation = 'fm1'\n",
    "api = 25\n",
    "pb = 2100\n",
    "rsi = 1340\n",
    "temp = 175\n",
    "\n",
    "o = bl.oil(\n",
    "    formation=formation,\n",
    "    api=api,\n",
    "    pb=pb,\n",
    "    rsb=rsi,\n",
    "    temp=temp,\n",
    "    pvt=oil_pvt\n",
    ")"
   ]
  },
  {
   "cell_type": "code",
   "execution_count": 4,
   "metadata": {},
   "outputs": [
    {
     "data": {
      "text/html": [
       "<div>\n",
       "<style scoped>\n",
       "    .dataframe tbody tr th:only-of-type {\n",
       "        vertical-align: middle;\n",
       "    }\n",
       "\n",
       "    .dataframe tbody tr th {\n",
       "        vertical-align: top;\n",
       "    }\n",
       "\n",
       "    .dataframe thead th {\n",
       "        text-align: right;\n",
       "    }\n",
       "</style>\n",
       "<table border=\"1\" class=\"dataframe\">\n",
       "  <thead>\n",
       "    <tr style=\"text-align: right;\">\n",
       "      <th></th>\n",
       "      <th>rsw</th>\n",
       "      <th>cw</th>\n",
       "      <th>bw</th>\n",
       "      <th>muw</th>\n",
       "      <th>rhow</th>\n",
       "    </tr>\n",
       "    <tr>\n",
       "      <th>pressure</th>\n",
       "      <th></th>\n",
       "      <th></th>\n",
       "      <th></th>\n",
       "      <th></th>\n",
       "      <th></th>\n",
       "    </tr>\n",
       "  </thead>\n",
       "  <tbody>\n",
       "    <tr>\n",
       "      <th>1000.0</th>\n",
       "      <td>6.803417</td>\n",
       "      <td>0.000003</td>\n",
       "      <td>1.029221</td>\n",
       "      <td>0.375964</td>\n",
       "      <td>60.628376</td>\n",
       "    </tr>\n",
       "    <tr>\n",
       "      <th>1500.0</th>\n",
       "      <td>8.975257</td>\n",
       "      <td>0.000003</td>\n",
       "      <td>1.028531</td>\n",
       "      <td>0.375964</td>\n",
       "      <td>60.669053</td>\n",
       "    </tr>\n",
       "    <tr>\n",
       "      <th>2000.0</th>\n",
       "      <td>11.044822</td>\n",
       "      <td>0.000003</td>\n",
       "      <td>1.027709</td>\n",
       "      <td>0.375964</td>\n",
       "      <td>60.717562</td>\n",
       "    </tr>\n",
       "    <tr>\n",
       "      <th>2500.0</th>\n",
       "      <td>13.012112</td>\n",
       "      <td>0.000003</td>\n",
       "      <td>1.026144</td>\n",
       "      <td>0.375964</td>\n",
       "      <td>60.810184</td>\n",
       "    </tr>\n",
       "    <tr>\n",
       "      <th>3000.0</th>\n",
       "      <td>14.877126</td>\n",
       "      <td>0.000003</td>\n",
       "      <td>1.024409</td>\n",
       "      <td>0.375964</td>\n",
       "      <td>60.913157</td>\n",
       "    </tr>\n",
       "  </tbody>\n",
       "</table>\n",
       "</div>"
      ],
      "text/plain": [
       "                rsw        cw        bw       muw       rhow\n",
       "pressure                                                    \n",
       "1000.0     6.803417  0.000003  1.029221  0.375964  60.628376\n",
       "1500.0     8.975257  0.000003  1.028531  0.375964  60.669053\n",
       "2000.0    11.044822  0.000003  1.027709  0.375964  60.717562\n",
       "2500.0    13.012112  0.000003  1.026144  0.375964  60.810184\n",
       "3000.0    14.877126  0.000003  1.024409  0.375964  60.913157"
      ]
     },
     "execution_count": 4,
     "metadata": {},
     "output_type": "execute_result"
    }
   ],
   "source": [
    "# Water\n",
    "\n",
    "w = bl.water(\n",
    "    formation=formation,\n",
    "    pb = pb,\n",
    "    temp = temp)\n",
    "\n",
    "w.pvt_from_correlations(start_pressure=1000,end_pressure=3000,n=5)\n",
    "w.pvt"
   ]
  },
  {
   "cell_type": "code",
   "execution_count": 5,
   "metadata": {},
   "outputs": [],
   "source": [
    "swi=0.15\n",
    "cf=4.9e-6\n",
    "ooip=10e6"
   ]
  },
  {
   "cell_type": "code",
   "execution_count": 6,
   "metadata": {},
   "outputs": [],
   "source": [
    "res1 = mb.reservoir(\n",
    "    n=ooip,\n",
    "    swi=swi,\n",
    "    cf = cf,\n",
    "    oil = o,\n",
    "    water = w,\n",
    "    pi=2925,    \n",
    "    kr_wo = kr\n",
    ")\n"
   ]
  },
  {
   "cell_type": "code",
   "execution_count": 7,
   "metadata": {},
   "outputs": [
    {
     "data": {
      "text/plain": [
       "array([2900.        , 2811.11111111, 2722.22222222, 2633.33333333,\n",
       "       2544.44444444, 2455.55555556, 2366.66666667, 2277.77777778,\n",
       "       2188.88888889, 2100.        ])"
      ]
     },
     "execution_count": 7,
     "metadata": {},
     "output_type": "execute_result"
    }
   ],
   "source": [
    "r = np.linspace(2100,2900,10)[::-1]\n",
    "\n",
    "r"
   ]
  },
  {
   "cell_type": "code",
   "execution_count": 11,
   "metadata": {},
   "outputs": [
    {
     "data": {
      "text/html": [
       "<div>\n",
       "<style scoped>\n",
       "    .dataframe tbody tr th:only-of-type {\n",
       "        vertical-align: middle;\n",
       "    }\n",
       "\n",
       "    .dataframe tbody tr th {\n",
       "        vertical-align: top;\n",
       "    }\n",
       "\n",
       "    .dataframe thead th {\n",
       "        text-align: right;\n",
       "    }\n",
       "</style>\n",
       "<table border=\"1\" class=\"dataframe\">\n",
       "  <thead>\n",
       "    <tr style=\"text-align: right;\">\n",
       "      <th></th>\n",
       "      <th>np</th>\n",
       "      <th>gp</th>\n",
       "      <th>wp</th>\n",
       "      <th>wor</th>\n",
       "      <th>sw</th>\n",
       "    </tr>\n",
       "  </thead>\n",
       "  <tbody>\n",
       "    <tr>\n",
       "      <th>2900.000000</th>\n",
       "      <td>10729.647023</td>\n",
       "      <td>1.437773e+07</td>\n",
       "      <td>2320.232275</td>\n",
       "      <td>0.216245</td>\n",
       "      <td>0.150000</td>\n",
       "    </tr>\n",
       "    <tr>\n",
       "      <th>2811.111111</th>\n",
       "      <td>48929.681186</td>\n",
       "      <td>6.556577e+07</td>\n",
       "      <td>10234.134452</td>\n",
       "      <td>0.209160</td>\n",
       "      <td>0.149994</td>\n",
       "    </tr>\n",
       "    <tr>\n",
       "      <th>2722.222222</th>\n",
       "      <td>87207.237566</td>\n",
       "      <td>1.168577e+08</td>\n",
       "      <td>17624.374549</td>\n",
       "      <td>0.202098</td>\n",
       "      <td>0.149992</td>\n",
       "    </tr>\n",
       "    <tr>\n",
       "      <th>2633.333333</th>\n",
       "      <td>125551.519420</td>\n",
       "      <td>1.682390e+08</td>\n",
       "      <td>24505.411003</td>\n",
       "      <td>0.195182</td>\n",
       "      <td>0.150021</td>\n",
       "    </tr>\n",
       "    <tr>\n",
       "      <th>2544.444444</th>\n",
       "      <td>163954.472050</td>\n",
       "      <td>2.196990e+08</td>\n",
       "      <td>30888.034166</td>\n",
       "      <td>0.188394</td>\n",
       "      <td>0.150082</td>\n",
       "    </tr>\n",
       "    <tr>\n",
       "      <th>2455.555556</th>\n",
       "      <td>202409.723876</td>\n",
       "      <td>2.712290e+08</td>\n",
       "      <td>36780.924689</td>\n",
       "      <td>0.181715</td>\n",
       "      <td>0.150172</td>\n",
       "    </tr>\n",
       "    <tr>\n",
       "      <th>2366.666667</th>\n",
       "      <td>240912.348797</td>\n",
       "      <td>3.228225e+08</td>\n",
       "      <td>42190.707532</td>\n",
       "      <td>0.175129</td>\n",
       "      <td>0.150292</td>\n",
       "    </tr>\n",
       "    <tr>\n",
       "      <th>2277.777778</th>\n",
       "      <td>279458.771082</td>\n",
       "      <td>3.744748e+08</td>\n",
       "      <td>47122.015958</td>\n",
       "      <td>0.168619</td>\n",
       "      <td>0.150442</td>\n",
       "    </tr>\n",
       "    <tr>\n",
       "      <th>2188.888889</th>\n",
       "      <td>318046.876733</td>\n",
       "      <td>4.261828e+08</td>\n",
       "      <td>51577.570745</td>\n",
       "      <td>0.162170</td>\n",
       "      <td>0.150620</td>\n",
       "    </tr>\n",
       "    <tr>\n",
       "      <th>2100.000000</th>\n",
       "      <td>356675.884617</td>\n",
       "      <td>4.779457e+08</td>\n",
       "      <td>55558.214914</td>\n",
       "      <td>0.155767</td>\n",
       "      <td>0.150827</td>\n",
       "    </tr>\n",
       "  </tbody>\n",
       "</table>\n",
       "</div>"
      ],
      "text/plain": [
       "                        np            gp            wp       wor        sw\n",
       "2900.000000   10729.647023  1.437773e+07   2320.232275  0.216245  0.150000\n",
       "2811.111111   48929.681186  6.556577e+07  10234.134452  0.209160  0.149994\n",
       "2722.222222   87207.237566  1.168577e+08  17624.374549  0.202098  0.149992\n",
       "2633.333333  125551.519420  1.682390e+08  24505.411003  0.195182  0.150021\n",
       "2544.444444  163954.472050  2.196990e+08  30888.034166  0.188394  0.150082\n",
       "2455.555556  202409.723876  2.712290e+08  36780.924689  0.181715  0.150172\n",
       "2366.666667  240912.348797  3.228225e+08  42190.707532  0.175129  0.150292\n",
       "2277.777778  279458.771082  3.744748e+08  47122.015958  0.168619  0.150442\n",
       "2188.888889  318046.876733  4.261828e+08  51577.570745  0.162170  0.150620\n",
       "2100.000000  356675.884617  4.779457e+08  55558.214914  0.155767  0.150827"
      ]
     },
     "execution_count": 11,
     "metadata": {},
     "output_type": "execute_result"
    }
   ],
   "source": [
    "res1.forecast_np(r,wp=True)"
   ]
  },
  {
   "cell_type": "code",
   "execution_count": 9,
   "metadata": {},
   "outputs": [
    {
     "data": {
      "text/plain": [
       "4.9e-06"
      ]
     },
     "execution_count": 9,
     "metadata": {},
     "output_type": "execute_result"
    }
   ],
   "source": []
  },
  {
   "cell_type": "code",
   "execution_count": 10,
   "metadata": {},
   "outputs": [
    {
     "data": {
      "text/plain": [
       "344656.3891891892"
      ]
     },
     "execution_count": 10,
     "metadata": {},
     "output_type": "execute_result"
    }
   ],
   "source": []
  },
  {
   "cell_type": "code",
   "execution_count": null,
   "metadata": {},
   "outputs": [],
   "source": []
  }
 ],
 "metadata": {
  "kernelspec": {
   "display_name": "Python 3",
   "language": "python",
   "name": "python3"
  },
  "language_info": {
   "codemirror_mode": {
    "name": "ipython",
    "version": 3
   },
   "file_extension": ".py",
   "mimetype": "text/x-python",
   "name": "python",
   "nbconvert_exporter": "python",
   "pygments_lexer": "ipython3",
   "version": "3.7.5"
  }
 },
 "nbformat": 4,
 "nbformat_minor": 4
}
