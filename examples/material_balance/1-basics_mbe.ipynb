{
 "cells": [
  {
   "cell_type": "code",
   "execution_count": 1,
   "metadata": {},
   "outputs": [],
   "source": [
    "import os\n",
    "path = os.path.join('/home/santiago/Documents/dev/reservoirpy')\n",
    "import sys\n",
    "sys.path.insert(0,path)\n",
    "import pandas as pd\n",
    "import numpy as np\n",
    "from reservoirpy.materialbalancepy import mbe as mb\n",
    "from reservoirpy.pvtpy import black_oil as bl\n",
    "import matplotlib.pyplot as plt"
   ]
  },
  {
   "cell_type": "code",
   "execution_count": 2,
   "metadata": {},
   "outputs": [
    {
     "data": {
      "text/html": [
       "<div>\n",
       "<style scoped>\n",
       "    .dataframe tbody tr th:only-of-type {\n",
       "        vertical-align: middle;\n",
       "    }\n",
       "\n",
       "    .dataframe tbody tr th {\n",
       "        vertical-align: top;\n",
       "    }\n",
       "\n",
       "    .dataframe thead th {\n",
       "        text-align: right;\n",
       "    }\n",
       "</style>\n",
       "<table border=\"1\" class=\"dataframe\">\n",
       "  <thead>\n",
       "    <tr style=\"text-align: right;\">\n",
       "      <th></th>\n",
       "      <th>krw</th>\n",
       "      <th>kro</th>\n",
       "      <th>pc</th>\n",
       "    </tr>\n",
       "    <tr>\n",
       "      <th>sw</th>\n",
       "      <th></th>\n",
       "      <th></th>\n",
       "      <th></th>\n",
       "    </tr>\n",
       "  </thead>\n",
       "  <tbody>\n",
       "    <tr>\n",
       "      <th>0.10</th>\n",
       "      <td>0.000000</td>\n",
       "      <td>1.000000</td>\n",
       "      <td>0.0</td>\n",
       "    </tr>\n",
       "    <tr>\n",
       "      <th>0.20</th>\n",
       "      <td>0.013841</td>\n",
       "      <td>0.686953</td>\n",
       "      <td>0.0</td>\n",
       "    </tr>\n",
       "    <tr>\n",
       "      <th>0.30</th>\n",
       "      <td>0.055363</td>\n",
       "      <td>0.447181</td>\n",
       "      <td>0.0</td>\n",
       "    </tr>\n",
       "    <tr>\n",
       "      <th>0.40</th>\n",
       "      <td>0.124567</td>\n",
       "      <td>0.270914</td>\n",
       "      <td>0.0</td>\n",
       "    </tr>\n",
       "    <tr>\n",
       "      <th>0.50</th>\n",
       "      <td>0.221453</td>\n",
       "      <td>0.148382</td>\n",
       "      <td>0.0</td>\n",
       "    </tr>\n",
       "    <tr>\n",
       "      <th>0.60</th>\n",
       "      <td>0.346021</td>\n",
       "      <td>0.069815</td>\n",
       "      <td>0.0</td>\n",
       "    </tr>\n",
       "    <tr>\n",
       "      <th>0.70</th>\n",
       "      <td>0.498270</td>\n",
       "      <td>0.025443</td>\n",
       "      <td>0.0</td>\n",
       "    </tr>\n",
       "    <tr>\n",
       "      <th>0.80</th>\n",
       "      <td>0.678201</td>\n",
       "      <td>0.005496</td>\n",
       "      <td>0.0</td>\n",
       "    </tr>\n",
       "    <tr>\n",
       "      <th>0.90</th>\n",
       "      <td>0.885813</td>\n",
       "      <td>0.000204</td>\n",
       "      <td>0.0</td>\n",
       "    </tr>\n",
       "    <tr>\n",
       "      <th>0.95</th>\n",
       "      <td>1.000000</td>\n",
       "      <td>0.000000</td>\n",
       "      <td>0.0</td>\n",
       "    </tr>\n",
       "    <tr>\n",
       "      <th>1.00</th>\n",
       "      <td>1.000000</td>\n",
       "      <td>0.000000</td>\n",
       "      <td>0.0</td>\n",
       "    </tr>\n",
       "  </tbody>\n",
       "</table>\n",
       "</div>"
      ],
      "text/plain": [
       "           krw       kro   pc\n",
       "sw                           \n",
       "0.10  0.000000  1.000000  0.0\n",
       "0.20  0.013841  0.686953  0.0\n",
       "0.30  0.055363  0.447181  0.0\n",
       "0.40  0.124567  0.270914  0.0\n",
       "0.50  0.221453  0.148382  0.0\n",
       "0.60  0.346021  0.069815  0.0\n",
       "0.70  0.498270  0.025443  0.0\n",
       "0.80  0.678201  0.005496  0.0\n",
       "0.90  0.885813  0.000204  0.0\n",
       "0.95  1.000000  0.000000  0.0\n",
       "1.00  1.000000  0.000000  0.0"
      ]
     },
     "execution_count": 2,
     "metadata": {},
     "output_type": "execute_result"
    }
   ],
   "source": [
    "data = np.array([\n",
    "    [0.1000000, 0.0000000, 1.0000000, 0],\n",
    "    [0.2000000, 0.0138408, 0.6869530, 0],\n",
    "    [0.3000000, 0.0553633, 0.4471809, 0],\n",
    "    [0.4000000, 0.1245675, 0.2709139, 0],\n",
    "    [0.5000000, 0.2214533, 0.1483818, 0],\n",
    "    [0.6000000, 0.3460208, 0.0698148, 0],\n",
    "    [0.7000000, 0.4982699, 0.0254427, 0],\n",
    "    [0.8000000, 0.6782007, 0.0054956, 0],\n",
    "    [0.9000000, 0.8858131, 0.0002035, 0],\n",
    "    [0.9500000, 1.0000000, 0.0000000, 0],\n",
    "    [1.0000000, 1.0000000, 0.0000000, 0],\n",
    "])\n",
    "krwo = mb.kr(data,columns=['sw','krw','kro','pc'])\n",
    "krwo"
   ]
  },
  {
   "cell_type": "code",
   "execution_count": 3,
   "metadata": {},
   "outputs": [
    {
     "data": {
      "text/html": [
       "<div>\n",
       "<style scoped>\n",
       "    .dataframe tbody tr th:only-of-type {\n",
       "        vertical-align: middle;\n",
       "    }\n",
       "\n",
       "    .dataframe tbody tr th {\n",
       "        vertical-align: top;\n",
       "    }\n",
       "\n",
       "    .dataframe thead th {\n",
       "        text-align: right;\n",
       "    }\n",
       "</style>\n",
       "<table border=\"1\" class=\"dataframe\">\n",
       "  <thead>\n",
       "    <tr style=\"text-align: right;\">\n",
       "      <th></th>\n",
       "      <th>krg_kro</th>\n",
       "    </tr>\n",
       "    <tr>\n",
       "      <th>so</th>\n",
       "      <th></th>\n",
       "    </tr>\n",
       "  </thead>\n",
       "  <tbody>\n",
       "    <tr>\n",
       "      <th>0.81</th>\n",
       "      <td>0.018</td>\n",
       "    </tr>\n",
       "    <tr>\n",
       "      <th>0.76</th>\n",
       "      <td>0.063</td>\n",
       "    </tr>\n",
       "    <tr>\n",
       "      <th>0.60</th>\n",
       "      <td>0.850</td>\n",
       "    </tr>\n",
       "    <tr>\n",
       "      <th>0.50</th>\n",
       "      <td>3.350</td>\n",
       "    </tr>\n",
       "    <tr>\n",
       "      <th>0.40</th>\n",
       "      <td>10.200</td>\n",
       "    </tr>\n",
       "  </tbody>\n",
       "</table>\n",
       "</div>"
      ],
      "text/plain": [
       "      krg_kro\n",
       "so           \n",
       "0.81    0.018\n",
       "0.76    0.063\n",
       "0.60    0.850\n",
       "0.50    3.350\n",
       "0.40   10.200"
      ]
     },
     "execution_count": 3,
     "metadata": {},
     "output_type": "execute_result"
    }
   ],
   "source": [
    "data = np.array([\n",
    "    [0.81, 0.018],\n",
    "    [0.76, 0.063],\n",
    "    [0.60, 0.850],\n",
    "    [0.50, 3.350],\n",
    "    [0.40, 10.2]\n",
    "\n",
    "])\n",
    "krgo_ratio = mb.kr(data,columns=['so','krg_kro'],index='so')\n",
    "krgo_ratio"
   ]
  },
  {
   "cell_type": "code",
   "execution_count": 4,
   "metadata": {},
   "outputs": [
    {
     "data": {
      "text/html": [
       "<div>\n",
       "<style scoped>\n",
       "    .dataframe tbody tr th:only-of-type {\n",
       "        vertical-align: middle;\n",
       "    }\n",
       "\n",
       "    .dataframe tbody tr th {\n",
       "        vertical-align: top;\n",
       "    }\n",
       "\n",
       "    .dataframe thead th {\n",
       "        text-align: right;\n",
       "    }\n",
       "</style>\n",
       "<table border=\"1\" class=\"dataframe\">\n",
       "  <thead>\n",
       "    <tr style=\"text-align: right;\">\n",
       "      <th></th>\n",
       "      <th>krg_kro</th>\n",
       "    </tr>\n",
       "    <tr>\n",
       "      <th>saturation</th>\n",
       "      <th></th>\n",
       "    </tr>\n",
       "  </thead>\n",
       "  <tbody>\n",
       "    <tr>\n",
       "      <th>0.50001</th>\n",
       "      <td>3.34975</td>\n",
       "    </tr>\n",
       "  </tbody>\n",
       "</table>\n",
       "</div>"
      ],
      "text/plain": [
       "            krg_kro\n",
       "saturation         \n",
       "0.50001     3.34975"
      ]
     },
     "execution_count": 4,
     "metadata": {},
     "output_type": "execute_result"
    }
   ],
   "source": [
    "krgo_ratio.interpolate(0.50001)"
   ]
  },
  {
   "cell_type": "code",
   "execution_count": 5,
   "metadata": {},
   "outputs": [
    {
     "data": {
      "text/html": [
       "<div>\n",
       "<style scoped>\n",
       "    .dataframe tbody tr th:only-of-type {\n",
       "        vertical-align: middle;\n",
       "    }\n",
       "\n",
       "    .dataframe tbody tr th {\n",
       "        vertical-align: top;\n",
       "    }\n",
       "\n",
       "    .dataframe thead th {\n",
       "        text-align: right;\n",
       "    }\n",
       "</style>\n",
       "<table border=\"1\" class=\"dataframe\">\n",
       "  <thead>\n",
       "    <tr style=\"text-align: right;\">\n",
       "      <th></th>\n",
       "      <th>bo</th>\n",
       "      <th>bt</th>\n",
       "      <th>rs</th>\n",
       "      <th>bg</th>\n",
       "      <th>muo</th>\n",
       "      <th>mur</th>\n",
       "    </tr>\n",
       "    <tr>\n",
       "      <th>pressure</th>\n",
       "      <th></th>\n",
       "      <th></th>\n",
       "      <th></th>\n",
       "      <th></th>\n",
       "      <th></th>\n",
       "      <th></th>\n",
       "    </tr>\n",
       "  </thead>\n",
       "  <tbody>\n",
       "    <tr>\n",
       "      <th>2925</th>\n",
       "      <td>1.429</td>\n",
       "      <td>1.429</td>\n",
       "      <td>1340</td>\n",
       "      <td>0.001000</td>\n",
       "      <td>10.0</td>\n",
       "      <td>0.0</td>\n",
       "    </tr>\n",
       "    <tr>\n",
       "      <th>2100</th>\n",
       "      <td>1.480</td>\n",
       "      <td>1.480</td>\n",
       "      <td>1340</td>\n",
       "      <td>0.001283</td>\n",
       "      <td>7.0</td>\n",
       "      <td>34.1</td>\n",
       "    </tr>\n",
       "    <tr>\n",
       "      <th>1800</th>\n",
       "      <td>1.468</td>\n",
       "      <td>1.559</td>\n",
       "      <td>1280</td>\n",
       "      <td>0.001518</td>\n",
       "      <td>7.5</td>\n",
       "      <td>38.3</td>\n",
       "    </tr>\n",
       "    <tr>\n",
       "      <th>1500</th>\n",
       "      <td>1.440</td>\n",
       "      <td>1.792</td>\n",
       "      <td>1150</td>\n",
       "      <td>0.001830</td>\n",
       "      <td>8.0</td>\n",
       "      <td>42.4</td>\n",
       "    </tr>\n",
       "  </tbody>\n",
       "</table>\n",
       "</div>"
      ],
      "text/plain": [
       "             bo     bt    rs        bg   muo   mur\n",
       "pressure                                          \n",
       "2925      1.429  1.429  1340  0.001000  10.0   0.0\n",
       "2100      1.480  1.480  1340  0.001283   7.0  34.1\n",
       "1800      1.468  1.559  1280  0.001518   7.5  38.3\n",
       "1500      1.440  1.792  1150  0.001830   8.0  42.4"
      ]
     },
     "execution_count": 5,
     "metadata": {},
     "output_type": "execute_result"
    }
   ],
   "source": [
    "# Oil PVT\n",
    "oil_pvt = bl.pvt({\n",
    "    'pressure': [2925,2100,1800,1500],\n",
    "    'bo':[1.429,1.480,1.468,1.440],\n",
    "    'bt':[1.429,1.480,1.559,1.792],\n",
    "    'rs':[1340,1340,1280,1150],\n",
    "    'bg':[0.001,0.001283,0.001518,0.00183],\n",
    "    'muo':[10,7,7.5,8],\n",
    "    'mur':[0,34.1,38.3,42.4]\n",
    "})\n",
    "\n",
    "formation = 'fm1'\n",
    "api = 25\n",
    "pb = 2100\n",
    "rsi = 1340\n",
    "temp = 175\n",
    "\n",
    "o = bl.oil(\n",
    "    formation=formation,\n",
    "    api=api,\n",
    "    pb=pb,\n",
    "    rsb=rsi,\n",
    "    temp=temp,\n",
    "    pvt=oil_pvt\n",
    ")\n",
    "o.pvt"
   ]
  },
  {
   "cell_type": "code",
   "execution_count": 6,
   "metadata": {},
   "outputs": [
    {
     "data": {
      "text/html": [
       "<div>\n",
       "<style scoped>\n",
       "    .dataframe tbody tr th:only-of-type {\n",
       "        vertical-align: middle;\n",
       "    }\n",
       "\n",
       "    .dataframe tbody tr th {\n",
       "        vertical-align: top;\n",
       "    }\n",
       "\n",
       "    .dataframe thead th {\n",
       "        text-align: right;\n",
       "    }\n",
       "</style>\n",
       "<table border=\"1\" class=\"dataframe\">\n",
       "  <thead>\n",
       "    <tr style=\"text-align: right;\">\n",
       "      <th></th>\n",
       "      <th>bg</th>\n",
       "      <th>mug</th>\n",
       "    </tr>\n",
       "    <tr>\n",
       "      <th>pressure</th>\n",
       "      <th></th>\n",
       "      <th></th>\n",
       "    </tr>\n",
       "  </thead>\n",
       "  <tbody>\n",
       "    <tr>\n",
       "      <th>2925</th>\n",
       "      <td>0.001000</td>\n",
       "      <td>0.0000</td>\n",
       "    </tr>\n",
       "    <tr>\n",
       "      <th>2100</th>\n",
       "      <td>0.001283</td>\n",
       "      <td>0.2050</td>\n",
       "    </tr>\n",
       "    <tr>\n",
       "      <th>1800</th>\n",
       "      <td>0.001518</td>\n",
       "      <td>0.1958</td>\n",
       "    </tr>\n",
       "    <tr>\n",
       "      <th>1500</th>\n",
       "      <td>0.001830</td>\n",
       "      <td>0.1886</td>\n",
       "    </tr>\n",
       "  </tbody>\n",
       "</table>\n",
       "</div>"
      ],
      "text/plain": [
       "                bg     mug\n",
       "pressure                  \n",
       "2925      0.001000  0.0000\n",
       "2100      0.001283  0.2050\n",
       "1800      0.001518  0.1958\n",
       "1500      0.001830  0.1886"
      ]
     },
     "execution_count": 6,
     "metadata": {},
     "output_type": "execute_result"
    }
   ],
   "source": [
    "# GasPVT\n",
    "gas_pvt = bl.pvt({\n",
    "    'pressure': [2925,2100,1800,1500],\n",
    "    'bg':[0.001,0.001283,0.001518,0.00183],\n",
    "    'mug':[0,0.205,0.1958,0.1886]\n",
    "})\n",
    "\n",
    "formation = 'fm1'\n",
    "\n",
    "temp = 175\n",
    "g = bl.gas(\n",
    "    formation=formation,\n",
    "    pvt = gas_pvt,\n",
    "    temp=temp\n",
    ")\n",
    "g.pvt"
   ]
  },
  {
   "cell_type": "code",
   "execution_count": 7,
   "metadata": {},
   "outputs": [
    {
     "data": {
      "text/html": [
       "<div>\n",
       "<style scoped>\n",
       "    .dataframe tbody tr th:only-of-type {\n",
       "        vertical-align: middle;\n",
       "    }\n",
       "\n",
       "    .dataframe tbody tr th {\n",
       "        vertical-align: top;\n",
       "    }\n",
       "\n",
       "    .dataframe thead th {\n",
       "        text-align: right;\n",
       "    }\n",
       "</style>\n",
       "<table border=\"1\" class=\"dataframe\">\n",
       "  <thead>\n",
       "    <tr style=\"text-align: right;\">\n",
       "      <th></th>\n",
       "      <th>rsw</th>\n",
       "      <th>cw</th>\n",
       "      <th>bw</th>\n",
       "      <th>muw</th>\n",
       "      <th>rhow</th>\n",
       "    </tr>\n",
       "    <tr>\n",
       "      <th>pressure</th>\n",
       "      <th></th>\n",
       "      <th></th>\n",
       "      <th></th>\n",
       "      <th></th>\n",
       "      <th></th>\n",
       "    </tr>\n",
       "  </thead>\n",
       "  <tbody>\n",
       "    <tr>\n",
       "      <th>1000.0</th>\n",
       "      <td>6.803417</td>\n",
       "      <td>0.000004</td>\n",
       "      <td>1.029221</td>\n",
       "      <td>0.375964</td>\n",
       "      <td>60.628376</td>\n",
       "    </tr>\n",
       "    <tr>\n",
       "      <th>1500.0</th>\n",
       "      <td>8.975257</td>\n",
       "      <td>0.000004</td>\n",
       "      <td>1.028531</td>\n",
       "      <td>0.375964</td>\n",
       "      <td>60.669053</td>\n",
       "    </tr>\n",
       "    <tr>\n",
       "      <th>2000.0</th>\n",
       "      <td>11.044822</td>\n",
       "      <td>0.000004</td>\n",
       "      <td>1.027709</td>\n",
       "      <td>0.375964</td>\n",
       "      <td>60.717562</td>\n",
       "    </tr>\n",
       "    <tr>\n",
       "      <th>2500.0</th>\n",
       "      <td>13.012112</td>\n",
       "      <td>0.000004</td>\n",
       "      <td>1.026144</td>\n",
       "      <td>0.375964</td>\n",
       "      <td>60.810184</td>\n",
       "    </tr>\n",
       "    <tr>\n",
       "      <th>3000.0</th>\n",
       "      <td>14.877126</td>\n",
       "      <td>0.000004</td>\n",
       "      <td>1.024409</td>\n",
       "      <td>0.375964</td>\n",
       "      <td>60.913157</td>\n",
       "    </tr>\n",
       "  </tbody>\n",
       "</table>\n",
       "</div>"
      ],
      "text/plain": [
       "                rsw        cw        bw       muw       rhow\n",
       "pressure                                                    \n",
       "1000.0     6.803417  0.000004  1.029221  0.375964  60.628376\n",
       "1500.0     8.975257  0.000004  1.028531  0.375964  60.669053\n",
       "2000.0    11.044822  0.000004  1.027709  0.375964  60.717562\n",
       "2500.0    13.012112  0.000004  1.026144  0.375964  60.810184\n",
       "3000.0    14.877126  0.000004  1.024409  0.375964  60.913157"
      ]
     },
     "execution_count": 7,
     "metadata": {},
     "output_type": "execute_result"
    }
   ],
   "source": [
    "# Water\n",
    "\n",
    "w = bl.water(\n",
    "    formation=formation,\n",
    "    pb = pb,\n",
    "    temp = temp)\n",
    "\n",
    "w.pvt_from_correlations(start_pressure=1000,end_pressure=3000,n=5)\n",
    "w.pvt['cw']=3.6e-6\n",
    "w.pvt"
   ]
  },
  {
   "cell_type": "code",
   "execution_count": 8,
   "metadata": {},
   "outputs": [],
   "source": [
    "swi=0.15\n",
    "cf=4.9e-6\n",
    "ooip=10e6"
   ]
  },
  {
   "cell_type": "code",
   "execution_count": 9,
   "metadata": {},
   "outputs": [],
   "source": [
    "res1 = mb.oil_reservoir(\n",
    "    n=ooip,\n",
    "    swi=swi,\n",
    "    cf = cf,\n",
    "    oil = o,\n",
    "    water = w,\n",
    "    gas = g,\n",
    "    pi=2925,    \n",
    "    kr_wo = krwo,\n",
    "    kr_go = krgo_ratio\n",
    ")\n"
   ]
  },
  {
   "cell_type": "code",
   "execution_count": 10,
   "metadata": {},
   "outputs": [
    {
     "data": {
      "text/plain": [
       "array([2900.        , 2811.11111111, 2722.22222222, 2633.33333333,\n",
       "       2544.44444444, 2455.55555556, 2366.66666667, 2277.77777778,\n",
       "       2188.88888889, 2100.        ])"
      ]
     },
     "execution_count": 10,
     "metadata": {},
     "output_type": "execute_result"
    }
   ],
   "source": [
    "r = np.linspace(2100,2900,10)[::-1]\n",
    "\n",
    "r"
   ]
  },
  {
   "cell_type": "code",
   "execution_count": 11,
   "metadata": {},
   "outputs": [
    {
     "data": {
      "text/html": [
       "<div>\n",
       "<style scoped>\n",
       "    .dataframe tbody tr th:only-of-type {\n",
       "        vertical-align: middle;\n",
       "    }\n",
       "\n",
       "    .dataframe tbody tr th {\n",
       "        vertical-align: top;\n",
       "    }\n",
       "\n",
       "    .dataframe thead th {\n",
       "        text-align: right;\n",
       "    }\n",
       "</style>\n",
       "<table border=\"1\" class=\"dataframe\">\n",
       "  <thead>\n",
       "    <tr style=\"text-align: right;\">\n",
       "      <th></th>\n",
       "      <th>bo</th>\n",
       "      <th>bt</th>\n",
       "      <th>rs</th>\n",
       "      <th>bg</th>\n",
       "      <th>muo</th>\n",
       "      <th>mur</th>\n",
       "    </tr>\n",
       "    <tr>\n",
       "      <th>pressure</th>\n",
       "      <th></th>\n",
       "      <th></th>\n",
       "      <th></th>\n",
       "      <th></th>\n",
       "      <th></th>\n",
       "      <th></th>\n",
       "    </tr>\n",
       "  </thead>\n",
       "  <tbody>\n",
       "    <tr>\n",
       "      <th>2925</th>\n",
       "      <td>1.429000</td>\n",
       "      <td>1.429000</td>\n",
       "      <td>1340.0</td>\n",
       "      <td>0.001000</td>\n",
       "      <td>10.000000</td>\n",
       "      <td>0.000000</td>\n",
       "    </tr>\n",
       "    <tr>\n",
       "      <th>2900</th>\n",
       "      <td>1.430545</td>\n",
       "      <td>1.430545</td>\n",
       "      <td>1340.0</td>\n",
       "      <td>0.001009</td>\n",
       "      <td>9.909091</td>\n",
       "      <td>1.033333</td>\n",
       "    </tr>\n",
       "  </tbody>\n",
       "</table>\n",
       "</div>"
      ],
      "text/plain": [
       "                bo        bt      rs        bg        muo       mur\n",
       "pressure                                                           \n",
       "2925      1.429000  1.429000  1340.0  0.001000  10.000000  0.000000\n",
       "2900      1.430545  1.430545  1340.0  0.001009   9.909091  1.033333"
      ]
     },
     "execution_count": 11,
     "metadata": {},
     "output_type": "execute_result"
    }
   ],
   "source": [
    "res1.oil.pvt.interpolate([2925,2900])"
   ]
  },
  {
   "cell_type": "code",
   "execution_count": 12,
   "metadata": {
    "scrolled": true
   },
   "outputs": [
    {
     "name": "stdout",
     "output_type": "stream",
     "text": [
      "                        np            gp   wp  wor     gor  bsw        sw  \\\n",
      "2455.555556  177759.860063  2.381982e+08  0.0  0.0  1340.0  0.0  0.148155   \n",
      "2366.666667  210966.900597  2.826956e+08  0.0  0.0  1340.0  0.0  0.147835   \n",
      "2277.777778  244033.435243  3.270048e+08  0.0  0.0  1340.0  0.0  0.147525   \n",
      "2188.888889  276960.511231  3.711271e+08  0.0  0.0  1340.0  0.0  0.147224   \n",
      "2100.000000  309749.164127  4.150639e+08  0.0  0.0  1340.0  0.0  0.146932   \n",
      "\n",
      "                   so   sg  \n",
      "2455.555556  0.851845  0.0  \n",
      "2366.666667  0.852165  0.0  \n",
      "2277.777778  0.852475  0.0  \n",
      "2188.888889  0.852776  0.0  \n",
      "2100.000000  0.853068  0.0  \n"
     ]
    }
   ],
   "source": [
    "f = res1.forecast_np(r,wp=False)\n",
    "print(f.tail())"
   ]
  },
  {
   "cell_type": "code",
   "execution_count": 20,
   "metadata": {
    "scrolled": false
   },
   "outputs": [
    {
     "name": "stdout",
     "output_type": "stream",
     "text": [
      "                np            gp   wp  wor          gor  bsw        sw  \\\n",
      "2925  0.000000e+00  0.000000e+00  0.0  0.0     0.000000  0.0  0.150000   \n",
      "2100  3.055626e+05  4.094539e+08  0.0  0.0  1340.000000  0.0  0.146564   \n",
      "1800  4.160490e+05  6.368142e+08  0.0  0.0  1051.007315  0.0  0.146564   \n",
      "1500  1.225669e+06  1.878761e+09  0.0  0.0  4638.604191  0.0  0.146564   \n",
      "\n",
      "            so        sg  \n",
      "2925  0.850000  0.000000  \n",
      "2100  0.853436  0.000000  \n",
      "1800  0.836869  0.016567  \n",
      "1500  0.751559  0.101877  \n"
     ]
    },
    {
     "data": {
      "text/plain": [
       "<matplotlib.collections.PathCollection at 0x7f79eac73410>"
      ]
     },
     "execution_count": 20,
     "metadata": {},
     "output_type": "execute_result"
    },
    {
     "data": {
      "image/png": "[encoded data removed]",
      "text/plain": [
       "<Figure size 864x432 with 2 Axes>"
      ]
     },
     "metadata": {
      "needs_background": "light"
     },
     "output_type": "display_data"
    }
   ],
   "source": [
    "new_r = np.linspace(1500,2800,5)[::-1]\n",
    "new_r = [2100,1800,1500]\n",
    "f_new = res1.forecast_np(new_r,wp=False)\n",
    "print(f_new)\n",
    "\n",
    "fig, ax = plt.subplots(2,1, figsize=(12,6))\n",
    "ax[0].scatter(f_new['np'],f_new.index, color='green')\n",
    "ax[1].scatter(f_new['gp']/1e9,f_new.index, color='red')"
   ]
  },
  {
   "cell_type": "code",
   "execution_count": 15,
   "metadata": {},
   "outputs": [
    {
     "data": {
      "text/plain": [
       "2160.0"
      ]
     },
     "execution_count": 15,
     "metadata": {},
     "output_type": "execute_result"
    }
   ],
   "source": [
    "2.16e9/1e6"
   ]
  },
  {
   "cell_type": "code",
   "execution_count": null,
   "metadata": {},
   "outputs": [],
   "source": []
  },
  {
   "cell_type": "code",
   "execution_count": null,
   "metadata": {},
   "outputs": [],
   "source": []
  },
  {
   "cell_type": "code",
   "execution_count": null,
   "metadata": {},
   "outputs": [],
   "source": []
  },
  {
   "cell_type": "code",
   "execution_count": 13,
   "metadata": {
    "scrolled": true
   },
   "outputs": [
    {
     "name": "stdout",
     "output_type": "stream",
     "text": [
      "2\n",
      "3\n",
      "3\n",
      "3\n",
      "3\n",
      "3\n",
      "3\n",
      "3\n",
      "3\n",
      "2\n"
     ]
    },
    {
     "data": {
      "text/html": [
       "<div>\n",
       "<style scoped>\n",
       "    .dataframe tbody tr th:only-of-type {\n",
       "        vertical-align: middle;\n",
       "    }\n",
       "\n",
       "    .dataframe tbody tr th {\n",
       "        vertical-align: top;\n",
       "    }\n",
       "\n",
       "    .dataframe thead th {\n",
       "        text-align: right;\n",
       "    }\n",
       "</style>\n",
       "<table border=\"1\" class=\"dataframe\">\n",
       "  <thead>\n",
       "    <tr style=\"text-align: right;\">\n",
       "      <th></th>\n",
       "      <th>np</th>\n",
       "      <th>gp</th>\n",
       "      <th>wp</th>\n",
       "      <th>wor</th>\n",
       "      <th>bsw</th>\n",
       "      <th>sw</th>\n",
       "      <th>so</th>\n",
       "      <th>sg</th>\n",
       "    </tr>\n",
       "  </thead>\n",
       "  <tbody>\n",
       "    <tr>\n",
       "      <th>2925.000000</th>\n",
       "      <td>0.000000</td>\n",
       "      <td>0.000000e+00</td>\n",
       "      <td>0.000000</td>\n",
       "      <td>0.000000</td>\n",
       "      <td>0.000000</td>\n",
       "      <td>0.150000</td>\n",
       "      <td>0.850000</td>\n",
       "      <td>0.0</td>\n",
       "    </tr>\n",
       "    <tr>\n",
       "      <th>2900.000000</th>\n",
       "      <td>8895.082484</td>\n",
       "      <td>1.191941e+07</td>\n",
       "      <td>955.545013</td>\n",
       "      <td>0.216245</td>\n",
       "      <td>0.177797</td>\n",
       "      <td>0.149838</td>\n",
       "      <td>0.850162</td>\n",
       "      <td>0.0</td>\n",
       "    </tr>\n",
       "    <tr>\n",
       "      <th>2811.111111</th>\n",
       "      <td>38340.346371</td>\n",
       "      <td>5.137606e+07</td>\n",
       "      <td>7232.306909</td>\n",
       "      <td>0.208386</td>\n",
       "      <td>0.172450</td>\n",
       "      <td>0.149087</td>\n",
       "      <td>0.850913</td>\n",
       "      <td>0.0</td>\n",
       "    </tr>\n",
       "    <tr>\n",
       "      <th>2722.222222</th>\n",
       "      <td>67843.577737</td>\n",
       "      <td>9.091039e+07</td>\n",
       "      <td>13244.548811</td>\n",
       "      <td>0.197777</td>\n",
       "      <td>0.165120</td>\n",
       "      <td>0.148361</td>\n",
       "      <td>0.851639</td>\n",
       "      <td>0.0</td>\n",
       "    </tr>\n",
       "    <tr>\n",
       "      <th>2633.333333</th>\n",
       "      <td>97426.870148</td>\n",
       "      <td>1.305520e+08</td>\n",
       "      <td>18960.639093</td>\n",
       "      <td>0.187548</td>\n",
       "      <td>0.157929</td>\n",
       "      <td>0.147661</td>\n",
       "      <td>0.852339</td>\n",
       "      <td>0.0</td>\n",
       "    </tr>\n",
       "    <tr>\n",
       "      <th>2544.444444</th>\n",
       "      <td>127083.362049</td>\n",
       "      <td>1.702917e+08</td>\n",
       "      <td>24389.612328</td>\n",
       "      <td>0.177691</td>\n",
       "      <td>0.150881</td>\n",
       "      <td>0.146987</td>\n",
       "      <td>0.853013</td>\n",
       "      <td>0.0</td>\n",
       "    </tr>\n",
       "    <tr>\n",
       "      <th>2455.555556</th>\n",
       "      <td>156806.457319</td>\n",
       "      <td>2.101207e+08</td>\n",
       "      <td>29540.303611</td>\n",
       "      <td>0.168188</td>\n",
       "      <td>0.143973</td>\n",
       "      <td>0.146337</td>\n",
       "      <td>0.853663</td>\n",
       "      <td>0.0</td>\n",
       "    </tr>\n",
       "    <tr>\n",
       "      <th>2366.666667</th>\n",
       "      <td>186589.869071</td>\n",
       "      <td>2.500304e+08</td>\n",
       "      <td>34421.193285</td>\n",
       "      <td>0.159020</td>\n",
       "      <td>0.137202</td>\n",
       "      <td>0.145713</td>\n",
       "      <td>0.854287</td>\n",
       "      <td>0.0</td>\n",
       "    </tr>\n",
       "    <tr>\n",
       "      <th>2277.777778</th>\n",
       "      <td>216427.563280</td>\n",
       "      <td>2.900129e+08</td>\n",
       "      <td>39040.414395</td>\n",
       "      <td>0.150171</td>\n",
       "      <td>0.130564</td>\n",
       "      <td>0.145113</td>\n",
       "      <td>0.854887</td>\n",
       "      <td>0.0</td>\n",
       "    </tr>\n",
       "    <tr>\n",
       "      <th>2188.888889</th>\n",
       "      <td>246313.796748</td>\n",
       "      <td>3.300605e+08</td>\n",
       "      <td>43405.772718</td>\n",
       "      <td>0.141623</td>\n",
       "      <td>0.124054</td>\n",
       "      <td>0.144536</td>\n",
       "      <td>0.855464</td>\n",
       "      <td>0.0</td>\n",
       "    </tr>\n",
       "    <tr>\n",
       "      <th>2100.000000</th>\n",
       "      <td>276271.615910</td>\n",
       "      <td>3.702040e+08</td>\n",
       "      <td>47483.687367</td>\n",
       "      <td>0.133362</td>\n",
       "      <td>0.117669</td>\n",
       "      <td>0.143985</td>\n",
       "      <td>0.856015</td>\n",
       "      <td>0.0</td>\n",
       "    </tr>\n",
       "  </tbody>\n",
       "</table>\n",
       "</div>"
      ],
      "text/plain": [
       "                        np            gp            wp       wor       bsw  \\\n",
       "2925.000000       0.000000  0.000000e+00      0.000000  0.000000  0.000000   \n",
       "2900.000000    8895.082484  1.191941e+07    955.545013  0.216245  0.177797   \n",
       "2811.111111   38340.346371  5.137606e+07   7232.306909  0.208386  0.172450   \n",
       "2722.222222   67843.577737  9.091039e+07  13244.548811  0.197777  0.165120   \n",
       "2633.333333   97426.870148  1.305520e+08  18960.639093  0.187548  0.157929   \n",
       "2544.444444  127083.362049  1.702917e+08  24389.612328  0.177691  0.150881   \n",
       "2455.555556  156806.457319  2.101207e+08  29540.303611  0.168188  0.143973   \n",
       "2366.666667  186589.869071  2.500304e+08  34421.193285  0.159020  0.137202   \n",
       "2277.777778  216427.563280  2.900129e+08  39040.414395  0.150171  0.130564   \n",
       "2188.888889  246313.796748  3.300605e+08  43405.772718  0.141623  0.124054   \n",
       "2100.000000  276271.615910  3.702040e+08  47483.687367  0.133362  0.117669   \n",
       "\n",
       "                   sw        so   sg  \n",
       "2925.000000  0.150000  0.850000  0.0  \n",
       "2900.000000  0.149838  0.850162  0.0  \n",
       "2811.111111  0.149087  0.850913  0.0  \n",
       "2722.222222  0.148361  0.851639  0.0  \n",
       "2633.333333  0.147661  0.852339  0.0  \n",
       "2544.444444  0.146987  0.853013  0.0  \n",
       "2455.555556  0.146337  0.853663  0.0  \n",
       "2366.666667  0.145713  0.854287  0.0  \n",
       "2277.777778  0.145113  0.854887  0.0  \n",
       "2188.888889  0.144536  0.855464  0.0  \n",
       "2100.000000  0.143985  0.856015  0.0  "
      ]
     },
     "execution_count": 13,
     "metadata": {},
     "output_type": "execute_result"
    }
   ],
   "source": [
    "f=res1.forecast_np(r,wp=True, er_np=0.01)\n",
    "f"
   ]
  },
  {
   "cell_type": "code",
   "execution_count": 14,
   "metadata": {},
   "outputs": [
    {
     "name": "stdout",
     "output_type": "stream",
     "text": [
      "2\n",
      "2\n",
      "2\n",
      "2\n",
      "2\n",
      "2\n",
      "2\n",
      "2\n",
      "2\n",
      "2\n",
      "                        np            gp            wp       wor       bsw  \\\n",
      "2455.555556  157238.516607  2.106996e+08  28931.502778  0.168323  0.144073   \n",
      "2366.666667  187069.546317  2.506732e+08  33744.506003  0.159170  0.137314   \n",
      "2277.777778  216946.154205  2.907078e+08  38308.056699  0.150331  0.130685   \n",
      "2188.888889  246863.974622  3.307977e+08  42628.069579  0.141789  0.124182   \n",
      "2100.000000  276818.722229  3.709371e+08  46710.408909  0.133530  0.117800   \n",
      "\n",
      "                   sw        so   sg  \n",
      "2455.555556  0.146375  0.853625  0.0  \n",
      "2366.666667  0.145755  0.854245  0.0  \n",
      "2277.777778  0.145158  0.854842  0.0  \n",
      "2188.888889  0.144584  0.855416  0.0  \n",
      "2100.000000  0.144033  0.855967  0.0  \n"
     ]
    }
   ],
   "source": [
    "f_wp = res1.forecast_np(r,wp=True)\n",
    "print(f_wp.tail())"
   ]
  },
  {
   "cell_type": "code",
   "execution_count": 15,
   "metadata": {},
   "outputs": [
    {
     "data": {
      "text/plain": [
       "<matplotlib.legend.Legend at 0x7fe4ee9bae90>"
      ]
     },
     "execution_count": 15,
     "metadata": {},
     "output_type": "execute_result"
    },
    {
     "data": {
      "image/png": "[encoded data removed]",
      "text/plain": [
       "<Figure size 432x288 with 1 Axes>"
      ]
     },
     "metadata": {
      "needs_background": "light"
     },
     "output_type": "display_data"
    }
   ],
   "source": [
    "fig, ax = plt.subplots()\n",
    "ax.plot(f['np'], f.index, label='without wp')\n",
    "ax.plot(f_wp['np'], f_wp.index, label='with wp')\n",
    "ax.set_ylim(0,3000)\n",
    "ax.legend()"
   ]
  },
  {
   "cell_type": "code",
   "execution_count": 10,
   "metadata": {},
   "outputs": [],
   "source": [
    "aq = mb.pot_aquifer(k=9987)"
   ]
  },
  {
   "cell_type": "code",
   "execution_count": 11,
   "metadata": {},
   "outputs": [],
   "source": [
    "res1_aq = mb.oil_reservoir(\n",
    "    n=ooip,\n",
    "    swi=swi,\n",
    "    cf = cf,\n",
    "    oil = o,\n",
    "    water = w,\n",
    "    pi=2925,    \n",
    "    kr_wo = kr,\n",
    "    aquifer = aq\n",
    ")"
   ]
  },
  {
   "cell_type": "code",
   "execution_count": 12,
   "metadata": {},
   "outputs": [
    {
     "name": "stdout",
     "output_type": "stream",
     "text": [
      "sw  0.15\n",
      "fw  0.17779722110885893\n",
      "sw  [0.16285298]\n",
      "fw  0.21638579968329358\n",
      "sw  [0.20634045]\n",
      "fw  0.3766286235104727\n",
      "sw  [0.23277747]\n",
      "fw  0.5175819408040474\n",
      "sw  [0.24468122]\n",
      "fw  0.5614734714325276\n",
      "sw  [0.26314438]\n",
      "fw  0.6226349229902481\n",
      "sw  [0.27092386]\n",
      "fw  0.6396833379862117\n",
      "sw  [0.2876792]\n",
      "fw  0.6819026699751368\n",
      "sw  [0.29101517]\n",
      "fw  0.6821029356410945\n",
      "sw  [0.31066752]\n",
      "fw  0.7316985072160734\n"
     ]
    },
    {
     "data": {
      "text/html": [
       "<div>\n",
       "<style scoped>\n",
       "    .dataframe tbody tr th:only-of-type {\n",
       "        vertical-align: middle;\n",
       "    }\n",
       "\n",
       "    .dataframe tbody tr th {\n",
       "        vertical-align: top;\n",
       "    }\n",
       "\n",
       "    .dataframe thead th {\n",
       "        text-align: right;\n",
       "    }\n",
       "</style>\n",
       "<table border=\"1\" class=\"dataframe\">\n",
       "  <thead>\n",
       "    <tr style=\"text-align: right;\">\n",
       "      <th></th>\n",
       "      <th>np</th>\n",
       "      <th>gp</th>\n",
       "      <th>wp</th>\n",
       "      <th>wor</th>\n",
       "      <th>bsw</th>\n",
       "      <th>sw</th>\n",
       "    </tr>\n",
       "  </thead>\n",
       "  <tbody>\n",
       "    <tr>\n",
       "      <th>2900.000000</th>\n",
       "      <td>1.618515e+05</td>\n",
       "      <td>2.168810e+08</td>\n",
       "      <td>3.499957e+04</td>\n",
       "      <td>0.216245</td>\n",
       "      <td>0.177797</td>\n",
       "      <td>0.150000</td>\n",
       "    </tr>\n",
       "    <tr>\n",
       "      <th>2811.111111</th>\n",
       "      <td>7.086057e+05</td>\n",
       "      <td>9.495317e+08</td>\n",
       "      <td>1.956731e+05</td>\n",
       "      <td>0.276138</td>\n",
       "      <td>0.216386</td>\n",
       "      <td>0.162853</td>\n",
       "    </tr>\n",
       "    <tr>\n",
       "      <th>2722.222222</th>\n",
       "      <td>1.052342e+06</td>\n",
       "      <td>1.410139e+09</td>\n",
       "      <td>6.358044e+05</td>\n",
       "      <td>0.604180</td>\n",
       "      <td>0.376629</td>\n",
       "      <td>0.206340</td>\n",
       "    </tr>\n",
       "    <tr>\n",
       "      <th>2633.333333</th>\n",
       "      <td>1.224619e+06</td>\n",
       "      <td>1.640990e+09</td>\n",
       "      <td>1.313883e+06</td>\n",
       "      <td>1.072891</td>\n",
       "      <td>0.517582</td>\n",
       "      <td>0.232777</td>\n",
       "    </tr>\n",
       "    <tr>\n",
       "      <th>2544.444444</th>\n",
       "      <td>1.471513e+06</td>\n",
       "      <td>1.971827e+09</td>\n",
       "      <td>1.884071e+06</td>\n",
       "      <td>1.280364</td>\n",
       "      <td>0.561473</td>\n",
       "      <td>0.244681</td>\n",
       "    </tr>\n",
       "    <tr>\n",
       "      <th>2455.555556</th>\n",
       "      <td>1.593356e+06</td>\n",
       "      <td>2.135097e+09</td>\n",
       "      <td>2.628964e+06</td>\n",
       "      <td>1.649954</td>\n",
       "      <td>0.622635</td>\n",
       "      <td>0.263144</td>\n",
       "    </tr>\n",
       "    <tr>\n",
       "      <th>2366.666667</th>\n",
       "      <td>1.817393e+06</td>\n",
       "      <td>2.435306e+09</td>\n",
       "      <td>3.226484e+06</td>\n",
       "      <td>1.775337</td>\n",
       "      <td>0.639683</td>\n",
       "      <td>0.270924</td>\n",
       "    </tr>\n",
       "    <tr>\n",
       "      <th>2277.777778</th>\n",
       "      <td>1.886178e+06</td>\n",
       "      <td>2.527479e+09</td>\n",
       "      <td>4.043385e+06</td>\n",
       "      <td>2.143692</td>\n",
       "      <td>0.681903</td>\n",
       "      <td>0.287679</td>\n",
       "    </tr>\n",
       "    <tr>\n",
       "      <th>2188.888889</th>\n",
       "      <td>2.140484e+06</td>\n",
       "      <td>2.868249e+09</td>\n",
       "      <td>4.592778e+06</td>\n",
       "      <td>2.145672</td>\n",
       "      <td>0.682103</td>\n",
       "      <td>0.291015</td>\n",
       "    </tr>\n",
       "    <tr>\n",
       "      <th>2100.000000</th>\n",
       "      <td>2.060840e+06</td>\n",
       "      <td>2.761525e+09</td>\n",
       "      <td>5.620220e+06</td>\n",
       "      <td>2.727150</td>\n",
       "      <td>0.731699</td>\n",
       "      <td>0.310668</td>\n",
       "    </tr>\n",
       "  </tbody>\n",
       "</table>\n",
       "</div>"
      ],
      "text/plain": [
       "                       np            gp            wp       wor       bsw  \\\n",
       "2900.000000  1.618515e+05  2.168810e+08  3.499957e+04  0.216245  0.177797   \n",
       "2811.111111  7.086057e+05  9.495317e+08  1.956731e+05  0.276138  0.216386   \n",
       "2722.222222  1.052342e+06  1.410139e+09  6.358044e+05  0.604180  0.376629   \n",
       "2633.333333  1.224619e+06  1.640990e+09  1.313883e+06  1.072891  0.517582   \n",
       "2544.444444  1.471513e+06  1.971827e+09  1.884071e+06  1.280364  0.561473   \n",
       "2455.555556  1.593356e+06  2.135097e+09  2.628964e+06  1.649954  0.622635   \n",
       "2366.666667  1.817393e+06  2.435306e+09  3.226484e+06  1.775337  0.639683   \n",
       "2277.777778  1.886178e+06  2.527479e+09  4.043385e+06  2.143692  0.681903   \n",
       "2188.888889  2.140484e+06  2.868249e+09  4.592778e+06  2.145672  0.682103   \n",
       "2100.000000  2.060840e+06  2.761525e+09  5.620220e+06  2.727150  0.731699   \n",
       "\n",
       "                   sw  \n",
       "2900.000000  0.150000  \n",
       "2811.111111  0.162853  \n",
       "2722.222222  0.206340  \n",
       "2633.333333  0.232777  \n",
       "2544.444444  0.244681  \n",
       "2455.555556  0.263144  \n",
       "2366.666667  0.270924  \n",
       "2277.777778  0.287679  \n",
       "2188.888889  0.291015  \n",
       "2100.000000  0.310668  "
      ]
     },
     "execution_count": 12,
     "metadata": {},
     "output_type": "execute_result"
    }
   ],
   "source": [
    "f_aq= res1_aq.forecast_np(r,wp=True)\n",
    "f_aq"
   ]
  },
  {
   "cell_type": "code",
   "execution_count": null,
   "metadata": {},
   "outputs": [],
   "source": []
  },
  {
   "cell_type": "code",
   "execution_count": null,
   "metadata": {},
   "outputs": [],
   "source": []
  },
  {
   "cell_type": "code",
   "execution_count": 13,
   "metadata": {},
   "outputs": [
    {
     "data": {
      "image/png": "[encoded data removed]",
      "text/plain": [
       "<Figure size 432x288 with 1 Axes>"
      ]
     },
     "metadata": {
      "needs_background": "light"
     },
     "output_type": "display_data"
    }
   ],
   "source": [
    "plt.plot(f_aq['np'],f_aq['wor'])\n",
    "plt.yscale('log')"
   ]
  },
  {
   "cell_type": "code",
   "execution_count": 14,
   "metadata": {},
   "outputs": [
    {
     "data": {
      "text/plain": [
       "<matplotlib.axes._subplots.AxesSubplot at 0x7f7df39cbb10>"
      ]
     },
     "execution_count": 14,
     "metadata": {},
     "output_type": "execute_result"
    },
    {
     "data": {
      "image/png": "[encoded data removed]",
      "text/plain": [
       "<Figure size 432x288 with 1 Axes>"
      ]
     },
     "metadata": {
      "needs_background": "light"
     },
     "output_type": "display_data"
    }
   ],
   "source": [
    "kr.plot()"
   ]
  },
  {
   "cell_type": "code",
   "execution_count": 19,
   "metadata": {},
   "outputs": [
    {
     "data": {
      "text/plain": [
       "[<matplotlib.lines.Line2D at 0x7f7df3413990>]"
      ]
     },
     "execution_count": 19,
     "metadata": {},
     "output_type": "execute_result"
    },
    {
     "data": {
      "image/png": "[encoded data removed]",
      "text/plain": [
       "<Figure size 432x288 with 1 Axes>"
      ]
     },
     "metadata": {
      "needs_background": "light"
     },
     "output_type": "display_data"
    }
   ],
   "source": [
    "plt.plot(f_aq['sw'],f_aq['bsw'])"
   ]
  },
  {
   "cell_type": "code",
   "execution_count": null,
   "metadata": {},
   "outputs": [],
   "source": []
  }
 ],
 "metadata": {
  "kernelspec": {
   "display_name": "Python 3",
   "language": "python",
   "name": "python3"
  },
  "language_info": {
   "codemirror_mode": {
    "name": "ipython",
    "version": 3
   },
   "file_extension": ".py",
   "mimetype": "text/x-python",
   "name": "python",
   "nbconvert_exporter": "python",
   "pygments_lexer": "ipython3",
   "version": "3.7.5"
  }
 },
 "nbformat": 4,
 "nbformat_minor": 4
}
