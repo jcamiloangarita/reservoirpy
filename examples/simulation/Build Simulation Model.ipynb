{
 "cells": [
  {
   "cell_type": "code",
   "execution_count": 1,
   "metadata": {},
   "outputs": [],
   "source": [
    "import os\n",
    "path = os.path.join('/home/santiago/Documents/dev/reservoirpy')\n",
    "import sys\n",
    "sys.path.insert(0,path)"
   ]
  },
  {
   "cell_type": "code",
   "execution_count": 2,
   "metadata": {},
   "outputs": [],
   "source": [
    "from reservoirpy.simulationpy import sim\n",
    "from reservoirpy.pvtpy import black_oil as bl\n",
    "from reservoirpy.wellpy import path as ph\n",
    "from datetime import date\n",
    "import pandas as pd\n",
    "import numpy as np\n",
    "import pyvista as pv\n",
    "import vtk \n",
    "from shapely.geometry import Point\n",
    "import math\n",
    "import matplotlib.pyplot as plt"
   ]
  },
  {
   "cell_type": "markdown",
   "metadata": {},
   "source": [
    "# Grid"
   ]
  },
  {
   "cell_type": "code",
   "execution_count": 3,
   "metadata": {},
   "outputs": [],
   "source": [
    "grid=sim.grid( \n",
    "    grid_type='cartesian',\n",
    "    nx = 10,\n",
    "    ny = 10,\n",
    "    nz = 5,\n",
    "    dx = 100,\n",
    "    dy = 100,\n",
    "    dz=  50,\n",
    "    origin = Point(100,100,-5000),\n",
    "    petrophysics = {'PORO':0.18,'PERMX':200, 'PERMY':300,'PERMZ':100,'RT':0},\n",
    "    azimuth=0,\n",
    "    dip=0\n",
    ")"
   ]
  },
  {
   "cell_type": "markdown",
   "metadata": {},
   "source": [
    "# Phases"
   ]
  },
  {
   "cell_type": "code",
   "execution_count": 4,
   "metadata": {},
   "outputs": [],
   "source": [
    "phase = ['water']"
   ]
  },
  {
   "cell_type": "markdown",
   "metadata": {},
   "source": [
    "# Pvt"
   ]
  },
  {
   "cell_type": "code",
   "execution_count": 5,
   "metadata": {},
   "outputs": [],
   "source": [
    "water = bl.water(formation='fm_1',pb=2000,salinity=13500, temp=60)\n",
    "water.pvt_from_correlations()"
   ]
  },
  {
   "cell_type": "markdown",
   "metadata": {},
   "source": [
    "# Wells"
   ]
  },
  {
   "cell_type": "code",
   "execution_count": 6,
   "metadata": {},
   "outputs": [
    {
     "name": "stderr",
     "output_type": "stream",
     "text": [
      "divide by zero encountered in true_divide\n",
      "invalid value encountered in multiply\n"
     ]
    }
   ],
   "source": [
    "#Create the well object\n",
    "name1 = 'well-1'\n",
    "rte1 = 200 # Rotary table Elevation\n",
    "surf_coord1 = [255,741]#Point(1000100,1000000,520)\n",
    "crs1 = 'EPSG:3117'\n",
    "tops1 = ph.tops({'formation':['fm1'],'md_top':[5200],'md_bottom':[5450]})\n",
    "perf1 = ph.perforations({'md_top':[5300],'md_bottom':[5310]})\n",
    "cons1 = {\n",
    "    'date':np.array([np.datetime64('2020-08-21'),np.datetime64('2021-01-05')]),\n",
    "    'constrain':['qw','bhp'],\n",
    "    'value':[100,250]\n",
    "}\n",
    "td1 = 6000\n",
    "\n",
    "w1 = ph.well(name=name1, \n",
    "             rte=rte1, \n",
    "             surf_coord=surf_coord1, \n",
    "             td = td1,\n",
    "             tops=tops1,\n",
    "             perforations = perf1,\n",
    "             constrains=cons1,\n",
    "             crs=crs1)\n",
    "\n",
    "\n",
    "#Create the well object\n",
    "name2 = 'well-2'\n",
    "rte2 = 200 # Rotary table Elevation\n",
    "surf_coord2 = [658,478]#Point(1000100,1000000,520)\n",
    "crs2 = 'EPSG:3117'\n",
    "tops2 = ph.tops({'formation':['fm1'],'md_top':[5200],'md_bottom':[5450]})\n",
    "perf2 = ph.perforations({'md_top':[5300],'md_bottom':[5310]})\n",
    "cons2 = {\n",
    "    'date':np.array([np.datetime64('2020-08-21'),np.datetime64('2021-01-05')]),\n",
    "    'constrain':['bhp','bhp'],\n",
    "    'value':[100,250]\n",
    "}\n",
    "td2 = 6000\n",
    "\n",
    "w2 = ph.well(name=name2, \n",
    "             rte=rte2, \n",
    "             surf_coord=surf_coord2, \n",
    "             td = td2,\n",
    "             tops=tops2,\n",
    "             perforations = perf2,\n",
    "             constrains=cons2,\n",
    "             crs=crs2)\n",
    "\n",
    "\n",
    "wells = ph.wells_group(w1,w2)"
   ]
  },
  {
   "cell_type": "code",
   "execution_count": 7,
   "metadata": {},
   "outputs": [
    {
     "data": {
      "text/plain": [
       "{'date': array(['2020-08-21', '2021-01-05'], dtype='datetime64[D]'),\n",
       " 'constrain': ['qw', 'bhp'],\n",
       " 'value': [100, 250]}"
      ]
     },
     "execution_count": 7,
     "metadata": {},
     "output_type": "execute_result"
    }
   ],
   "source": [
    "wells.wells['well-1'].constrains"
   ]
  },
  {
   "cell_type": "markdown",
   "metadata": {},
   "source": [
    "# Numerical"
   ]
  },
  {
   "cell_type": "code",
   "execution_count": 8,
   "metadata": {},
   "outputs": [],
   "source": [
    "start_date = date(2020,8,21)\n",
    "end_date = date(2022,8,21)\n",
    "\n",
    "dates = pd.date_range(start_date,end_date,freq='M')\n",
    "numerical = sim.numerical(\n",
    "    relaxation = 1,\n",
    "    max_iter=25,\n",
    "    date_range = dates.values\n",
    ")"
   ]
  },
  {
   "cell_type": "markdown",
   "metadata": {},
   "source": [
    "# Initial Conditions"
   ]
  },
  {
   "cell_type": "code",
   "execution_count": 9,
   "metadata": {},
   "outputs": [],
   "source": [
    "init_conds = sim.initial_conditions(\n",
    "    pi = 2500,\n",
    "    woc = -5200,\n",
    "    cap_press_init = False\n",
    ")"
   ]
  },
  {
   "cell_type": "markdown",
   "metadata": {},
   "source": [
    "# Model"
   ]
  },
  {
   "cell_type": "code",
   "execution_count": 10,
   "metadata": {},
   "outputs": [],
   "source": [
    "sim_model = sim.model(\n",
    "      grid = grid,\n",
    "      phase = phase,\n",
    "      pvt = {'water':water},\n",
    "      wells = wells,\n",
    "      numerical = numerical,\n",
    "      initial_conditions = init_conds\n",
    ")"
   ]
  },
  {
   "cell_type": "code",
   "execution_count": 11,
   "metadata": {},
   "outputs": [
    {
     "data": {
      "text/plain": [
       "<reservoirpy.simulationpy.sim.model.model at 0x7fcd7e9601d0>"
      ]
     },
     "execution_count": 11,
     "metadata": {},
     "output_type": "execute_result"
    }
   ],
   "source": [
    "sim_model"
   ]
  }
 ],
 "metadata": {
  "kernelspec": {
   "display_name": "Python 3",
   "language": "python",
   "name": "python3"
  },
  "language_info": {
   "codemirror_mode": {
    "name": "ipython",
    "version": 3
   },
   "file_extension": ".py",
   "mimetype": "text/x-python",
   "name": "python",
   "nbconvert_exporter": "python",
   "pygments_lexer": "ipython3",
   "version": "3.7.5"
  }
 },
 "nbformat": 4,
 "nbformat_minor": 4
}
