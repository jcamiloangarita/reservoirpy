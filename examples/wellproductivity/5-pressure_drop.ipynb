{
 "cells": [
  {
   "cell_type": "code",
   "execution_count": 1,
   "metadata": {},
   "outputs": [],
   "source": [
    "import os\n",
    "path = os.path.join('/home/santiago/Documents/dev/reservoirpy')\n",
    "import sys\n",
    "sys.path.insert(0,path)\n",
    "import pandas as pd\n",
    "import numpy as np\n",
    "from reservoirpy.wellproductivitypy import pi\n",
    "import matplotlib.pyplot as plt"
   ]
  },
  {
   "cell_type": "markdown",
   "metadata": {},
   "source": [
    "# Potential Energy Change"
   ]
  },
  {
   "cell_type": "code",
   "execution_count": 2,
   "metadata": {},
   "outputs": [
    {
     "name": "stdout",
     "output_type": "stream",
     "text": [
      "[2255.4537]\n",
      "[2755.4537]\n"
     ]
    }
   ],
   "source": [
    "#Downward flow\n",
    "z1 = 0\n",
    "z2 = -5820\n",
    "ge = 0.895\n",
    "angle = 0\n",
    "p1 = 500\n",
    "delta, p2 = pi.potential_energy_change(\n",
    "    z1=z1,\n",
    "    z2=z2,\n",
    "    ge= ge,\n",
    "    angle= angle,\n",
    "    p1 = p1\n",
    ")\n",
    "\n",
    "print(delta)\n",
    "print(p2)"
   ]
  },
  {
   "cell_type": "code",
   "execution_count": 3,
   "metadata": {},
   "outputs": [
    {
     "name": "stdout",
     "output_type": "stream",
     "text": [
      "[-2255.4537]\n",
      "[244.5463]\n"
     ]
    }
   ],
   "source": [
    "#upward flow\n",
    "z1 = -5820\n",
    "z2 = 0\n",
    "ge = 0.895\n",
    "angle = 0\n",
    "p1 = 2500\n",
    "delta, p2 = pi.potential_energy_change(\n",
    "    z1=z1,\n",
    "    z2=z2,\n",
    "    ge= ge,\n",
    "    angle= angle,\n",
    "    p1 = p1\n",
    ")\n",
    "\n",
    "print(delta)\n",
    "print(p2)"
   ]
  },
  {
   "cell_type": "code",
   "execution_count": 4,
   "metadata": {},
   "outputs": [
    {
     "name": "stdout",
     "output_type": "stream",
     "text": [
      "[2254.07973855]\n",
      "[2310.07973855]\n"
     ]
    }
   ],
   "source": [
    "#downward flow\n",
    "l= 5820\n",
    "angle= 0\n",
    "ge = 0.895\n",
    "angle = 88\n",
    "p1 = 56\n",
    "delta, p2 = pi.potential_energy_change(\n",
    "    length=l,\n",
    "    ge= ge,\n",
    "    angle= angle,\n",
    "    p1 = p1\n",
    ")\n",
    "\n",
    "print(delta)\n",
    "print(p2)"
   ]
  },
  {
   "cell_type": "markdown",
   "metadata": {},
   "source": [
    "# Kinetic Energy Change "
   ]
  },
  {
   "cell_type": "code",
   "execution_count": 5,
   "metadata": {},
   "outputs": [
    {
     "name": "stdout",
     "output_type": "stream",
     "text": [
      "[0.20796487]\n",
      "[99.79203513]\n"
     ]
    }
   ],
   "source": [
    "d1 = 4 \n",
    "d2 = 2\n",
    "rate = 2000\n",
    "ge = 0.9294\n",
    "\n",
    "delta, p2 = pi.kinetic_energy_change(\n",
    "    d1=d1,\n",
    "    d2=d2,\n",
    "    rate=rate,\n",
    "    ge=ge,\n",
    "    p1 = 100\n",
    ")\n",
    "\n",
    "print(delta)\n",
    "print(p2)"
   ]
  },
  {
   "cell_type": "markdown",
   "metadata": {},
   "source": [
    "# Frictional Pressure Drop"
   ]
  },
  {
   "cell_type": "code",
   "execution_count": 6,
   "metadata": {},
   "outputs": [
    {
     "name": "stdout",
     "output_type": "stream",
     "text": [
      "[35760.33784861]\n",
      "[0.00632874]\n",
      "[2.33494238]\n",
      "[5.18308727]\n"
     ]
    }
   ],
   "source": [
    "rate = 1000\n",
    "eps = 0.001\n",
    "mu = 1.2\n",
    "d = 2.259\n",
    "ge = 1.04967\n",
    "l = 1000\n",
    "\n",
    "delta = pi.frictional_pressure_drop(\n",
    "    rate=rate,\n",
    "    epsilon = eps,\n",
    "    ge = ge,\n",
    "    d = d,\n",
    "    mu = mu,\n",
    "    length = l\n",
    ")\n",
    "\n",
    "print(delta)"
   ]
  },
  {
   "cell_type": "code",
   "execution_count": null,
   "metadata": {},
   "outputs": [],
   "source": []
  }
 ],
 "metadata": {
  "kernelspec": {
   "display_name": "Python 3",
   "language": "python",
   "name": "python3"
  },
  "language_info": {
   "codemirror_mode": {
    "name": "ipython",
    "version": 3
   },
   "file_extension": ".py",
   "mimetype": "text/x-python",
   "name": "python",
   "nbconvert_exporter": "python",
   "pygments_lexer": "ipython3",
   "version": "3.7.5"
  }
 },
 "nbformat": 4,
 "nbformat_minor": 4
}
