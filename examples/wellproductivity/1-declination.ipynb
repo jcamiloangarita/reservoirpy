{
 "cells": [
  {
   "cell_type": "code",
   "execution_count": 1,
   "metadata": {},
   "outputs": [],
   "source": [
    "import sys\n",
    "import os\n",
    "path = os.path.abspath(os.path.join('..','..'))\n",
    "sys.path.append(path)\n",
    "\n",
    "import numpy as np\n",
    "from datetime import date, timedelta\n",
    "import pandas as pd\n",
    "import matplotlib.pyplot as plt\n",
    "from reservoirpy.wellproductivitypy import decline as dc\n"
   ]
  },
  {
   "cell_type": "markdown",
   "metadata": {},
   "source": [
    "# Declination Object\n",
    "\n",
    "Create a declination Object by setting the parameters"
   ]
  },
  {
   "cell_type": "code",
   "execution_count": 2,
   "metadata": {},
   "outputs": [
    {
     "name": "stdout",
     "output_type": "stream",
     "text": [
      "Exponential Declination \n",
      " Ti: 2020-05-01 \n",
      " Qi: 680 bbl/d \n",
      " Rate: 0.28 Annually \n",
      " b: 0\n"
     ]
    }
   ],
   "source": [
    "qi = 680 #bbl/d\n",
    "di = 0.28 #Annual declination in fraction\n",
    "ti = date(2020,5,1) #Time for initial flow\n",
    "b = 0\n",
    "\n",
    "c = dc.declination(qi=qi,di=di,ti=ti)\n",
    "print(c)"
   ]
  },
  {
   "cell_type": "code",
   "execution_count": 3,
   "metadata": {},
   "outputs": [
    {
     "name": "stdout",
     "output_type": "stream",
     "text": [
      "              rate        cum\n",
      "time                         \n",
      "2020-02-01  728.61     728.61\n",
      "2020-02-02  728.05    1456.65\n",
      "2020-02-03  727.49    2184.14\n",
      "2020-02-04  726.93    2911.08\n",
      "2020-02-05  726.37    3637.45\n",
      "...            ...        ...\n",
      "2025-12-27  139.38  768530.75\n",
      "2025-12-28  139.27  768670.03\n",
      "2025-12-29  139.17  768809.20\n",
      "2025-12-30  139.06  768948.26\n",
      "2025-12-31  138.95  769087.21\n",
      "\n",
      "[2161 rows x 2 columns]\n",
      "Cummulative production is:  769087.21\n"
     ]
    }
   ],
   "source": [
    "fr,np = c.forecast(date(2020,2,1),date(2025,12,31),fq='1d')\n",
    "print(fr)\n",
    "print('Cummulative production is: ', np)"
   ]
  },
  {
   "cell_type": "code",
   "execution_count": 4,
   "metadata": {},
   "outputs": [
    {
     "data": {
      "text/plain": [
       "(              rate        cum\n",
       " time                         \n",
       " 2020-05-31  664.53     664.53\n",
       " 2020-06-30  649.41   20146.85\n",
       " 2020-07-31  634.15   39805.48\n",
       " 2020-08-31  619.25   59002.13\n",
       " 2020-09-30  605.16   77156.88\n",
       " 2020-10-31  590.94   95475.92\n",
       " 2020-11-30  577.49  112800.70\n",
       " 2020-12-31  563.92  130282.26\n",
       " 2021-01-31  550.67  147353.00\n",
       " 2021-02-28  538.97  162444.08\n",
       " 2021-03-31  526.30  178759.41\n",
       " 2021-04-30  514.33  194189.23,\n",
       " 194189.23)"
      ]
     },
     "execution_count": 4,
     "metadata": {},
     "output_type": "execute_result"
    }
   ],
   "source": [
    "c.forecast()"
   ]
  },
  {
   "cell_type": "code",
   "execution_count": 5,
   "metadata": {},
   "outputs": [
    {
     "name": "stdout",
     "output_type": "stream",
     "text": [
      "              rate        cum\n",
      "time                         \n",
      "2020-05-31  664.53     664.53\n",
      "2020-06-30  649.41   20146.85\n",
      "2020-07-31  634.15   39805.48\n",
      "2020-08-31  619.25   59002.13\n",
      "2020-09-30  605.16   77156.88\n",
      "2020-10-31  590.94   95475.92\n",
      "2020-11-30  577.49  112800.70\n",
      "2020-12-31  563.92  130282.26\n",
      "2021-01-31  550.67  147353.00\n",
      "2021-02-28  538.97  162444.08\n",
      "2021-03-31  526.30  178759.41\n",
      "2021-04-30  514.33  194189.23\n",
      "2021-05-31  502.24  209758.69\n",
      "2021-06-30  490.81  224483.11\n",
      "2021-07-31  479.28  239340.79\n",
      "2021-08-31  468.02  253849.30\n",
      "2021-09-30  457.37  267570.36\n",
      "2021-10-31  446.62  281415.60\n",
      "2021-11-30  436.46  294509.38\n",
      "2021-12-31  426.20  307721.66\n",
      "2022-01-31  416.19  320623.45\n",
      "2022-02-28  407.34  332029.04\n",
      "2022-03-31  397.77  344359.91\n",
      "2022-04-30  388.72  356021.51\n",
      "2022-05-31  379.59  367788.66\n",
      "2022-06-30  370.95  378917.13\n",
      "2022-07-31  362.23  390146.32\n",
      "2022-08-31  353.72  401111.62\n",
      "2022-09-30  345.67  411481.78\n",
      "2022-10-31  337.55  421945.78\n",
      "2022-11-30  329.87  431841.85\n",
      "2022-12-31  322.12  441827.48\n",
      "2023-01-31  314.55  451578.44\n",
      "2023-02-28  307.86  460198.60\n",
      "2023-03-31  300.63  469518.07\n",
      "Cummulative  469518.07\n"
     ]
    }
   ],
   "source": [
    "fr, np = c.forecast(econ_limit=300, fq='1m')\n",
    "print(fr)\n",
    "print('Cummulative ',np)"
   ]
  },
  {
   "cell_type": "code",
   "execution_count": 6,
   "metadata": {},
   "outputs": [
    {
     "data": {
      "text/plain": [
       "<matplotlib.axes._subplots.AxesSubplot at 0x7fa688668150>"
      ]
     },
     "execution_count": 6,
     "metadata": {},
     "output_type": "execute_result"
    },
    {
     "data": {
      "image/png": "[encoded data removed]",
      "text/plain": [
       "<Figure size 432x288 with 1 Axes>"
      ]
     },
     "metadata": {
      "needs_background": "light"
     },
     "output_type": "display_data"
    }
   ],
   "source": [
    "fr['rate'].plot()"
   ]
  },
  {
   "cell_type": "markdown",
   "metadata": {},
   "source": [
    "## Fit real production data to declination"
   ]
  },
  {
   "cell_type": "code",
   "execution_count": 25,
   "metadata": {},
   "outputs": [],
   "source": [
    "from sqlalchemy import create_engine\n",
    "\n",
    "## Set up Database \n",
    "Username='scuervo'\n",
    "Password='Fenicia1703'\n",
    "Host='localhost'\n",
    "db_name='cedco_prod'\n",
    "connect_database='postgresql://{}:{}@{}/{}'.format(Username,Password,Host,db_name)\n",
    "\n",
    "engine = create_engine(connect_database)"
   ]
  },
  {
   "cell_type": "code",
   "execution_count": 60,
   "metadata": {},
   "outputs": [
    {
     "data": {
      "text/plain": [
       "<matplotlib.axes._subplots.AxesSubplot at 0x7fa6398d8490>"
      ]
     },
     "execution_count": 60,
     "metadata": {},
     "output_type": "execute_result"
    },
    {
     "data": {
      "image/png": "[encoded data removed]",
      "text/plain": [
       "<Figure size 432x288 with 1 Axes>"
      ]
     },
     "metadata": {
      "needs_background": "light"
     },
     "output_type": "display_data"
    }
   ],
   "source": [
    "query = \"\"\"\n",
    "    select w.well, p.date, p.bo\n",
    "    from production p\n",
    "    join wells w on p.well_id = w.id\n",
    "    where w.well = 'CANACABARE-3'\n",
    "    order by p.date\n",
    "\"\"\"\n",
    "\n",
    "prod = pd.read_sql(query,engine)\n",
    "prod.head()\n",
    "prod.plot(color='green')"
   ]
  },
  {
   "cell_type": "code",
   "execution_count": 28,
   "metadata": {},
   "outputs": [
    {
     "data": {
      "text/html": [
       "<div>\n",
       "<style scoped>\n",
       "    .dataframe tbody tr th:only-of-type {\n",
       "        vertical-align: middle;\n",
       "    }\n",
       "\n",
       "    .dataframe tbody tr th {\n",
       "        vertical-align: top;\n",
       "    }\n",
       "\n",
       "    .dataframe thead th {\n",
       "        text-align: right;\n",
       "    }\n",
       "</style>\n",
       "<table border=\"1\" class=\"dataframe\">\n",
       "  <thead>\n",
       "    <tr style=\"text-align: right;\">\n",
       "      <th></th>\n",
       "      <th>well</th>\n",
       "      <th>date</th>\n",
       "      <th>bo</th>\n",
       "    </tr>\n",
       "  </thead>\n",
       "  <tbody>\n",
       "    <tr>\n",
       "      <th>0</th>\n",
       "      <td>CANACABARE-3</td>\n",
       "      <td>2019-08-21</td>\n",
       "      <td>633.395148</td>\n",
       "    </tr>\n",
       "    <tr>\n",
       "      <th>1</th>\n",
       "      <td>CANACABARE-3</td>\n",
       "      <td>2019-08-22</td>\n",
       "      <td>637.331037</td>\n",
       "    </tr>\n",
       "    <tr>\n",
       "      <th>2</th>\n",
       "      <td>CANACABARE-3</td>\n",
       "      <td>2019-08-23</td>\n",
       "      <td>626.456200</td>\n",
       "    </tr>\n",
       "    <tr>\n",
       "      <th>3</th>\n",
       "      <td>CANACABARE-3</td>\n",
       "      <td>2019-08-24</td>\n",
       "      <td>620.102108</td>\n",
       "    </tr>\n",
       "    <tr>\n",
       "      <th>4</th>\n",
       "      <td>CANACABARE-3</td>\n",
       "      <td>2019-08-25</td>\n",
       "      <td>643.574760</td>\n",
       "    </tr>\n",
       "  </tbody>\n",
       "</table>\n",
       "</div>"
      ],
      "text/plain": [
       "           well        date          bo\n",
       "0  CANACABARE-3  2019-08-21  633.395148\n",
       "1  CANACABARE-3  2019-08-22  637.331037\n",
       "2  CANACABARE-3  2019-08-23  626.456200\n",
       "3  CANACABARE-3  2019-08-24  620.102108\n",
       "4  CANACABARE-3  2019-08-25  643.574760"
      ]
     },
     "execution_count": 28,
     "metadata": {},
     "output_type": "execute_result"
    }
   ],
   "source": [
    "prod.head()"
   ]
  },
  {
   "cell_type": "code",
   "execution_count": 29,
   "metadata": {},
   "outputs": [],
   "source": [
    "c3 = dc.declination()"
   ]
  },
  {
   "cell_type": "code",
   "execution_count": 52,
   "metadata": {},
   "outputs": [
    {
     "name": "stdout",
     "output_type": "stream",
     "text": [
      "[6.48524632e+02 2.19088828e+00 2.67691532e-01]\n"
     ]
    }
   ],
   "source": [
    "c3.fit(prod,time='date',rate='bo', ad=True)"
   ]
  },
  {
   "cell_type": "code",
   "execution_count": 53,
   "metadata": {},
   "outputs": [
    {
     "data": {
      "text/html": [
       "<div>\n",
       "<style scoped>\n",
       "    .dataframe tbody tr th:only-of-type {\n",
       "        vertical-align: middle;\n",
       "    }\n",
       "\n",
       "    .dataframe tbody tr th {\n",
       "        vertical-align: top;\n",
       "    }\n",
       "\n",
       "    .dataframe thead th {\n",
       "        text-align: right;\n",
       "    }\n",
       "</style>\n",
       "<table border=\"1\" class=\"dataframe\">\n",
       "  <thead>\n",
       "    <tr style=\"text-align: right;\">\n",
       "      <th></th>\n",
       "      <th>rate</th>\n",
       "      <th>cum</th>\n",
       "    </tr>\n",
       "    <tr>\n",
       "      <th>time</th>\n",
       "      <th></th>\n",
       "      <th></th>\n",
       "    </tr>\n",
       "  </thead>\n",
       "  <tbody>\n",
       "    <tr>\n",
       "      <th>2019-08-31</th>\n",
       "      <td>611.03</td>\n",
       "      <td>611.03</td>\n",
       "    </tr>\n",
       "    <tr>\n",
       "      <th>2019-09-30</th>\n",
       "      <td>513.89</td>\n",
       "      <td>16027.64</td>\n",
       "    </tr>\n",
       "    <tr>\n",
       "      <th>2019-10-31</th>\n",
       "      <td>433.17</td>\n",
       "      <td>29455.94</td>\n",
       "    </tr>\n",
       "    <tr>\n",
       "      <th>2019-11-30</th>\n",
       "      <td>369.78</td>\n",
       "      <td>40549.23</td>\n",
       "    </tr>\n",
       "    <tr>\n",
       "      <th>2019-12-31</th>\n",
       "      <td>316.13</td>\n",
       "      <td>50349.13</td>\n",
       "    </tr>\n",
       "    <tr>\n",
       "      <th>2020-01-31</th>\n",
       "      <td>271.97</td>\n",
       "      <td>58780.23</td>\n",
       "    </tr>\n",
       "    <tr>\n",
       "      <th>2020-02-29</th>\n",
       "      <td>237.52</td>\n",
       "      <td>65668.22</td>\n",
       "    </tr>\n",
       "    <tr>\n",
       "      <th>2020-03-31</th>\n",
       "      <td>206.58</td>\n",
       "      <td>72072.11</td>\n",
       "    </tr>\n",
       "    <tr>\n",
       "      <th>2020-04-30</th>\n",
       "      <td>181.34</td>\n",
       "      <td>77512.46</td>\n",
       "    </tr>\n",
       "  </tbody>\n",
       "</table>\n",
       "</div>"
      ],
      "text/plain": [
       "              rate       cum\n",
       "time                        \n",
       "2019-08-31  611.03    611.03\n",
       "2019-09-30  513.89  16027.64\n",
       "2019-10-31  433.17  29455.94\n",
       "2019-11-30  369.78  40549.23\n",
       "2019-12-31  316.13  50349.13\n",
       "2020-01-31  271.97  58780.23\n",
       "2020-02-29  237.52  65668.22\n",
       "2020-03-31  206.58  72072.11\n",
       "2020-04-30  181.34  77512.46"
      ]
     },
     "execution_count": 53,
     "metadata": {},
     "output_type": "execute_result"
    }
   ],
   "source": [
    "f,np=c3.forecast(end_date=date(2020,5,1))\n",
    "f"
   ]
  },
  {
   "cell_type": "code",
   "execution_count": 54,
   "metadata": {},
   "outputs": [
    {
     "data": {
      "text/plain": [
       "[<matplotlib.lines.Line2D at 0x7fa639b31290>]"
      ]
     },
     "execution_count": 54,
     "metadata": {},
     "output_type": "execute_result"
    },
    {
     "data": {
      "image/png": "[encoded data removed]",
      "text/plain": [
       "<Figure size 1080x648 with 1 Axes>"
      ]
     },
     "metadata": {
      "needs_background": "light"
     },
     "output_type": "display_data"
    }
   ],
   "source": [
    "fig, ax = plt.subplots(figsize=(15,9))\n",
    "\n",
    "ax.plot(prod['date'], prod['bo'], linewidth = 1, color='darkgreen')\n",
    "ax.plot(f.index, f['rate'], linewidth = 2, linestyle='--', color='green')\n"
   ]
  },
  {
   "cell_type": "code",
   "execution_count": 55,
   "metadata": {},
   "outputs": [
    {
     "data": {
      "text/plain": [
       "Hyperbolic Declination \n",
       " Ti: 2019-08-21 \n",
       " Qi: 648.5246322834014 bbl/d \n",
       " Rate: 2.1908882754055856 Annually \n",
       " b: 0.2676915318755088"
      ]
     },
     "execution_count": 55,
     "metadata": {},
     "output_type": "execute_result"
    }
   ],
   "source": [
    "c3"
   ]
  },
  {
   "cell_type": "code",
   "execution_count": null,
   "metadata": {},
   "outputs": [],
   "source": []
  }
 ],
 "metadata": {
  "kernelspec": {
   "display_name": "Python 3",
   "language": "python",
   "name": "python3"
  },
  "language_info": {
   "codemirror_mode": {
    "name": "ipython",
    "version": 3
   },
   "file_extension": ".py",
   "mimetype": "text/x-python",
   "name": "python",
   "nbconvert_exporter": "python",
   "pygments_lexer": "ipython3",
   "version": "3.7.5"
  }
 },
 "nbformat": 4,
 "nbformat_minor": 4
}
