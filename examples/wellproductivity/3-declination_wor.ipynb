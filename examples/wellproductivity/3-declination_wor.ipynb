{
 "cells": [
  {
   "cell_type": "code",
   "execution_count": 1,
   "metadata": {},
   "outputs": [],
   "source": [
    "import os\n",
    "path = os.path.join('/home/santiago/Documents/dev/reservoirpy')\n",
    "import sys\n",
    "sys.path.insert(0,path)\n",
    "\n",
    "import numpy as np\n",
    "from datetime import date, timedelta\n",
    "import pandas as pd\n",
    "import matplotlib.pyplot as plt\n",
    "from reservoirpy.wellproductivitypy import decline as dc"
   ]
  },
  {
   "cell_type": "markdown",
   "metadata": {},
   "source": [
    "# Forecast using WOR vs Np Relationship\n",
    "\n",
    "The forecasting method using WOR vs Np relationship can be estimated by creating the `wor_declination` object. Its attributes are: The slope of the `ln(wor+1)/Np`; Initial Bsw `bsw_i`. "
   ]
  },
  {
   "cell_type": "code",
   "execution_count": 2,
   "metadata": {},
   "outputs": [],
   "source": [
    "# wor_declination initialized with Initial Bsw \n",
    "w = dc.wor_declination(slope=2e-6,bsw_i=0.75)\n"
   ]
  },
  {
   "cell_type": "code",
   "execution_count": 3,
   "metadata": {},
   "outputs": [
    {
     "name": "stdout",
     "output_type": "stream",
     "text": [
      "Attributes of object initialized with bsw_i\n",
      "0.75\n",
      "3.0\n"
     ]
    }
   ],
   "source": [
    "print('Attributes of object initialized with bsw_i')\n",
    "print(w.bsw_i)\n",
    "print(w.wor_i)\n"
   ]
  },
  {
   "cell_type": "markdown",
   "metadata": {},
   "source": [
    "## Forecast method\n"
   ]
  },
  {
   "cell_type": "code",
   "execution_count": 4,
   "metadata": {},
   "outputs": [
    {
     "data": {
      "text/plain": [
       "(              qf           qo           qw       bsw      wor_1        wor  \\\n",
       " time                                                                         \n",
       " 2020-05-31  5000  1250.000000  3750.000000  0.750000   4.000000   3.000000   \n",
       " 2020-06-30  5000  1246.878903  3753.121097  0.750624   4.010013   3.010013   \n",
       " 2020-07-31  5000  1157.000427  3842.999573  0.768600   4.321520   3.321520   \n",
       " 2020-08-31  5000  1076.911035  3923.088965  0.784618   4.642909   3.642909   \n",
       " 2020-09-30  5000  1007.355224  3992.644776  0.798529   4.963492   3.963492   \n",
       " ...          ...          ...          ...       ...        ...        ...   \n",
       " 2025-01-31  5000   237.918485  4762.081515  0.952416  21.015601  20.015601   \n",
       " 2025-02-28  5000   234.434720  4765.565280  0.953113  21.327899  20.327899   \n",
       " 2025-03-31  5000   231.377095  4768.622905  0.953725  21.609745  20.609745   \n",
       " 2025-04-30  5000   228.081596  4771.918404  0.954384  21.921979  20.921979   \n",
       " 2025-05-31  5000   224.981583  4775.018417  0.955004  22.224041  21.224041   \n",
       " \n",
       "                        np  \n",
       " time                       \n",
       " 2020-05-31    1250.000000  \n",
       " 2020-06-30   38656.367090  \n",
       " 2020-07-31   74523.380322  \n",
       " 2020-08-31  107907.622419  \n",
       " 2020-09-30  138128.279146  \n",
       " ...                   ...  \n",
       " 2025-01-31  836860.831333  \n",
       " 2025-02-28  843425.003480  \n",
       " 2025-03-31  850597.693410  \n",
       " 2025-04-30  857440.141300  \n",
       " 2025-05-31  864414.570388  \n",
       " \n",
       " [61 rows x 7 columns],\n",
       " 864414.5703878126)"
      ]
     },
     "execution_count": 4,
     "metadata": {},
     "output_type": "execute_result"
    }
   ],
   "source": [
    "f= w.forecast(\n",
    "    start_date=date(2020,5,21), \n",
    "    end_date=date(2025,6,21),\n",
    "    fq='M', \n",
    "    fluid_rate=5000)\n",
    "f"
   ]
  },
  {
   "cell_type": "markdown",
   "metadata": {},
   "source": [
    "# Forecast with different fluid Rate"
   ]
  },
  {
   "cell_type": "code",
   "execution_count": 5,
   "metadata": {},
   "outputs": [
    {
     "data": {
      "text/plain": [
       "<matplotlib.axes._subplots.AxesSubplot at 0x7f7da71b69d0>"
      ]
     },
     "execution_count": 5,
     "metadata": {},
     "output_type": "execute_result"
    },
    {
     "data": {
      "image/png": "[encoded data removed]",
      "text/plain": [
       "<Figure size 432x288 with 1 Axes>"
      ]
     },
     "metadata": {
      "needs_background": "light"
     },
     "output_type": "display_data"
    }
   ],
   "source": [
    "f,cum= w.forecast(\n",
    "    start_date=date(2020,5,21), \n",
    "    end_date=date(2025,6,21),\n",
    "    fq='M', \n",
    "    fluid_rate=np.array([1000]*20 + [1500]*20 + [2000]*21))\n",
    "f.plot(y=['qo','qf'])"
   ]
  },
  {
   "cell_type": "markdown",
   "metadata": {},
   "source": [
    "## Set start_date and end date"
   ]
  },
  {
   "cell_type": "code",
   "execution_count": 6,
   "metadata": {},
   "outputs": [
    {
     "data": {
      "text/plain": [
       "(              qf           qo           qw       bsw     wor_1       wor  \\\n",
       " time                                                                       \n",
       " 2020-01-31  5000  4750.000000   250.000000  0.050000  1.052632  0.052632   \n",
       " 2020-02-29  5000  4705.088667   294.911333  0.058982  1.062679  0.062679   \n",
       " 2020-03-31  5000  3581.384564  1418.615436  0.283723  1.396108  0.396108   \n",
       " 2020-04-30  5000  2868.254431  2131.745569  0.426349  1.743221  0.743221   \n",
       " 2020-05-31  5000  2414.780437  2585.219563  0.517044  2.070582  1.070582   \n",
       " 2020-06-30  5000  2079.010334  2920.989666  0.584198  2.404990  1.404990   \n",
       " 2020-07-31  5000  1835.196132  3164.803868  0.632961  2.724504  1.724504   \n",
       " 2020-08-31  5000  1637.825094  3362.174906  0.672435  3.052829  2.052829   \n",
       " 2020-09-30  5000  1479.677330  3520.322670  0.704065  3.379115  2.379115   \n",
       " 2020-10-31  5000  1353.973231  3646.026769  0.729205  3.692835  2.692835   \n",
       " 2020-11-30  5000  1244.952110  3755.047890  0.751010  4.016219  3.016219   \n",
       " 2020-12-31  5000  1155.346082  3844.653918  0.768931  4.327708  3.327708   \n",
       " \n",
       "                        np  \n",
       " time                       \n",
       " 2020-01-31    4750.000000  \n",
       " 2020-02-29  141197.571332  \n",
       " 2020-03-31  252220.492818  \n",
       " 2020-04-30  338268.125736  \n",
       " 2020-05-31  413126.319280  \n",
       " 2020-06-30  475496.629298  \n",
       " 2020-07-31  532387.709375  \n",
       " 2020-08-31  583160.287278  \n",
       " 2020-09-30  627550.607167  \n",
       " 2020-10-31  669523.777317  \n",
       " 2020-11-30  706872.340620  \n",
       " 2020-12-31  742688.069149  ,\n",
       " 742688.0691487896)"
      ]
     },
     "execution_count": 6,
     "metadata": {},
     "output_type": "execute_result"
    }
   ],
   "source": [
    "# wor_declination initialized with Initial Bsw \n",
    "w1 = dc.wor_declination(slope=2e-6,bsw_i=0.05, start_date = date(2020,1,1), end_date=date(2021,1,1))\n",
    "\n",
    "w1.forecast(fluid_rate=5000,fq='M')\n",
    "\n"
   ]
  },
  {
   "cell_type": "markdown",
   "metadata": {},
   "source": [
    "# Lims"
   ]
  },
  {
   "cell_type": "code",
   "execution_count": 7,
   "metadata": {},
   "outputs": [
    {
     "data": {
      "text/plain": [
       "(              qf           qo           qw       bsw     wor_1       wor  \\\n",
       " time                                                                       \n",
       " 2020-01-31  5000  4750.000000   250.000000  0.050000  1.052632  0.052632   \n",
       " 2020-02-29  5000  4705.088667   294.911333  0.058982  1.062679  0.062679   \n",
       " 2020-03-31  5000  3581.384564  1418.615436  0.283723  1.396108  0.396108   \n",
       " 2020-04-30  5000  2868.254431  2131.745569  0.426349  1.743221  0.743221   \n",
       " 2020-05-31  5000  2414.780437  2585.219563  0.517044  2.070582  1.070582   \n",
       " 2020-06-30  5000  2079.010334  2920.989666  0.584198  2.404990  1.404990   \n",
       " 2020-07-31  5000  1835.196132  3164.803868  0.632961  2.724504  1.724504   \n",
       " 2020-08-31  5000  1637.825094  3362.174906  0.672435  3.052829  2.052829   \n",
       " \n",
       "                        np  \n",
       " time                       \n",
       " 2020-01-31    4750.000000  \n",
       " 2020-02-29  141197.571332  \n",
       " 2020-03-31  252220.492818  \n",
       " 2020-04-30  338268.125736  \n",
       " 2020-05-31  413126.319280  \n",
       " 2020-06-30  475496.629298  \n",
       " 2020-07-31  532387.709375  \n",
       " 2020-08-31  583160.287278  ,\n",
       " 583160.2872780163)"
      ]
     },
     "execution_count": 7,
     "metadata": {},
     "output_type": "execute_result"
    }
   ],
   "source": [
    "# wor_declination initialized with Initial Bsw \n",
    "w2 = dc.wor_declination(slope=2e-6,bsw_i=0.05, start_date = date(2020,1,1), end_date=date(2021,1,1))\n",
    "\n",
    "w2.forecast(fluid_rate=5000,fq='M', np_limit=6e5, wor_limit=2)"
   ]
  },
  {
   "cell_type": "code",
   "execution_count": 8,
   "metadata": {},
   "outputs": [
    {
     "data": {
      "text/plain": [
       "(              qf           qo           qw       bsw     wor_1       wor  \\\n",
       " time                                                                       \n",
       " 2020-01-31  8000  7600.000000   400.000000  0.050000  1.052632  0.052632   \n",
       " 2020-02-29  8000  7485.353521   514.646479  0.064331  1.068754  0.068754   \n",
       " 2020-03-31  8000  4849.122414  3150.877586  0.393860  1.649783  0.649783   \n",
       " 2020-04-30  8000  3589.999824  4410.000176  0.551250  2.228412  1.228412   \n",
       " 2020-05-31  8000  2894.325697  5105.674303  0.638209  2.764029  1.764029   \n",
       " 2020-06-30  8000  2418.878422  5581.121578  0.697640  3.307318  2.307318   \n",
       " 2020-07-31  8000  2092.106107  5907.893893  0.738487  3.823898  2.823898   \n",
       " 2020-08-31  8000  1837.600578  6162.399422  0.770300  4.353503  3.353503   \n",
       " 2020-09-30  8000  1639.726486  6360.273514  0.795034  4.878862  3.878862   \n",
       " 2020-10-31  8000  1486.086065  6513.913935  0.814239  5.383268  4.383268   \n",
       " 2020-11-30  8000  1355.280611  6644.719389  0.830590  5.902837  4.902837   \n",
       " 2020-12-31  8000  1249.435300  6750.564700  0.843821  6.402893  5.402893   \n",
       " \n",
       "                        np  \n",
       " time                       \n",
       " 2020-01-31    7600.000000  \n",
       " 2020-02-29  224675.252096  \n",
       " 2020-03-31  374998.046944  \n",
       " 2020-04-30  482698.041656  \n",
       " 2020-05-31  572422.138258  \n",
       " 2020-06-30  644988.490920  \n",
       " 2020-07-31  709843.780248  \n",
       " 2020-08-31  766809.398158  \n",
       " 2020-09-30  816001.192732  \n",
       " 2020-10-31  862069.860747  \n",
       " 2020-11-30  902728.279073  \n",
       " 2020-12-31  941460.773370  ,\n",
       " 941460.7733695994)"
      ]
     },
     "execution_count": 8,
     "metadata": {},
     "output_type": "execute_result"
    }
   ],
   "source": [
    "# wor_declination initialized with Initial Bsw \n",
    "w3 = dc.wor_declination(slope=2e-6,bsw_i=0.05, start_date = date(2020,1,1), end_date=date(2021,1,1), fluid_rate=8000)\n",
    "\n",
    "w3.forecast()"
   ]
  },
  {
   "cell_type": "code",
   "execution_count": null,
   "metadata": {},
   "outputs": [],
   "source": []
  }
 ],
 "metadata": {
  "kernelspec": {
   "display_name": "Python 3",
   "language": "python",
   "name": "python3"
  },
  "language_info": {
   "codemirror_mode": {
    "name": "ipython",
    "version": 3
   },
   "file_extension": ".py",
   "mimetype": "text/x-python",
   "name": "python",
   "nbconvert_exporter": "python",
   "pygments_lexer": "ipython3",
   "version": "3.7.5"
  }
 },
 "nbformat": 4,
 "nbformat_minor": 4
}
