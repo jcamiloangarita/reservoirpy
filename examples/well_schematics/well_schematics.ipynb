{
 "cells": [
  {
   "cell_type": "code",
   "execution_count": 1,
   "metadata": {},
   "outputs": [],
   "source": [
    "import os\n",
    "path = os.path.join('/home/santiago/Documents/dev/reservoirpy')\n",
    "import sys\n",
    "sys.path.insert(0,path)\n",
    "import matplotlib.pyplot as plt\n",
    "from matplotlib import patches as mpatches\n",
    "import reservoirpy.wellschematicspy as ws\n",
    "import numpy as np\n",
    "import pandas as pd"
   ]
  },
  {
   "cell_type": "markdown",
   "metadata": {},
   "source": [
    "# Open Hole"
   ]
  },
  {
   "cell_type": "code",
   "execution_count": 2,
   "metadata": {},
   "outputs": [
    {
     "data": {
      "text/plain": [
       "[<matplotlib.patches.Rectangle at 0x7f37e69028d0>,\n",
       " <matplotlib.patches.Rectangle at 0x7f37e690c350>]"
      ]
     },
     "execution_count": 2,
     "metadata": {},
     "output_type": "execute_result"
    },
    {
     "data": {
      "image/png": "[encoded data removed]",
      "text/plain": [
       "<Figure size 288x648 with 1 Axes>"
      ]
     },
     "metadata": {
      "needs_background": "light"
     },
     "output_type": "display_data"
    }
   ],
   "source": [
    "oh = {\n",
    "    'oh1':{'top':0,'bottom':250,'diameter':17.5},\n",
    "    'oh2':{'top':250,'bottom':500,'diameter':12.25},\n",
    "}\n",
    "\n",
    "w1 = ws.well_schema(open_hole=oh)\n",
    "w1.plot()"
   ]
  },
  {
   "cell_type": "markdown",
   "metadata": {},
   "source": [
    "# Open  Hole +  Casing"
   ]
  },
  {
   "cell_type": "code",
   "execution_count": 3,
   "metadata": {},
   "outputs": [
    {
     "data": {
      "text/plain": [
       "[<matplotlib.patches.Rectangle at 0x7f37e6820a50>,\n",
       " <matplotlib.patches.Rectangle at 0x7f37e6820bd0>,\n",
       " <matplotlib.patches.Rectangle at 0x7f37e6820c90>,\n",
       " <matplotlib.patches.Rectangle at 0x7f37e6820dd0>,\n",
       " <matplotlib.patches.Rectangle at 0x7f37e6820ed0>,\n",
       " <matplotlib.patches.Polygon at 0x7f37e682c050>,\n",
       " <matplotlib.patches.Polygon at 0x7f37e682c110>,\n",
       " <matplotlib.patches.Rectangle at 0x7f37e682c250>,\n",
       " <matplotlib.patches.Rectangle at 0x7f37e682c310>,\n",
       " <matplotlib.patches.Polygon at 0x7f37e682c3d0>,\n",
       " <matplotlib.patches.Polygon at 0x7f37e682c550>]"
      ]
     },
     "execution_count": 3,
     "metadata": {},
     "output_type": "execute_result"
    },
    {
     "data": {
      "image/png": "[encoded data removed]",
      "text/plain": [
       "<Figure size 288x648 with 1 Axes>"
      ]
     },
     "metadata": {
      "needs_background": "light"
     },
     "output_type": "display_data"
    }
   ],
   "source": [
    "oh = {\n",
    "    'oh1':{'top':0,'bottom':250,'diameter':17.5},\n",
    "    'oh2':{'top':250,'bottom':500,'diameter':12.25},\n",
    "    'oh3':{'top':500,'bottom':2500,'diameter':8.5},\n",
    "}\n",
    "\n",
    "csg = {\n",
    "    'sup':{\"type\": \"casing\", \"top\": 0, \"bottom\": 240,'diameter':13.325,'pipe_width':0.04},\n",
    "    'int':{\"type\": \"casing\", \"top\": 0, \"bottom\":490,'diameter':9.625},\n",
    "}\n",
    "\n",
    "w1 = ws.well_schema(open_hole=oh, casing=csg)\n",
    "w1.plot(csg_kw={'pipe_width':0.04,'shoe_scale':10},xtick=False)"
   ]
  },
  {
   "cell_type": "markdown",
   "metadata": {},
   "source": [
    "# Openhole + casing + cement"
   ]
  },
  {
   "cell_type": "code",
   "execution_count": 4,
   "metadata": {},
   "outputs": [
    {
     "data": {
      "text/plain": [
       "[<matplotlib.patches.Rectangle at 0x7f37e67a8810>,\n",
       " <matplotlib.patches.Rectangle at 0x7f37e67a8950>,\n",
       " <matplotlib.patches.Rectangle at 0x7f37e67a8a10>,\n",
       " <matplotlib.patches.Rectangle at 0x7f37e67a8b50>,\n",
       " <matplotlib.patches.Polygon at 0x7f37e67a8c50>,\n",
       " <matplotlib.patches.Polygon at 0x7f37e67a8dd0>,\n",
       " <matplotlib.patches.Rectangle at 0x7f37e67a8f10>,\n",
       " <matplotlib.patches.Rectangle at 0x7f37e67a8e10>,\n",
       " <matplotlib.patches.Rectangle at 0x7f37e67b3110>,\n",
       " <matplotlib.patches.Rectangle at 0x7f37e67b31d0>,\n",
       " <matplotlib.patches.Rectangle at 0x7f37e67a8ed0>,\n",
       " <matplotlib.patches.Rectangle at 0x7f37e67b3410>,\n",
       " <matplotlib.patches.Polygon at 0x7f37e67b3390>,\n",
       " <matplotlib.patches.Polygon at 0x7f37e67b3610>,\n",
       " <matplotlib.patches.Rectangle at 0x7f37e67b3750>,\n",
       " <matplotlib.patches.Rectangle at 0x7f37e67b3810>]"
      ]
     },
     "execution_count": 4,
     "metadata": {},
     "output_type": "execute_result"
    },
    {
     "data": {
      "image/png": "[encoded data removed]",
      "text/plain": [
       "<Figure size 288x648 with 1 Axes>"
      ]
     },
     "metadata": {
      "needs_background": "light"
     },
     "output_type": "display_data"
    }
   ],
   "source": [
    "oh = {\n",
    "    'oh1':{'top':0,'bottom':250,'diameter':17.5},\n",
    "    'oh2':{'top':250,'bottom':500,'diameter':12.25},\n",
    "}\n",
    "\n",
    "#Cement must be a list of dict for allowing to make multiple stages\n",
    "cement_sup = [\n",
    "    {'top':20,'bottom':50,'oh':17.5},\n",
    "    {'top':70,'bottom':240,'oh':17.5,'color':'#adadad'}\n",
    "]\n",
    "\n",
    "cement_int = [\n",
    "    {'top':300,'bottom':489,'oh':12.25}\n",
    "]\n",
    "\n",
    "csg = {\n",
    "    'sup':{\"type\": \"casing\", \"top\": 0, \"bottom\": 240,'diameter':13.325,'cement':cement_sup},\n",
    "    'int':{\"type\": \"casing\", \"top\": 0, \"bottom\":490,'diameter':9.625, 'cement':cement_int},\n",
    "}\n",
    "\n",
    "w1 = ws.well_schema(open_hole=oh, casing=csg)\n",
    "w1.plot(csg_kw={'pipe_width':0.04,'shoe_scale':10},xtick=False)"
   ]
  },
  {
   "cell_type": "markdown",
   "metadata": {},
   "source": [
    "# Openhole + casing + cement + perforations"
   ]
  },
  {
   "cell_type": "code",
   "execution_count": 5,
   "metadata": {},
   "outputs": [
    {
     "data": {
      "text/plain": [
       "[<matplotlib.patches.Rectangle at 0x7f37e673c450>,\n",
       " <matplotlib.patches.Rectangle at 0x7f37e6747110>,\n",
       " <matplotlib.patches.Rectangle at 0x7f37e67471d0>,\n",
       " <matplotlib.patches.Rectangle at 0x7f37e6747310>,\n",
       " <matplotlib.patches.Polygon at 0x7f37e6747410>,\n",
       " <matplotlib.patches.Polygon at 0x7f37e6747590>,\n",
       " <matplotlib.patches.Rectangle at 0x7f37e67476d0>,\n",
       " <matplotlib.patches.Rectangle at 0x7f37e6747790>,\n",
       " <matplotlib.patches.Rectangle at 0x7f37e6747690>,\n",
       " <matplotlib.patches.Rectangle at 0x7f37e6747990>,\n",
       " <matplotlib.patches.Polygon at 0x7f37e6747910>,\n",
       " <matplotlib.patches.Polygon at 0x7f37e6747b90>,\n",
       " <matplotlib.patches.Rectangle at 0x7f37e6747c90>,\n",
       " <matplotlib.patches.Rectangle at 0x7f37e6747d50>,\n",
       " <matplotlib.patches.Polygon at 0x7f37e6747bd0>,\n",
       " <matplotlib.patches.Polygon at 0x7f37e6747ed0>,\n",
       " <matplotlib.patches.Polygon at 0x7f37e66cb110>,\n",
       " <matplotlib.patches.Polygon at 0x7f37e66cb210>,\n",
       " <matplotlib.patches.Polygon at 0x7f37e66cb310>,\n",
       " <matplotlib.patches.Polygon at 0x7f37e66cb410>,\n",
       " <matplotlib.patches.Polygon at 0x7f37e66cb510>,\n",
       " <matplotlib.patches.Polygon at 0x7f37e66cb5d0>,\n",
       " <matplotlib.patches.Polygon at 0x7f37e66cb750>,\n",
       " <matplotlib.patches.Polygon at 0x7f37e66cb850>,\n",
       " <matplotlib.patches.Polygon at 0x7f37e66cb950>,\n",
       " <matplotlib.patches.Polygon at 0x7f37e66cba50>,\n",
       " <matplotlib.patches.Polygon at 0x7f37e66cbb50>,\n",
       " <matplotlib.patches.Polygon at 0x7f37e66cbc50>,\n",
       " <matplotlib.patches.Polygon at 0x7f37e66cbd50>,\n",
       " <matplotlib.patches.Polygon at 0x7f37e66cbe50>,\n",
       " <matplotlib.patches.Polygon at 0x7f37e66cbf50>,\n",
       " <matplotlib.patches.Polygon at 0x7f37e66d0090>,\n",
       " <matplotlib.patches.Polygon at 0x7f37e66d0190>,\n",
       " <matplotlib.patches.Polygon at 0x7f37e66d0290>,\n",
       " <matplotlib.patches.Polygon at 0x7f37e66d0390>,\n",
       " <matplotlib.patches.Polygon at 0x7f37e66d0490>,\n",
       " <matplotlib.patches.Polygon at 0x7f37e66d0590>,\n",
       " <matplotlib.patches.Polygon at 0x7f37e66d0690>,\n",
       " <matplotlib.patches.Polygon at 0x7f37e66d0790>,\n",
       " <matplotlib.patches.Polygon at 0x7f37e66d0890>,\n",
       " <matplotlib.patches.Polygon at 0x7f37e66d0990>,\n",
       " <matplotlib.patches.Polygon at 0x7f37e66d0a90>,\n",
       " <matplotlib.patches.Polygon at 0x7f37e66d0b90>,\n",
       " <matplotlib.patches.Polygon at 0x7f37e66d0c90>,\n",
       " <matplotlib.patches.Polygon at 0x7f37e66d0d90>,\n",
       " <matplotlib.patches.Polygon at 0x7f37e66d0e90>,\n",
       " <matplotlib.patches.Polygon at 0x7f37e66d0f90>,\n",
       " <matplotlib.patches.Polygon at 0x7f37e66d60d0>,\n",
       " <matplotlib.patches.Polygon at 0x7f37e66d61d0>,\n",
       " <matplotlib.patches.Polygon at 0x7f37e66d62d0>,\n",
       " <matplotlib.patches.Polygon at 0x7f37e66d63d0>,\n",
       " <matplotlib.patches.Polygon at 0x7f37e66d64d0>,\n",
       " <matplotlib.patches.Polygon at 0x7f37e66d65d0>,\n",
       " <matplotlib.patches.Polygon at 0x7f37e66d66d0>,\n",
       " <matplotlib.patches.Polygon at 0x7f37e66d67d0>,\n",
       " <matplotlib.patches.Polygon at 0x7f37e66d68d0>,\n",
       " <matplotlib.patches.Polygon at 0x7f37e66d69d0>,\n",
       " <matplotlib.patches.Polygon at 0x7f37e66d6ad0>,\n",
       " <matplotlib.patches.Polygon at 0x7f37e66d6bd0>,\n",
       " <matplotlib.patches.Polygon at 0x7f37e66d6cd0>]"
      ]
     },
     "execution_count": 5,
     "metadata": {},
     "output_type": "execute_result"
    },
    {
     "data": {
      "image/png": "[encoded data removed]",
      "text/plain": [
       "<Figure size 288x648 with 1 Axes>"
      ]
     },
     "metadata": {
      "needs_background": "light"
     },
     "output_type": "display_data"
    }
   ],
   "source": [
    "oh = {\n",
    "    'oh1':{'top':0,'bottom':250,'diameter':17.5},\n",
    "    'oh2':{'top':250,'bottom':500,'diameter':12.25},\n",
    "}\n",
    "\n",
    "#Cement must be a list of dict for allowing to make multiple stages\n",
    "cement_sup = [\n",
    "    {'top':10,'bottom':240,'oh':17.5}\n",
    "]\n",
    "\n",
    "cement_int = [\n",
    "    {'top':300,'bottom':489,'oh':12.25}\n",
    "]\n",
    "\n",
    "#perforations must be a list of dict for allowing to make multiple perf\n",
    "perf = [\n",
    "    {'top':410,'bottom':415,'oh':12.25,'penetrate':1.1,'scale':2,'color':'r'},\n",
    "    {'top':380,'bottom':400,'oh':12.25}\n",
    "]\n",
    "\n",
    "\n",
    "csg = {\n",
    "    'sup':{\"type\": \"casing\", \"top\": 0, \"bottom\": 240,'diameter':13.325,'cement':cement_sup},\n",
    "    'int':{\"type\": \"casing\", \"top\": 0, \"bottom\":490,'diameter':9.625, 'cement':cement_int,'perforations':perf},\n",
    "}\n",
    "\n",
    "w1 = ws.well_schema(open_hole=oh, casing=csg)\n",
    "w1.plot(xtick=False)"
   ]
  },
  {
   "cell_type": "markdown",
   "metadata": {},
   "source": [
    "# Openhole + casing + cement + perforations + completion"
   ]
  },
  {
   "cell_type": "code",
   "execution_count": 13,
   "metadata": {
    "scrolled": false
   },
   "outputs": [
    {
     "data": {
      "text/plain": [
       "[<matplotlib.patches.Rectangle at 0x7f37e6052450>,\n",
       " <matplotlib.patches.Rectangle at 0x7f37e6052590>,\n",
       " <matplotlib.patches.Rectangle at 0x7f37e6052650>,\n",
       " <matplotlib.patches.Rectangle at 0x7f37e6052790>,\n",
       " <matplotlib.patches.Polygon at 0x7f37e60e38d0>,\n",
       " <matplotlib.patches.Polygon at 0x7f37e6052990>,\n",
       " <matplotlib.patches.Rectangle at 0x7f37e6052b10>,\n",
       " <matplotlib.patches.Rectangle at 0x7f37e6052bd0>,\n",
       " <matplotlib.patches.Rectangle at 0x7f37e6052ad0>,\n",
       " <matplotlib.patches.Rectangle at 0x7f37e6052dd0>,\n",
       " <matplotlib.patches.Polygon at 0x7f37e6052d50>,\n",
       " <matplotlib.patches.Polygon at 0x7f37e6052fd0>,\n",
       " <matplotlib.patches.Rectangle at 0x7f37e605a150>,\n",
       " <matplotlib.patches.Rectangle at 0x7f37e605a210>,\n",
       " <matplotlib.patches.Polygon at 0x7f37e605a050>,\n",
       " <matplotlib.patches.Polygon at 0x7f37e605a390>,\n",
       " <matplotlib.patches.Polygon at 0x7f37e605a590>,\n",
       " <matplotlib.patches.Polygon at 0x7f37e605a690>,\n",
       " <matplotlib.patches.Polygon at 0x7f37e605a790>,\n",
       " <matplotlib.patches.Polygon at 0x7f37e605a890>,\n",
       " <matplotlib.patches.Polygon at 0x7f37e605a990>,\n",
       " <matplotlib.patches.Polygon at 0x7f37e605aa90>,\n",
       " <matplotlib.patches.Polygon at 0x7f37e605ab90>,\n",
       " <matplotlib.patches.Polygon at 0x7f37e605ac90>,\n",
       " <matplotlib.patches.Polygon at 0x7f37e605ad90>,\n",
       " <matplotlib.patches.Polygon at 0x7f37e605ae90>,\n",
       " <matplotlib.patches.Polygon at 0x7f37e605af90>,\n",
       " <matplotlib.patches.Polygon at 0x7f37e605f0d0>,\n",
       " <matplotlib.patches.Polygon at 0x7f37e605f1d0>,\n",
       " <matplotlib.patches.Polygon at 0x7f37e605f2d0>,\n",
       " <matplotlib.patches.Polygon at 0x7f37e605f3d0>,\n",
       " <matplotlib.patches.Polygon at 0x7f37e605f4d0>,\n",
       " <matplotlib.patches.Polygon at 0x7f37e605f5d0>,\n",
       " <matplotlib.patches.Polygon at 0x7f37e605f6d0>,\n",
       " <matplotlib.patches.Polygon at 0x7f37e605f7d0>,\n",
       " <matplotlib.patches.Polygon at 0x7f37e605f8d0>,\n",
       " <matplotlib.patches.Polygon at 0x7f37e605f9d0>,\n",
       " <matplotlib.patches.Polygon at 0x7f37e605fad0>,\n",
       " <matplotlib.patches.Polygon at 0x7f37e605fbd0>,\n",
       " <matplotlib.patches.Polygon at 0x7f37e605fcd0>,\n",
       " <matplotlib.patches.Polygon at 0x7f37e605fdd0>,\n",
       " <matplotlib.patches.Polygon at 0x7f37e605fed0>,\n",
       " <matplotlib.patches.Polygon at 0x7f37e605ffd0>,\n",
       " <matplotlib.patches.Polygon at 0x7f37e6065110>,\n",
       " <matplotlib.patches.Polygon at 0x7f37e6065210>,\n",
       " <matplotlib.patches.Polygon at 0x7f37e6065310>,\n",
       " <matplotlib.patches.Polygon at 0x7f37e6065410>,\n",
       " <matplotlib.patches.Polygon at 0x7f37e6065510>,\n",
       " <matplotlib.patches.Polygon at 0x7f37e6065610>,\n",
       " <matplotlib.patches.Polygon at 0x7f37e6065710>,\n",
       " <matplotlib.patches.Polygon at 0x7f37e6065810>,\n",
       " <matplotlib.patches.Polygon at 0x7f37e6065910>,\n",
       " <matplotlib.patches.Polygon at 0x7f37e6065a10>,\n",
       " <matplotlib.patches.Polygon at 0x7f37e6065b10>,\n",
       " <matplotlib.patches.Polygon at 0x7f37e6065c10>,\n",
       " <matplotlib.patches.Polygon at 0x7f37e6065d10>,\n",
       " <matplotlib.patches.Polygon at 0x7f37e6065e10>,\n",
       " <matplotlib.patches.Polygon at 0x7f37e6065f10>,\n",
       " <matplotlib.patches.Polygon at 0x7f37e606a050>,\n",
       " <matplotlib.patches.Polygon at 0x7f37e606a150>,\n",
       " <matplotlib.patches.Polygon at 0x7f37e606a250>,\n",
       " <matplotlib.patches.Polygon at 0x7f37e606a350>,\n",
       " <matplotlib.patches.Polygon at 0x7f37e606a450>,\n",
       " <matplotlib.patches.Polygon at 0x7f37e606a550>,\n",
       " <matplotlib.patches.Rectangle at 0x7f37e605a110>,\n",
       " <matplotlib.patches.Rectangle at 0x7f37e606a6d0>,\n",
       " <matplotlib.patches.Rectangle at 0x7f37e606a790>,\n",
       " <matplotlib.patches.Rectangle at 0x7f37e606a850>,\n",
       " <matplotlib.patches.Rectangle at 0x7f37e606a950>,\n",
       " <matplotlib.patches.Rectangle at 0x7f37e606aa50>,\n",
       " <matplotlib.patches.Rectangle at 0x7f37e606ab50>,\n",
       " <matplotlib.patches.Rectangle at 0x7f37e606ac50>,\n",
       " <matplotlib.patches.Rectangle at 0x7f37e606ad50>,\n",
       " <matplotlib.patches.Rectangle at 0x7f37e606ae50>,\n",
       " <matplotlib.patches.Rectangle at 0x7f37e606af50>]"
      ]
     },
     "execution_count": 13,
     "metadata": {},
     "output_type": "execute_result"
    },
    {
     "data": {
      "image/png": "[encoded data removed]",
      "text/plain": [
       "<Figure size 288x648 with 1 Axes>"
      ]
     },
     "metadata": {
      "needs_background": "light"
     },
     "output_type": "display_data"
    }
   ],
   "source": [
    "oh = {\n",
    "    'oh1':{'top':0,'bottom':250,'diameter':17.5},\n",
    "    'oh2':{'top':250,'bottom':500,'diameter':12.25},\n",
    "}\n",
    "\n",
    "#Cement must be a list of dict for allowing to make multiple stages\n",
    "cement_sup = [\n",
    "    {'top':10,'bottom':240,'oh':17.5}\n",
    "]\n",
    "\n",
    "cement_int = [\n",
    "    {'top':300,'bottom':489,'oh':12.25}\n",
    "]\n",
    "\n",
    "#perforations must be a list of dict for allowing to make multiple perf\n",
    "perf = [\n",
    "    {'top':460,'bottom':470,'oh':12.25,'penetrate':1.1,'scale':2,'color':'r'},\n",
    "    {'top':380,'bottom':400,'oh':12.25}\n",
    "]\n",
    "\n",
    "\n",
    "csg = {\n",
    "    'sup':{\"type\": \"casing\", \"top\": 0, \"bottom\": 240,'diameter':13.325,'cement':cement_sup},\n",
    "    'int':{\"type\": \"casing\", \"top\": 0, \"bottom\":490,'diameter':9.625, 'cement':cement_int,'perforations':perf},\n",
    "}\n",
    "\n",
    "\n",
    "completion = {\n",
    "    'tbg1':{'type':'tubing','top':0,'bottom':360,'diameter':3.5},\n",
    "    'pack1':{'type':'packer','top':360,'bottom':365,'diameter':9.625},\n",
    "    'tbg2':{'type':'tubing','top':365,'bottom':380,'diameter':3.5},\n",
    "    'sliding':{'type':'sleeve','top':380,'bottom':385,'diameter':3.5},\n",
    "    'tbg3':{'type':'tubing','top':385,'bottom':400,'diameter':3.5},\n",
    "    'pack2':{'type':'packer','top':400,'bottom':405,'diameter':9.625},\n",
    "    'tbg4':{'type':'tubing','top':405,'bottom':450,'diameter':3.5},\n",
    "    \n",
    "}\n",
    "\n",
    "w1 = ws.well_schema(open_hole=oh, casing=csg, completion=completion)\n",
    "w1.plot(xtick=False,lims=[300,500])"
   ]
  },
  {
   "cell_type": "code",
   "execution_count": 7,
   "metadata": {},
   "outputs": [
    {
     "data": {
      "text/plain": [
       "[<matplotlib.patches.Rectangle at 0x7f37e6653150>,\n",
       " <matplotlib.patches.Rectangle at 0x7f37e6532550>,\n",
       " <matplotlib.patches.Rectangle at 0x7f37e6532610>,\n",
       " <matplotlib.patches.Rectangle at 0x7f37e6532750>,\n",
       " <matplotlib.patches.Rectangle at 0x7f37e6532850>,\n",
       " <matplotlib.patches.Polygon at 0x7f37e6532950>,\n",
       " <matplotlib.patches.Polygon at 0x7f37e6532ad0>,\n",
       " <matplotlib.patches.Rectangle at 0x7f37e6532bd0>,\n",
       " <matplotlib.patches.Rectangle at 0x7f37e6532c90>,\n",
       " <matplotlib.patches.Polygon at 0x7f37e6532d50>,\n",
       " <matplotlib.patches.Polygon at 0x7f37e6532ed0>]"
      ]
     },
     "execution_count": 7,
     "metadata": {},
     "output_type": "execute_result"
    },
    {
     "data": {
      "image/png": "[encoded data removed]",
      "text/plain": [
       "<Figure size 360x432 with 1 Axes>"
      ]
     },
     "metadata": {
      "needs_background": "light"
     },
     "output_type": "display_data"
    }
   ],
   "source": [
    "fig, ax = plt.subplots(1,1, figsize=(5,6))\n",
    "oh = {\n",
    "    'oh1':{'top':0,'bottom':250,'diameter':17.5},\n",
    "    'oh2':{'top':250,'bottom':500,'diameter':12.25},\n",
    "    'oh3':{'top':500,'bottom':2500,'diameter':8.5},\n",
    "}\n",
    "\n",
    "csg = {\n",
    "    'sup':{\"type\": \"casing\", \"top\": 0, \"bottom\": 240,'diameter':13.325},\n",
    "    'int':{\"type\": \"casing\", \"top\": 0, \"bottom\":490,'diameter':9.625},\n",
    "}\n",
    "\n",
    "w1 = ws.well_schema(open_hole=oh, casing=csg)\n",
    "w1.plot(csg_kw={'pipe_width':0.04,'shoe_scale':10},ax=ax)"
   ]
  },
  {
   "cell_type": "code",
   "execution_count": 8,
   "metadata": {},
   "outputs": [
    {
     "name": "stdout",
     "output_type": "stream",
     "text": [
      "10.5\n",
      "11.0\n",
      "11.5\n",
      "12.0\n",
      "12.5\n",
      "13.0\n",
      "13.5\n",
      "14.0\n",
      "14.5\n",
      "15.0\n"
     ]
    }
   ],
   "source": [
    "for i in np.arange(10.5,15.3,0.5):\n",
    "    print(i)"
   ]
  }
 ],
 "metadata": {
  "kernelspec": {
   "display_name": "Python 3",
   "language": "python",
   "name": "python3"
  },
  "language_info": {
   "codemirror_mode": {
    "name": "ipython",
    "version": 3
   },
   "file_extension": ".py",
   "mimetype": "text/x-python",
   "name": "python",
   "nbconvert_exporter": "python",
   "pygments_lexer": "ipython3",
   "version": "3.7.5"
  }
 },
 "nbformat": 4,
 "nbformat_minor": 4
}
