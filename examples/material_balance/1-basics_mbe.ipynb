{
 "cells": [
  {
   "cell_type": "code",
   "execution_count": 1,
   "metadata": {},
   "outputs": [],
   "source": [
    "import os\n",
    "path = os.path.abspath(os.path.join('..','..'))\n",
    "import sys\n",
    "sys.path.append(path)\n",
    "import pandas as pd\n",
    "import numpy as np\n",
    "from reservoirpy.materialbalancepy import mbe as mb\n",
    "from reservoirpy.pvtpy import black_oil as bl\n",
    "import matplotlib.pyplot as plt"
   ]
  },
  {
   "cell_type": "code",
   "execution_count": 2,
   "metadata": {},
   "outputs": [
    {
     "data": {
      "text/html": [
       "<div>\n",
       "<style scoped>\n",
       "    .dataframe tbody tr th:only-of-type {\n",
       "        vertical-align: middle;\n",
       "    }\n",
       "\n",
       "    .dataframe tbody tr th {\n",
       "        vertical-align: top;\n",
       "    }\n",
       "\n",
       "    .dataframe thead th {\n",
       "        text-align: right;\n",
       "    }\n",
       "</style>\n",
       "<table border=\"1\" class=\"dataframe\">\n",
       "  <thead>\n",
       "    <tr style=\"text-align: right;\">\n",
       "      <th></th>\n",
       "      <th>krw</th>\n",
       "      <th>kro</th>\n",
       "      <th>pc</th>\n",
       "    </tr>\n",
       "    <tr>\n",
       "      <th>sw</th>\n",
       "      <th></th>\n",
       "      <th></th>\n",
       "      <th></th>\n",
       "    </tr>\n",
       "  </thead>\n",
       "  <tbody>\n",
       "    <tr>\n",
       "      <th>0.10</th>\n",
       "      <td>0.000000</td>\n",
       "      <td>1.000000</td>\n",
       "      <td>0.0</td>\n",
       "    </tr>\n",
       "    <tr>\n",
       "      <th>0.20</th>\n",
       "      <td>0.013841</td>\n",
       "      <td>0.686953</td>\n",
       "      <td>0.0</td>\n",
       "    </tr>\n",
       "    <tr>\n",
       "      <th>0.30</th>\n",
       "      <td>0.055363</td>\n",
       "      <td>0.447181</td>\n",
       "      <td>0.0</td>\n",
       "    </tr>\n",
       "    <tr>\n",
       "      <th>0.40</th>\n",
       "      <td>0.124567</td>\n",
       "      <td>0.270914</td>\n",
       "      <td>0.0</td>\n",
       "    </tr>\n",
       "    <tr>\n",
       "      <th>0.50</th>\n",
       "      <td>0.221453</td>\n",
       "      <td>0.148382</td>\n",
       "      <td>0.0</td>\n",
       "    </tr>\n",
       "    <tr>\n",
       "      <th>0.60</th>\n",
       "      <td>0.346021</td>\n",
       "      <td>0.069815</td>\n",
       "      <td>0.0</td>\n",
       "    </tr>\n",
       "    <tr>\n",
       "      <th>0.70</th>\n",
       "      <td>0.498270</td>\n",
       "      <td>0.025443</td>\n",
       "      <td>0.0</td>\n",
       "    </tr>\n",
       "    <tr>\n",
       "      <th>0.80</th>\n",
       "      <td>0.678201</td>\n",
       "      <td>0.005496</td>\n",
       "      <td>0.0</td>\n",
       "    </tr>\n",
       "    <tr>\n",
       "      <th>0.90</th>\n",
       "      <td>0.885813</td>\n",
       "      <td>0.000204</td>\n",
       "      <td>0.0</td>\n",
       "    </tr>\n",
       "    <tr>\n",
       "      <th>0.95</th>\n",
       "      <td>1.000000</td>\n",
       "      <td>0.000000</td>\n",
       "      <td>0.0</td>\n",
       "    </tr>\n",
       "    <tr>\n",
       "      <th>1.00</th>\n",
       "      <td>1.000000</td>\n",
       "      <td>0.000000</td>\n",
       "      <td>0.0</td>\n",
       "    </tr>\n",
       "  </tbody>\n",
       "</table>\n",
       "</div>"
      ],
      "text/plain": [
       "           krw       kro   pc\n",
       "sw                           \n",
       "0.10  0.000000  1.000000  0.0\n",
       "0.20  0.013841  0.686953  0.0\n",
       "0.30  0.055363  0.447181  0.0\n",
       "0.40  0.124567  0.270914  0.0\n",
       "0.50  0.221453  0.148382  0.0\n",
       "0.60  0.346021  0.069815  0.0\n",
       "0.70  0.498270  0.025443  0.0\n",
       "0.80  0.678201  0.005496  0.0\n",
       "0.90  0.885813  0.000204  0.0\n",
       "0.95  1.000000  0.000000  0.0\n",
       "1.00  1.000000  0.000000  0.0"
      ]
     },
     "execution_count": 2,
     "metadata": {},
     "output_type": "execute_result"
    }
   ],
   "source": [
    "data = np.array([\n",
    "    [0.1000000, 0.0000000, 1.0000000, 0],\n",
    "    [0.2000000, 0.0138408, 0.6869530, 0],\n",
    "    [0.3000000, 0.0553633, 0.4471809, 0],\n",
    "    [0.4000000, 0.1245675, 0.2709139, 0],\n",
    "    [0.5000000, 0.2214533, 0.1483818, 0],\n",
    "    [0.6000000, 0.3460208, 0.0698148, 0],\n",
    "    [0.7000000, 0.4982699, 0.0254427, 0],\n",
    "    [0.8000000, 0.6782007, 0.0054956, 0],\n",
    "    [0.9000000, 0.8858131, 0.0002035, 0],\n",
    "    [0.9500000, 1.0000000, 0.0000000, 0],\n",
    "    [1.0000000, 1.0000000, 0.0000000, 0],\n",
    "])\n",
    "kr = mb.kr(data,columns=['sw','krw','kro','pc'])\n",
    "kr"
   ]
  },
  {
   "cell_type": "code",
   "execution_count": 3,
   "metadata": {},
   "outputs": [],
   "source": [
    "# Oil PVT\n",
    "oil_pvt = bl.pvt({\n",
    "    'pressure': [2925,2100,1800,1500],\n",
    "    'bo':[1.429,1.480,1.468,1.440],\n",
    "    'bt':[1.429,1.480,1.559,1.792],\n",
    "    'rs':[1340,1340,1280,1150],\n",
    "    'bg':[0.001,0.001283,0.001518,0.00183],\n",
    "    'muo':[10,7,7.5,8],\n",
    "    'mur':[0,34.1,38.3,42.4]\n",
    "})\n",
    "\n",
    "formation = 'fm1'\n",
    "api = 25\n",
    "pb = 2100\n",
    "rsi = 1340\n",
    "temp = 175\n",
    "\n",
    "o = bl.oil(\n",
    "    formation=formation,\n",
    "    api=api,\n",
    "    pb=pb,\n",
    "    rsb=rsi,\n",
    "    temp=temp,\n",
    "    pvt=oil_pvt\n",
    ")"
   ]
  },
  {
   "cell_type": "code",
   "execution_count": 4,
   "metadata": {},
   "outputs": [
    {
     "data": {
      "text/html": [
       "<div>\n",
       "<style scoped>\n",
       "    .dataframe tbody tr th:only-of-type {\n",
       "        vertical-align: middle;\n",
       "    }\n",
       "\n",
       "    .dataframe tbody tr th {\n",
       "        vertical-align: top;\n",
       "    }\n",
       "\n",
       "    .dataframe thead th {\n",
       "        text-align: right;\n",
       "    }\n",
       "</style>\n",
       "<table border=\"1\" class=\"dataframe\">\n",
       "  <thead>\n",
       "    <tr style=\"text-align: right;\">\n",
       "      <th></th>\n",
       "      <th>rsw</th>\n",
       "      <th>cw</th>\n",
       "      <th>bw</th>\n",
       "      <th>muw</th>\n",
       "      <th>rhow</th>\n",
       "    </tr>\n",
       "    <tr>\n",
       "      <th>pressure</th>\n",
       "      <th></th>\n",
       "      <th></th>\n",
       "      <th></th>\n",
       "      <th></th>\n",
       "      <th></th>\n",
       "    </tr>\n",
       "  </thead>\n",
       "  <tbody>\n",
       "    <tr>\n",
       "      <th>1000.0</th>\n",
       "      <td>6.803417</td>\n",
       "      <td>0.000003</td>\n",
       "      <td>1.029221</td>\n",
       "      <td>0.375964</td>\n",
       "      <td>60.628376</td>\n",
       "    </tr>\n",
       "    <tr>\n",
       "      <th>1500.0</th>\n",
       "      <td>8.975257</td>\n",
       "      <td>0.000003</td>\n",
       "      <td>1.028531</td>\n",
       "      <td>0.375964</td>\n",
       "      <td>60.669053</td>\n",
       "    </tr>\n",
       "    <tr>\n",
       "      <th>2000.0</th>\n",
       "      <td>11.044822</td>\n",
       "      <td>0.000003</td>\n",
       "      <td>1.027709</td>\n",
       "      <td>0.375964</td>\n",
       "      <td>60.717562</td>\n",
       "    </tr>\n",
       "    <tr>\n",
       "      <th>2500.0</th>\n",
       "      <td>13.012112</td>\n",
       "      <td>0.000003</td>\n",
       "      <td>1.026144</td>\n",
       "      <td>0.375964</td>\n",
       "      <td>60.810184</td>\n",
       "    </tr>\n",
       "    <tr>\n",
       "      <th>3000.0</th>\n",
       "      <td>14.877126</td>\n",
       "      <td>0.000003</td>\n",
       "      <td>1.024409</td>\n",
       "      <td>0.375964</td>\n",
       "      <td>60.913157</td>\n",
       "    </tr>\n",
       "  </tbody>\n",
       "</table>\n",
       "</div>"
      ],
      "text/plain": [
       "                rsw        cw        bw       muw       rhow\n",
       "pressure                                                    \n",
       "1000.0     6.803417  0.000003  1.029221  0.375964  60.628376\n",
       "1500.0     8.975257  0.000003  1.028531  0.375964  60.669053\n",
       "2000.0    11.044822  0.000003  1.027709  0.375964  60.717562\n",
       "2500.0    13.012112  0.000003  1.026144  0.375964  60.810184\n",
       "3000.0    14.877126  0.000003  1.024409  0.375964  60.913157"
      ]
     },
     "execution_count": 4,
     "metadata": {},
     "output_type": "execute_result"
    }
   ],
   "source": [
    "# Water\n",
    "\n",
    "w = bl.water(\n",
    "    formation=formation,\n",
    "    pb = pb,\n",
    "    temp = temp)\n",
    "\n",
    "w.pvt_from_correlations(start_pressure=1000,end_pressure=3000,n=5)\n",
    "w.pvt"
   ]
  },
  {
   "cell_type": "code",
   "execution_count": 5,
   "metadata": {},
   "outputs": [],
   "source": [
    "swi=0.15\n",
    "cf=4.9e-6\n",
    "ooip=10e6"
   ]
  },
  {
   "cell_type": "code",
   "execution_count": 6,
   "metadata": {},
   "outputs": [],
   "source": [
    "res1 = mb.reservoir(\n",
    "    n=ooip,\n",
    "    swi=swi,\n",
    "    cf = cf,\n",
    "    oil = o,\n",
    "    water = w,\n",
    "    pi=2925,    \n",
    "    kr_wo = kr\n",
    ")\n"
   ]
  },
  {
   "cell_type": "code",
   "execution_count": 7,
   "metadata": {},
   "outputs": [
    {
     "data": {
      "text/plain": [
       "array([2900.        , 2811.11111111, 2722.22222222, 2633.33333333,\n",
       "       2544.44444444, 2455.55555556, 2366.66666667, 2277.77777778,\n",
       "       2188.88888889, 2100.        ])"
      ]
     },
     "execution_count": 7,
     "metadata": {},
     "output_type": "execute_result"
    }
   ],
   "source": [
    "r = np.linspace(2100,2900,10)[::-1]\n",
    "\n",
    "r"
   ]
  },
  {
   "cell_type": "code",
   "execution_count": 8,
   "metadata": {},
   "outputs": [],
   "source": [
    "f_wp=res1.forecast_np(r,wp=True)\n",
    "f = res1.forecast_np(r,wp=False)"
   ]
  },
  {
   "cell_type": "code",
   "execution_count": 9,
   "metadata": {},
   "outputs": [
    {
     "data": {
      "text/plain": [
       "<matplotlib.legend.Legend at 0x7fc53dc16e90>"
      ]
     },
     "execution_count": 9,
     "metadata": {},
     "output_type": "execute_result"
    },
    {
     "data": {
      "image/png": "[encoded data removed]",
      "text/plain": [
       "<Figure size 432x288 with 1 Axes>"
      ]
     },
     "metadata": {
      "needs_background": "light"
     },
     "output_type": "display_data"
    }
   ],
   "source": [
    "fig, ax = plt.subplots()\n",
    "ax.plot(f['np'], f.index, label='without wp')\n",
    "ax.plot(f_wp['np'], f_wp.index, label='with wp')\n",
    "ax.set_ylim(0,3000)\n",
    "ax.legend()"
   ]
  },
  {
   "cell_type": "code",
   "execution_count": 14,
   "metadata": {},
   "outputs": [],
   "source": [
    "aq = mb.pot_aquifer(k=9987)"
   ]
  },
  {
   "cell_type": "code",
   "execution_count": 15,
   "metadata": {},
   "outputs": [],
   "source": [
    "res1_aq = mb.reservoir(\n",
    "    n=ooip,\n",
    "    swi=swi,\n",
    "    cf = cf,\n",
    "    oil = o,\n",
    "    water = w,\n",
    "    pi=2925,    \n",
    "    kr_wo = kr,\n",
    "    aquifer = aq\n",
    ")"
   ]
  },
  {
   "cell_type": "code",
   "execution_count": 16,
   "metadata": {},
   "outputs": [
    {
     "data": {
      "text/html": [
       "<div>\n",
       "<style scoped>\n",
       "    .dataframe tbody tr th:only-of-type {\n",
       "        vertical-align: middle;\n",
       "    }\n",
       "\n",
       "    .dataframe tbody tr th {\n",
       "        vertical-align: top;\n",
       "    }\n",
       "\n",
       "    .dataframe thead th {\n",
       "        text-align: right;\n",
       "    }\n",
       "</style>\n",
       "<table border=\"1\" class=\"dataframe\">\n",
       "  <thead>\n",
       "    <tr style=\"text-align: right;\">\n",
       "      <th></th>\n",
       "      <th>np</th>\n",
       "      <th>gp</th>\n",
       "      <th>wp</th>\n",
       "      <th>wor</th>\n",
       "      <th>bsw</th>\n",
       "      <th>sw</th>\n",
       "    </tr>\n",
       "  </thead>\n",
       "  <tbody>\n",
       "    <tr>\n",
       "      <th>2900.000000</th>\n",
       "      <td>1.618515e+05</td>\n",
       "      <td>2.168810e+08</td>\n",
       "      <td>3.499957e+04</td>\n",
       "      <td>0.216245</td>\n",
       "      <td>0.177797</td>\n",
       "      <td>0.150000</td>\n",
       "    </tr>\n",
       "    <tr>\n",
       "      <th>2811.111111</th>\n",
       "      <td>7.086057e+05</td>\n",
       "      <td>9.495317e+08</td>\n",
       "      <td>1.956731e+05</td>\n",
       "      <td>0.276138</td>\n",
       "      <td>0.216386</td>\n",
       "      <td>0.162853</td>\n",
       "    </tr>\n",
       "    <tr>\n",
       "      <th>2722.222222</th>\n",
       "      <td>1.052342e+06</td>\n",
       "      <td>1.410139e+09</td>\n",
       "      <td>6.358044e+05</td>\n",
       "      <td>0.604180</td>\n",
       "      <td>0.376629</td>\n",
       "      <td>0.206340</td>\n",
       "    </tr>\n",
       "    <tr>\n",
       "      <th>2633.333333</th>\n",
       "      <td>1.224619e+06</td>\n",
       "      <td>1.640990e+09</td>\n",
       "      <td>1.313883e+06</td>\n",
       "      <td>1.072891</td>\n",
       "      <td>0.517582</td>\n",
       "      <td>0.232777</td>\n",
       "    </tr>\n",
       "    <tr>\n",
       "      <th>2544.444444</th>\n",
       "      <td>1.471513e+06</td>\n",
       "      <td>1.971827e+09</td>\n",
       "      <td>1.884071e+06</td>\n",
       "      <td>1.280364</td>\n",
       "      <td>0.561473</td>\n",
       "      <td>0.244681</td>\n",
       "    </tr>\n",
       "    <tr>\n",
       "      <th>2455.555556</th>\n",
       "      <td>1.593356e+06</td>\n",
       "      <td>2.135097e+09</td>\n",
       "      <td>2.628964e+06</td>\n",
       "      <td>1.649954</td>\n",
       "      <td>0.622635</td>\n",
       "      <td>0.263144</td>\n",
       "    </tr>\n",
       "    <tr>\n",
       "      <th>2366.666667</th>\n",
       "      <td>1.817393e+06</td>\n",
       "      <td>2.435306e+09</td>\n",
       "      <td>3.226484e+06</td>\n",
       "      <td>1.775337</td>\n",
       "      <td>0.639683</td>\n",
       "      <td>0.270924</td>\n",
       "    </tr>\n",
       "    <tr>\n",
       "      <th>2277.777778</th>\n",
       "      <td>1.886178e+06</td>\n",
       "      <td>2.527479e+09</td>\n",
       "      <td>4.043385e+06</td>\n",
       "      <td>2.143692</td>\n",
       "      <td>0.681903</td>\n",
       "      <td>0.287679</td>\n",
       "    </tr>\n",
       "    <tr>\n",
       "      <th>2188.888889</th>\n",
       "      <td>2.140484e+06</td>\n",
       "      <td>2.868249e+09</td>\n",
       "      <td>4.592778e+06</td>\n",
       "      <td>2.145672</td>\n",
       "      <td>0.682103</td>\n",
       "      <td>0.291015</td>\n",
       "    </tr>\n",
       "    <tr>\n",
       "      <th>2100.000000</th>\n",
       "      <td>2.060840e+06</td>\n",
       "      <td>2.761525e+09</td>\n",
       "      <td>5.620220e+06</td>\n",
       "      <td>2.727150</td>\n",
       "      <td>0.731699</td>\n",
       "      <td>0.310668</td>\n",
       "    </tr>\n",
       "  </tbody>\n",
       "</table>\n",
       "</div>"
      ],
      "text/plain": [
       "                       np            gp            wp       wor       bsw  \\\n",
       "2900.000000  1.618515e+05  2.168810e+08  3.499957e+04  0.216245  0.177797   \n",
       "2811.111111  7.086057e+05  9.495317e+08  1.956731e+05  0.276138  0.216386   \n",
       "2722.222222  1.052342e+06  1.410139e+09  6.358044e+05  0.604180  0.376629   \n",
       "2633.333333  1.224619e+06  1.640990e+09  1.313883e+06  1.072891  0.517582   \n",
       "2544.444444  1.471513e+06  1.971827e+09  1.884071e+06  1.280364  0.561473   \n",
       "2455.555556  1.593356e+06  2.135097e+09  2.628964e+06  1.649954  0.622635   \n",
       "2366.666667  1.817393e+06  2.435306e+09  3.226484e+06  1.775337  0.639683   \n",
       "2277.777778  1.886178e+06  2.527479e+09  4.043385e+06  2.143692  0.681903   \n",
       "2188.888889  2.140484e+06  2.868249e+09  4.592778e+06  2.145672  0.682103   \n",
       "2100.000000  2.060840e+06  2.761525e+09  5.620220e+06  2.727150  0.731699   \n",
       "\n",
       "                   sw  \n",
       "2900.000000  0.150000  \n",
       "2811.111111  0.162853  \n",
       "2722.222222  0.206340  \n",
       "2633.333333  0.232777  \n",
       "2544.444444  0.244681  \n",
       "2455.555556  0.263144  \n",
       "2366.666667  0.270924  \n",
       "2277.777778  0.287679  \n",
       "2188.888889  0.291015  \n",
       "2100.000000  0.310668  "
      ]
     },
     "execution_count": 16,
     "metadata": {},
     "output_type": "execute_result"
    }
   ],
   "source": [
    "f_aq= res1_aq.forecast_np(r,wp=True)\n",
    "f_aq"
   ]
  },
  {
   "cell_type": "code",
   "execution_count": null,
   "metadata": {},
   "outputs": [],
   "source": []
  },
  {
   "cell_type": "code",
   "execution_count": null,
   "metadata": {},
   "outputs": [],
   "source": []
  },
  {
   "cell_type": "code",
   "execution_count": 17,
   "metadata": {},
   "outputs": [
    {
     "data": {
      "text/plain": [
       "<matplotlib.axes._subplots.AxesSubplot at 0x7fc53da8b290>"
      ]
     },
     "execution_count": 17,
     "metadata": {},
     "output_type": "execute_result"
    },
    {
     "data": {
      "image/png": "[encoded data removed]",
      "text/plain": [
       "<Figure size 432x288 with 1 Axes>"
      ]
     },
     "metadata": {
      "needs_background": "light"
     },
     "output_type": "display_data"
    }
   ],
   "source": [
    "f_aq.plot(y='bsw')"
   ]
  },
  {
   "cell_type": "code",
   "execution_count": null,
   "metadata": {},
   "outputs": [],
   "source": []
  }
 ],
 "metadata": {
  "kernelspec": {
   "display_name": "Python 3",
   "language": "python",
   "name": "python3"
  },
  "language_info": {
   "codemirror_mode": {
    "name": "ipython",
    "version": 3
   },
   "file_extension": ".py",
   "mimetype": "text/x-python",
   "name": "python",
   "nbconvert_exporter": "python",
   "pygments_lexer": "ipython3",
   "version": "3.7.5"
  }
 },
 "nbformat": 4,
 "nbformat_minor": 4
}
