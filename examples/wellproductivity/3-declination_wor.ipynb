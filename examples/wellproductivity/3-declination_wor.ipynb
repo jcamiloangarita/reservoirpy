{
 "cells": [
  {
   "cell_type": "code",
   "execution_count": 1,
   "metadata": {},
   "outputs": [],
   "source": [
    "import sys\n",
    "import os\n",
    "path = os.path.abspath(os.path.join('..','..'))\n",
    "sys.path.append(path)\n",
    "\n",
    "import numpy as np\n",
    "from datetime import date, timedelta\n",
    "import pandas as pd\n",
    "import matplotlib.pyplot as plt\n",
    "from reservoirpy.wellproductivitypy import decline as dc"
   ]
  },
  {
   "cell_type": "markdown",
   "metadata": {},
   "source": [
    "# Forecast using WOR vs Np Relationship\n",
    "\n",
    "The forecasting method using WOR vs Np relationship can be estimated by creating the `wor_declination` object. Its attributes are: The slope of the `ln(wor+1)/Np`; Initial Bsw `bsw_i`. "
   ]
  },
  {
   "cell_type": "code",
   "execution_count": 2,
   "metadata": {},
   "outputs": [],
   "source": [
    "# wor_declination initialized with Initial Bsw \n",
    "w = dc.wor_declination(slope=2e-6,bsw_i=0.75)\n"
   ]
  },
  {
   "cell_type": "code",
   "execution_count": 3,
   "metadata": {},
   "outputs": [
    {
     "name": "stdout",
     "output_type": "stream",
     "text": [
      "Attributes of object initialized with bsw_i\n",
      "0.75\n",
      "3.0\n"
     ]
    }
   ],
   "source": [
    "print('Attributes of object initialized with bsw_i')\n",
    "print(w.bsw_i)\n",
    "print(w.wor_i)\n"
   ]
  },
  {
   "cell_type": "markdown",
   "metadata": {},
   "source": [
    "## Forecast method\n"
   ]
  },
  {
   "cell_type": "code",
   "execution_count": 4,
   "metadata": {},
   "outputs": [
    {
     "data": {
      "text/html": [
       "<div>\n",
       "<style scoped>\n",
       "    .dataframe tbody tr th:only-of-type {\n",
       "        vertical-align: middle;\n",
       "    }\n",
       "\n",
       "    .dataframe tbody tr th {\n",
       "        vertical-align: top;\n",
       "    }\n",
       "\n",
       "    .dataframe thead th {\n",
       "        text-align: right;\n",
       "    }\n",
       "</style>\n",
       "<table border=\"1\" class=\"dataframe\">\n",
       "  <thead>\n",
       "    <tr style=\"text-align: right;\">\n",
       "      <th></th>\n",
       "      <th>qf</th>\n",
       "      <th>qo</th>\n",
       "      <th>qw</th>\n",
       "      <th>bsw</th>\n",
       "      <th>wor_1</th>\n",
       "      <th>wor</th>\n",
       "      <th>np</th>\n",
       "    </tr>\n",
       "  </thead>\n",
       "  <tbody>\n",
       "    <tr>\n",
       "      <th>2020-05-31</th>\n",
       "      <td>5000</td>\n",
       "      <td>1250.000000</td>\n",
       "      <td>3750.000000</td>\n",
       "      <td>0.750000</td>\n",
       "      <td>4.000000</td>\n",
       "      <td>3.000000</td>\n",
       "      <td>1250.000000</td>\n",
       "    </tr>\n",
       "    <tr>\n",
       "      <th>2020-06-30</th>\n",
       "      <td>5000</td>\n",
       "      <td>1246.878903</td>\n",
       "      <td>3753.121097</td>\n",
       "      <td>0.750624</td>\n",
       "      <td>4.010013</td>\n",
       "      <td>3.010013</td>\n",
       "      <td>38656.367090</td>\n",
       "    </tr>\n",
       "    <tr>\n",
       "      <th>2020-07-31</th>\n",
       "      <td>5000</td>\n",
       "      <td>1157.000427</td>\n",
       "      <td>3842.999573</td>\n",
       "      <td>0.768600</td>\n",
       "      <td>4.321520</td>\n",
       "      <td>3.321520</td>\n",
       "      <td>74523.380322</td>\n",
       "    </tr>\n",
       "    <tr>\n",
       "      <th>2020-08-31</th>\n",
       "      <td>5000</td>\n",
       "      <td>1076.911035</td>\n",
       "      <td>3923.088965</td>\n",
       "      <td>0.784618</td>\n",
       "      <td>4.642909</td>\n",
       "      <td>3.642909</td>\n",
       "      <td>107907.622419</td>\n",
       "    </tr>\n",
       "    <tr>\n",
       "      <th>2020-09-30</th>\n",
       "      <td>5000</td>\n",
       "      <td>1007.355224</td>\n",
       "      <td>3992.644776</td>\n",
       "      <td>0.798529</td>\n",
       "      <td>4.963492</td>\n",
       "      <td>3.963492</td>\n",
       "      <td>138128.279146</td>\n",
       "    </tr>\n",
       "    <tr>\n",
       "      <th>...</th>\n",
       "      <td>...</td>\n",
       "      <td>...</td>\n",
       "      <td>...</td>\n",
       "      <td>...</td>\n",
       "      <td>...</td>\n",
       "      <td>...</td>\n",
       "      <td>...</td>\n",
       "    </tr>\n",
       "    <tr>\n",
       "      <th>2025-01-31</th>\n",
       "      <td>5000</td>\n",
       "      <td>237.918485</td>\n",
       "      <td>4762.081515</td>\n",
       "      <td>0.952416</td>\n",
       "      <td>21.015601</td>\n",
       "      <td>20.015601</td>\n",
       "      <td>836860.831333</td>\n",
       "    </tr>\n",
       "    <tr>\n",
       "      <th>2025-02-28</th>\n",
       "      <td>5000</td>\n",
       "      <td>234.434720</td>\n",
       "      <td>4765.565280</td>\n",
       "      <td>0.953113</td>\n",
       "      <td>21.327899</td>\n",
       "      <td>20.327899</td>\n",
       "      <td>843425.003480</td>\n",
       "    </tr>\n",
       "    <tr>\n",
       "      <th>2025-03-31</th>\n",
       "      <td>5000</td>\n",
       "      <td>231.377095</td>\n",
       "      <td>4768.622905</td>\n",
       "      <td>0.953725</td>\n",
       "      <td>21.609745</td>\n",
       "      <td>20.609745</td>\n",
       "      <td>850597.693410</td>\n",
       "    </tr>\n",
       "    <tr>\n",
       "      <th>2025-04-30</th>\n",
       "      <td>5000</td>\n",
       "      <td>228.081596</td>\n",
       "      <td>4771.918404</td>\n",
       "      <td>0.954384</td>\n",
       "      <td>21.921979</td>\n",
       "      <td>20.921979</td>\n",
       "      <td>857440.141300</td>\n",
       "    </tr>\n",
       "    <tr>\n",
       "      <th>2025-05-31</th>\n",
       "      <td>5000</td>\n",
       "      <td>224.981583</td>\n",
       "      <td>4775.018417</td>\n",
       "      <td>0.955004</td>\n",
       "      <td>22.224041</td>\n",
       "      <td>21.224041</td>\n",
       "      <td>864414.570388</td>\n",
       "    </tr>\n",
       "  </tbody>\n",
       "</table>\n",
       "<p>61 rows × 7 columns</p>\n",
       "</div>"
      ],
      "text/plain": [
       "              qf           qo           qw       bsw      wor_1        wor  \\\n",
       "2020-05-31  5000  1250.000000  3750.000000  0.750000   4.000000   3.000000   \n",
       "2020-06-30  5000  1246.878903  3753.121097  0.750624   4.010013   3.010013   \n",
       "2020-07-31  5000  1157.000427  3842.999573  0.768600   4.321520   3.321520   \n",
       "2020-08-31  5000  1076.911035  3923.088965  0.784618   4.642909   3.642909   \n",
       "2020-09-30  5000  1007.355224  3992.644776  0.798529   4.963492   3.963492   \n",
       "...          ...          ...          ...       ...        ...        ...   \n",
       "2025-01-31  5000   237.918485  4762.081515  0.952416  21.015601  20.015601   \n",
       "2025-02-28  5000   234.434720  4765.565280  0.953113  21.327899  20.327899   \n",
       "2025-03-31  5000   231.377095  4768.622905  0.953725  21.609745  20.609745   \n",
       "2025-04-30  5000   228.081596  4771.918404  0.954384  21.921979  20.921979   \n",
       "2025-05-31  5000   224.981583  4775.018417  0.955004  22.224041  21.224041   \n",
       "\n",
       "                       np  \n",
       "2020-05-31    1250.000000  \n",
       "2020-06-30   38656.367090  \n",
       "2020-07-31   74523.380322  \n",
       "2020-08-31  107907.622419  \n",
       "2020-09-30  138128.279146  \n",
       "...                   ...  \n",
       "2025-01-31  836860.831333  \n",
       "2025-02-28  843425.003480  \n",
       "2025-03-31  850597.693410  \n",
       "2025-04-30  857440.141300  \n",
       "2025-05-31  864414.570388  \n",
       "\n",
       "[61 rows x 7 columns]"
      ]
     },
     "execution_count": 4,
     "metadata": {},
     "output_type": "execute_result"
    }
   ],
   "source": [
    "f= w.forecast(\n",
    "    start_date=date(2020,5,21), \n",
    "    end_date=date(2025,6,21),\n",
    "    fq='M', \n",
    "    fluid_rate=5000)\n",
    "f"
   ]
  },
  {
   "cell_type": "markdown",
   "metadata": {},
   "source": [
    "# Forecast with different fluid Rate"
   ]
  },
  {
   "cell_type": "code",
   "execution_count": 5,
   "metadata": {},
   "outputs": [
    {
     "data": {
      "text/plain": [
       "<matplotlib.axes._subplots.AxesSubplot at 0x7f87c4225cd0>"
      ]
     },
     "execution_count": 5,
     "metadata": {},
     "output_type": "execute_result"
    },
    {
     "data": {
      "image/png": "[encoded data removed]",
      "text/plain": [
       "<Figure size 432x288 with 1 Axes>"
      ]
     },
     "metadata": {
      "needs_background": "light"
     },
     "output_type": "display_data"
    }
   ],
   "source": [
    "f= w.forecast(\n",
    "    start_date=date(2020,5,21), \n",
    "    end_date=date(2025,6,21),\n",
    "    fq='M', \n",
    "    fluid_rate=np.array([1000]*20 + [1500]*20 + [2000]*21))\n",
    "f.plot(y=['qo','qf'])"
   ]
  },
  {
   "cell_type": "code",
   "execution_count": null,
   "metadata": {},
   "outputs": [],
   "source": []
  }
 ],
 "metadata": {
  "kernelspec": {
   "display_name": "Python 3",
   "language": "python",
   "name": "python3"
  },
  "language_info": {
   "codemirror_mode": {
    "name": "ipython",
    "version": 3
   },
   "file_extension": ".py",
   "mimetype": "text/x-python",
   "name": "python",
   "nbconvert_exporter": "python",
   "pygments_lexer": "ipython3",
   "version": "3.7.5"
  }
 },
 "nbformat": 4,
 "nbformat_minor": 4
}
