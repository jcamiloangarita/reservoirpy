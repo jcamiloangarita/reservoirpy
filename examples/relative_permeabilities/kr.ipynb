{
 "cells": [
  {
   "cell_type": "code",
   "execution_count": 1,
   "metadata": {},
   "outputs": [],
   "source": [
    "import os\n",
    "path = os.path.join('/home/santiago/Documents/dev/reservoirpy')\n",
    "import sys\n",
    "sys.path.insert(0,path)\n",
    "import pandas as pd\n",
    "import numpy as np\n",
    "import reservoirpy.krpy as kr\n",
    "import matplotlib.pyplot as plt"
   ]
  },
  {
   "cell_type": "markdown",
   "metadata": {},
   "source": [
    "# Create relative permeabilities table"
   ]
  },
  {
   "cell_type": "code",
   "execution_count": 2,
   "metadata": {},
   "outputs": [
    {
     "data": {
      "text/html": [
       "<div>\n",
       "<style scoped>\n",
       "    .dataframe tbody tr th:only-of-type {\n",
       "        vertical-align: middle;\n",
       "    }\n",
       "\n",
       "    .dataframe tbody tr th {\n",
       "        vertical-align: top;\n",
       "    }\n",
       "\n",
       "    .dataframe thead th {\n",
       "        text-align: right;\n",
       "    }\n",
       "</style>\n",
       "<table border=\"1\" class=\"dataframe\">\n",
       "  <thead>\n",
       "    <tr style=\"text-align: right;\">\n",
       "      <th></th>\n",
       "      <th>krw</th>\n",
       "      <th>kro</th>\n",
       "      <th>pc</th>\n",
       "    </tr>\n",
       "    <tr>\n",
       "      <th>sw</th>\n",
       "      <th></th>\n",
       "      <th></th>\n",
       "      <th></th>\n",
       "    </tr>\n",
       "  </thead>\n",
       "  <tbody>\n",
       "    <tr>\n",
       "      <th>0.10</th>\n",
       "      <td>0.000000</td>\n",
       "      <td>1.000000</td>\n",
       "      <td>0.0</td>\n",
       "    </tr>\n",
       "    <tr>\n",
       "      <th>0.20</th>\n",
       "      <td>0.013841</td>\n",
       "      <td>0.686953</td>\n",
       "      <td>0.0</td>\n",
       "    </tr>\n",
       "    <tr>\n",
       "      <th>0.30</th>\n",
       "      <td>0.055363</td>\n",
       "      <td>0.447181</td>\n",
       "      <td>0.0</td>\n",
       "    </tr>\n",
       "    <tr>\n",
       "      <th>0.40</th>\n",
       "      <td>0.124567</td>\n",
       "      <td>0.270914</td>\n",
       "      <td>0.0</td>\n",
       "    </tr>\n",
       "    <tr>\n",
       "      <th>0.50</th>\n",
       "      <td>0.221453</td>\n",
       "      <td>0.148382</td>\n",
       "      <td>0.0</td>\n",
       "    </tr>\n",
       "    <tr>\n",
       "      <th>0.60</th>\n",
       "      <td>0.346021</td>\n",
       "      <td>0.069815</td>\n",
       "      <td>0.0</td>\n",
       "    </tr>\n",
       "    <tr>\n",
       "      <th>0.70</th>\n",
       "      <td>0.498270</td>\n",
       "      <td>0.025443</td>\n",
       "      <td>0.0</td>\n",
       "    </tr>\n",
       "    <tr>\n",
       "      <th>0.80</th>\n",
       "      <td>0.678201</td>\n",
       "      <td>0.005496</td>\n",
       "      <td>0.0</td>\n",
       "    </tr>\n",
       "    <tr>\n",
       "      <th>0.90</th>\n",
       "      <td>0.885813</td>\n",
       "      <td>0.000204</td>\n",
       "      <td>0.0</td>\n",
       "    </tr>\n",
       "    <tr>\n",
       "      <th>0.95</th>\n",
       "      <td>1.000000</td>\n",
       "      <td>0.000000</td>\n",
       "      <td>0.0</td>\n",
       "    </tr>\n",
       "    <tr>\n",
       "      <th>1.00</th>\n",
       "      <td>1.000000</td>\n",
       "      <td>0.000000</td>\n",
       "      <td>0.0</td>\n",
       "    </tr>\n",
       "  </tbody>\n",
       "</table>\n",
       "</div>"
      ],
      "text/plain": [
       "           krw       kro   pc\n",
       "sw                           \n",
       "0.10  0.000000  1.000000  0.0\n",
       "0.20  0.013841  0.686953  0.0\n",
       "0.30  0.055363  0.447181  0.0\n",
       "0.40  0.124567  0.270914  0.0\n",
       "0.50  0.221453  0.148382  0.0\n",
       "0.60  0.346021  0.069815  0.0\n",
       "0.70  0.498270  0.025443  0.0\n",
       "0.80  0.678201  0.005496  0.0\n",
       "0.90  0.885813  0.000204  0.0\n",
       "0.95  1.000000  0.000000  0.0\n",
       "1.00  1.000000  0.000000  0.0"
      ]
     },
     "execution_count": 2,
     "metadata": {},
     "output_type": "execute_result"
    }
   ],
   "source": [
    "data = np.array([\n",
    "    [0.1000000, 0.0000000, 1.0000000, 0],\n",
    "    [0.2000000, 0.0138408, 0.6869530, 0],\n",
    "    [0.3000000, 0.0553633, 0.4471809, 0],\n",
    "    [0.4000000, 0.1245675, 0.2709139, 0],\n",
    "    [0.5000000, 0.2214533, 0.1483818, 0],\n",
    "    [0.6000000, 0.3460208, 0.0698148, 0],\n",
    "    [0.7000000, 0.4982699, 0.0254427, 0],\n",
    "    [0.8000000, 0.6782007, 0.0054956, 0],\n",
    "    [0.9000000, 0.8858131, 0.0002035, 0],\n",
    "    [0.9500000, 1.0000000, 0.0000000, 0],\n",
    "    [1.0000000, 1.0000000, 0.0000000, 0],\n",
    "])\n",
    "krwo = kr.kr_df(data,columns=['sw','krw','kro','pc'])\n",
    "krwo"
   ]
  },
  {
   "cell_type": "code",
   "execution_count": 3,
   "metadata": {},
   "outputs": [],
   "source": [
    "# Create Water Oil Relative permeabilities object"
   ]
  },
  {
   "cell_type": "code",
   "execution_count": 4,
   "metadata": {},
   "outputs": [],
   "source": [
    "krw = kr.water_oil_kr(\n",
    "    swir = 0.4, \n",
    "    sor=0.2, \n",
    "    nw=2, \n",
    "    no=2, \n",
    "    np=5, \n",
    "    pcend=20,\n",
    "    krwend = 0.5,\n",
    "    kroend = 0.9\n",
    ")"
   ]
  },
  {
   "cell_type": "code",
   "execution_count": 5,
   "metadata": {},
   "outputs": [
    {
     "data": {
      "text/html": [
       "<div>\n",
       "<style scoped>\n",
       "    .dataframe tbody tr th:only-of-type {\n",
       "        vertical-align: middle;\n",
       "    }\n",
       "\n",
       "    .dataframe tbody tr th {\n",
       "        vertical-align: top;\n",
       "    }\n",
       "\n",
       "    .dataframe thead th {\n",
       "        text-align: right;\n",
       "    }\n",
       "</style>\n",
       "<table border=\"1\" class=\"dataframe\">\n",
       "  <thead>\n",
       "    <tr style=\"text-align: right;\">\n",
       "      <th></th>\n",
       "      <th>krw</th>\n",
       "      <th>kro</th>\n",
       "      <th>pcwo</th>\n",
       "    </tr>\n",
       "    <tr>\n",
       "      <th>sw</th>\n",
       "      <th></th>\n",
       "      <th></th>\n",
       "      <th></th>\n",
       "    </tr>\n",
       "  </thead>\n",
       "  <tbody>\n",
       "    <tr>\n",
       "      <th>0.400000</th>\n",
       "      <td>0.000000</td>\n",
       "      <td>0.900000</td>\n",
       "      <td>20.000000</td>\n",
       "    </tr>\n",
       "    <tr>\n",
       "      <th>0.444444</th>\n",
       "      <td>0.006173</td>\n",
       "      <td>0.711111</td>\n",
       "      <td>11.098579</td>\n",
       "    </tr>\n",
       "    <tr>\n",
       "      <th>0.488889</th>\n",
       "      <td>0.024691</td>\n",
       "      <td>0.544444</td>\n",
       "      <td>5.692560</td>\n",
       "    </tr>\n",
       "    <tr>\n",
       "      <th>0.533333</th>\n",
       "      <td>0.055556</td>\n",
       "      <td>0.400000</td>\n",
       "      <td>2.633745</td>\n",
       "    </tr>\n",
       "    <tr>\n",
       "      <th>0.577778</th>\n",
       "      <td>0.098765</td>\n",
       "      <td>0.277778</td>\n",
       "      <td>1.058443</td>\n",
       "    </tr>\n",
       "    <tr>\n",
       "      <th>0.622222</th>\n",
       "      <td>0.154321</td>\n",
       "      <td>0.177778</td>\n",
       "      <td>0.346831</td>\n",
       "    </tr>\n",
       "    <tr>\n",
       "      <th>0.666667</th>\n",
       "      <td>0.222222</td>\n",
       "      <td>0.100000</td>\n",
       "      <td>0.082305</td>\n",
       "    </tr>\n",
       "    <tr>\n",
       "      <th>0.711111</th>\n",
       "      <td>0.302469</td>\n",
       "      <td>0.044444</td>\n",
       "      <td>0.010838</td>\n",
       "    </tr>\n",
       "    <tr>\n",
       "      <th>0.755556</th>\n",
       "      <td>0.395062</td>\n",
       "      <td>0.011111</td>\n",
       "      <td>0.000339</td>\n",
       "    </tr>\n",
       "    <tr>\n",
       "      <th>0.800000</th>\n",
       "      <td>0.500000</td>\n",
       "      <td>0.000000</td>\n",
       "      <td>0.000000</td>\n",
       "    </tr>\n",
       "    <tr>\n",
       "      <th>1.000000</th>\n",
       "      <td>1.000000</td>\n",
       "      <td>0.000000</td>\n",
       "      <td>0.000000</td>\n",
       "    </tr>\n",
       "  </tbody>\n",
       "</table>\n",
       "</div>"
      ],
      "text/plain": [
       "               krw       kro       pcwo\n",
       "sw                                     \n",
       "0.400000  0.000000  0.900000  20.000000\n",
       "0.444444  0.006173  0.711111  11.098579\n",
       "0.488889  0.024691  0.544444   5.692560\n",
       "0.533333  0.055556  0.400000   2.633745\n",
       "0.577778  0.098765  0.277778   1.058443\n",
       "0.622222  0.154321  0.177778   0.346831\n",
       "0.666667  0.222222  0.100000   0.082305\n",
       "0.711111  0.302469  0.044444   0.010838\n",
       "0.755556  0.395062  0.011111   0.000339\n",
       "0.800000  0.500000  0.000000   0.000000\n",
       "1.000000  1.000000  0.000000   0.000000"
      ]
     },
     "execution_count": 5,
     "metadata": {},
     "output_type": "execute_result"
    }
   ],
   "source": [
    "krw.build_kr(n=10)\n",
    "krw.kr"
   ]
  },
  {
   "cell_type": "code",
   "execution_count": 6,
   "metadata": {},
   "outputs": [
    {
     "data": {
      "image/png": "[encoded data removed]",
      "text/plain": [
       "<Figure size 432x288 with 1 Axes>"
      ]
     },
     "metadata": {
      "needs_background": "light"
     },
     "output_type": "display_data"
    }
   ],
   "source": [
    "krw.plot(ann=True, pc=False)"
   ]
  },
  {
   "cell_type": "code",
   "execution_count": 7,
   "metadata": {},
   "outputs": [
    {
     "data": {
      "image/png": "[encoded data removed]",
      "text/plain": [
       "<Figure size 432x288 with 1 Axes>"
      ]
     },
     "metadata": {
      "needs_background": "light"
     },
     "output_type": "display_data"
    }
   ],
   "source": [
    "krw.plot(kr=False, pc=True)"
   ]
  },
  {
   "cell_type": "code",
   "execution_count": 8,
   "metadata": {},
   "outputs": [
    {
     "data": {
      "image/png": "[encoded data removed]",
      "text/plain": [
       "<Figure size 432x288 with 2 Axes>"
      ]
     },
     "metadata": {
      "needs_background": "light"
     },
     "output_type": "display_data"
    }
   ],
   "source": [
    "krw.plot(pc=True, ann=False)"
   ]
  },
  {
   "cell_type": "markdown",
   "metadata": {},
   "source": [
    "# Gas oil"
   ]
  },
  {
   "cell_type": "code",
   "execution_count": 9,
   "metadata": {},
   "outputs": [],
   "source": [
    "kg = kr.gas_oil_kr(\n",
    "    slc = 0.48, \n",
    "    sgc=0.05, \n",
    "    ng=0.6, \n",
    "    no=1.2, \n",
    "    np=0.51, \n",
    "    pcend=30,\n",
    "    krgend = 0.95,\n",
    "    kroend = 0.6\n",
    ")"
   ]
  },
  {
   "cell_type": "code",
   "execution_count": 10,
   "metadata": {},
   "outputs": [
    {
     "data": {
      "text/html": [
       "<div>\n",
       "<style scoped>\n",
       "    .dataframe tbody tr th:only-of-type {\n",
       "        vertical-align: middle;\n",
       "    }\n",
       "\n",
       "    .dataframe tbody tr th {\n",
       "        vertical-align: top;\n",
       "    }\n",
       "\n",
       "    .dataframe thead th {\n",
       "        text-align: right;\n",
       "    }\n",
       "</style>\n",
       "<table border=\"1\" class=\"dataframe\">\n",
       "  <thead>\n",
       "    <tr style=\"text-align: right;\">\n",
       "      <th></th>\n",
       "      <th>sg</th>\n",
       "      <th>krg</th>\n",
       "      <th>kro</th>\n",
       "      <th>pcgo</th>\n",
       "    </tr>\n",
       "    <tr>\n",
       "      <th>sl</th>\n",
       "      <th></th>\n",
       "      <th></th>\n",
       "      <th></th>\n",
       "      <th></th>\n",
       "    </tr>\n",
       "  </thead>\n",
       "  <tbody>\n",
       "    <tr>\n",
       "      <th>0.950000</th>\n",
       "      <td>0.050000</td>\n",
       "      <td>0.000000</td>\n",
       "      <td>0.600000</td>\n",
       "      <td>0.000000</td>\n",
       "    </tr>\n",
       "    <tr>\n",
       "      <th>0.897778</th>\n",
       "      <td>0.102222</td>\n",
       "      <td>0.254201</td>\n",
       "      <td>0.520917</td>\n",
       "      <td>9.782674</td>\n",
       "    </tr>\n",
       "    <tr>\n",
       "      <th>0.845556</th>\n",
       "      <td>0.154444</td>\n",
       "      <td>0.385297</td>\n",
       "      <td>0.443790</td>\n",
       "      <td>13.931019</td>\n",
       "    </tr>\n",
       "    <tr>\n",
       "      <th>0.793333</th>\n",
       "      <td>0.206667</td>\n",
       "      <td>0.491418</td>\n",
       "      <td>0.368843</td>\n",
       "      <td>17.131264</td>\n",
       "    </tr>\n",
       "    <tr>\n",
       "      <th>0.741111</th>\n",
       "      <td>0.258889</td>\n",
       "      <td>0.584002</td>\n",
       "      <td>0.296363</td>\n",
       "      <td>19.838470</td>\n",
       "    </tr>\n",
       "    <tr>\n",
       "      <th>0.688889</th>\n",
       "      <td>0.311111</td>\n",
       "      <td>0.667667</td>\n",
       "      <td>0.226742</td>\n",
       "      <td>22.229632</td>\n",
       "    </tr>\n",
       "    <tr>\n",
       "      <th>0.636667</th>\n",
       "      <td>0.363333</td>\n",
       "      <td>0.744850</td>\n",
       "      <td>0.160548</td>\n",
       "      <td>24.395780</td>\n",
       "    </tr>\n",
       "    <tr>\n",
       "      <th>0.584444</th>\n",
       "      <td>0.415556</td>\n",
       "      <td>0.817028</td>\n",
       "      <td>0.098695</td>\n",
       "      <td>26.391105</td>\n",
       "    </tr>\n",
       "    <tr>\n",
       "      <th>0.532222</th>\n",
       "      <td>0.467778</td>\n",
       "      <td>0.885181</td>\n",
       "      <td>0.042960</td>\n",
       "      <td>28.250977</td>\n",
       "    </tr>\n",
       "    <tr>\n",
       "      <th>0.480000</th>\n",
       "      <td>0.520000</td>\n",
       "      <td>0.950000</td>\n",
       "      <td>0.000000</td>\n",
       "      <td>30.000000</td>\n",
       "    </tr>\n",
       "  </tbody>\n",
       "</table>\n",
       "</div>"
      ],
      "text/plain": [
       "                sg       krg       kro       pcgo\n",
       "sl                                               \n",
       "0.950000  0.050000  0.000000  0.600000   0.000000\n",
       "0.897778  0.102222  0.254201  0.520917   9.782674\n",
       "0.845556  0.154444  0.385297  0.443790  13.931019\n",
       "0.793333  0.206667  0.491418  0.368843  17.131264\n",
       "0.741111  0.258889  0.584002  0.296363  19.838470\n",
       "0.688889  0.311111  0.667667  0.226742  22.229632\n",
       "0.636667  0.363333  0.744850  0.160548  24.395780\n",
       "0.584444  0.415556  0.817028  0.098695  26.391105\n",
       "0.532222  0.467778  0.885181  0.042960  28.250977\n",
       "0.480000  0.520000  0.950000  0.000000  30.000000"
      ]
     },
     "execution_count": 10,
     "metadata": {},
     "output_type": "execute_result"
    }
   ],
   "source": [
    "kg.build_kr()"
   ]
  },
  {
   "cell_type": "code",
   "execution_count": 11,
   "metadata": {},
   "outputs": [
    {
     "data": {
      "image/png": "[encoded data removed]",
      "text/plain": [
       "<Figure size 432x288 with 1 Axes>"
      ]
     },
     "metadata": {
      "needs_background": "light"
     },
     "output_type": "display_data"
    }
   ],
   "source": [
    "kg.plot()"
   ]
  }
 ],
 "metadata": {
  "kernelspec": {
   "display_name": "Python 3",
   "language": "python",
   "name": "python3"
  },
  "language_info": {
   "codemirror_mode": {
    "name": "ipython",
    "version": 3
   },
   "file_extension": ".py",
   "mimetype": "text/x-python",
   "name": "python",
   "nbconvert_exporter": "python",
   "pygments_lexer": "ipython3",
   "version": "3.7.5"
  }
 },
 "nbformat": 4,
 "nbformat_minor": 4
}
