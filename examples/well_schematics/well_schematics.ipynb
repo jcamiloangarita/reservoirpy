{
 "cells": [
  {
   "cell_type": "code",
   "execution_count": 1,
   "metadata": {},
   "outputs": [],
   "source": [
    "import os\n",
    "path = os.path.join('/home/santiago/Documents/dev/reservoirpy')\n",
    "import sys\n",
    "sys.path.insert(0,path)\n",
    "import matplotlib.pyplot as plt\n",
    "from matplotlib import patches as mpatches\n",
    "import reservoirpy.wellschematicspy as ws\n",
    "import numpy as np"
   ]
  },
  {
   "cell_type": "code",
   "execution_count": 2,
   "metadata": {},
   "outputs": [
    {
     "name": "stdout",
     "output_type": "stream",
     "text": [
      "17.5\n"
     ]
    },
    {
     "data": {
      "text/plain": [
       "[<matplotlib.patches.Rectangle at 0x7f3b2a4d8050>,\n",
       " <matplotlib.patches.Rectangle at 0x7f3b2a4d8090>,\n",
       " <matplotlib.patches.Rectangle at 0x7f3b2a4d82d0>,\n",
       " <matplotlib.patches.Rectangle at 0x7f3b2a4d8410>,\n",
       " <matplotlib.patches.Rectangle at 0x7f3b2a4d8510>,\n",
       " <matplotlib.patches.Rectangle at 0x7f3b2a4d8610>]"
      ]
     },
     "execution_count": 2,
     "metadata": {},
     "output_type": "execute_result"
    },
    {
     "data": {
      "image/png": "[encoded data removed]",
      "text/plain": [
       "<Figure size 288x648 with 1 Axes>"
      ]
     },
     "metadata": {
      "needs_background": "light"
     },
     "output_type": "display_data"
    }
   ],
   "source": [
    "#fig, ax = plt.subplots(1,1)\n",
    "\n",
    "ws.plot_schematic(\n",
    "    [\n",
    "        {\"type\": \"casing\", \"top\": 0, \"bottom\": 255,'diameter':17.5},\n",
    "        {\"type\": \"casing\", \"top\": 0, \"bottom\":1000,'diameter':12.25},\n",
    "        {\"type\": \"casing\", \"top\": 0, \"bottom\":600,'diameter':3.5},\n",
    "        \n",
    "        \n",
    "    ],\n",
    "    #ax=ax,\n",
    "    pipe_width=0.05\n",
    ")"
   ]
  },
  {
   "cell_type": "code",
   "execution_count": 3,
   "metadata": {},
   "outputs": [
    {
     "data": {
      "text/plain": [
       "[<matplotlib.patches.Rectangle at 0x7f3b2a1b5810>,\n",
       " <matplotlib.patches.Rectangle at 0x7f3b2a1b5910>]"
      ]
     },
     "execution_count": 3,
     "metadata": {},
     "output_type": "execute_result"
    },
    {
     "data": {
      "image/png": "[encoded data removed]",
      "text/plain": [
       "<Figure size 288x648 with 1 Axes>"
      ]
     },
     "metadata": {
      "needs_background": "light"
     },
     "output_type": "display_data"
    }
   ],
   "source": [
    "oh = {\n",
    "    'oh1':{'top':0,'bottom':250,'diameter':17.5},\n",
    "    'oh2':{'top':250,'bottom':500,'diameter':12.25},\n",
    "}\n",
    "\n",
    "w1 = ws.well_schema(open_hole=oh)\n",
    "w1.plot()"
   ]
  },
  {
   "cell_type": "code",
   "execution_count": 6,
   "metadata": {},
   "outputs": [
    {
     "data": {
      "text/plain": [
       "[<matplotlib.patches.Rectangle at 0x7f3b2a0af390>,\n",
       " <matplotlib.patches.Rectangle at 0x7f3b2a0af510>,\n",
       " <matplotlib.patches.Rectangle at 0x7f3b2a0af5d0>,\n",
       " <matplotlib.patches.Rectangle at 0x7f3b2a0af710>,\n",
       " <matplotlib.patches.Rectangle at 0x7f3b2a0af810>,\n",
       " <matplotlib.patches.Polygon at 0x7f3b2a0af910>,\n",
       " <matplotlib.patches.Polygon at 0x7f3b2a0afa10>,\n",
       " <matplotlib.patches.Rectangle at 0x7f3b2a0afb50>,\n",
       " <matplotlib.patches.Rectangle at 0x7f3b2a0afc10>,\n",
       " <matplotlib.patches.Polygon at 0x7f3b2a0afcd0>,\n",
       " <matplotlib.patches.Polygon at 0x7f3b2a0afe50>]"
      ]
     },
     "execution_count": 6,
     "metadata": {},
     "output_type": "execute_result"
    },
    {
     "data": {
      "image/png": "[encoded data removed]",
      "text/plain": [
       "<Figure size 288x648 with 1 Axes>"
      ]
     },
     "metadata": {
      "needs_background": "light"
     },
     "output_type": "display_data"
    }
   ],
   "source": [
    "oh = {\n",
    "    'oh1':{'top':0,'bottom':250,'diameter':17.5},\n",
    "    'oh2':{'top':250,'bottom':500,'diameter':12.25},\n",
    "    'oh3':{'top':500,'bottom':2500,'diameter':8.5},\n",
    "}\n",
    "\n",
    "csg = {\n",
    "    'sup':{\"type\": \"casing\", \"top\": 0, \"bottom\": 240,'diameter':13.325},\n",
    "    'int':{\"type\": \"casing\", \"top\": 0, \"bottom\":490,'diameter':9.625},\n",
    "}\n",
    "\n",
    "w1 = ws.well_schema(open_hole=oh, casing=csg)\n",
    "w1.plot(csg_kw={'pipe_width':0.04,'shoe_scale':10},xtick=False)"
   ]
  },
  {
   "cell_type": "code",
   "execution_count": 8,
   "metadata": {},
   "outputs": [
    {
     "data": {
      "text/plain": [
       "[<matplotlib.patches.Rectangle at 0x7f3b29fffad0>,\n",
       " <matplotlib.patches.Rectangle at 0x7f3b29fb21d0>,\n",
       " <matplotlib.patches.Rectangle at 0x7f3b29fb2290>,\n",
       " <matplotlib.patches.Rectangle at 0x7f3b29fb23d0>,\n",
       " <matplotlib.patches.Rectangle at 0x7f3b29fb24d0>,\n",
       " <matplotlib.patches.Polygon at 0x7f3b29fb25d0>,\n",
       " <matplotlib.patches.Polygon at 0x7f3b29fb26d0>,\n",
       " <matplotlib.patches.Rectangle at 0x7f3b29fb2810>,\n",
       " <matplotlib.patches.Rectangle at 0x7f3b29fb28d0>,\n",
       " <matplotlib.patches.Polygon at 0x7f3b29fb2990>,\n",
       " <matplotlib.patches.Polygon at 0x7f3b29fb2b10>]"
      ]
     },
     "execution_count": 8,
     "metadata": {},
     "output_type": "execute_result"
    },
    {
     "data": {
      "image/png": "[encoded data removed]",
      "text/plain": [
       "<Figure size 360x432 with 1 Axes>"
      ]
     },
     "metadata": {
      "needs_background": "light"
     },
     "output_type": "display_data"
    }
   ],
   "source": [
    "fig, ax = plt.subplots(1,1, figsize=(5,6))\n",
    "oh = {\n",
    "    'oh1':{'top':0,'bottom':250,'diameter':17.5},\n",
    "    'oh2':{'top':250,'bottom':500,'diameter':12.25},\n",
    "    'oh3':{'top':500,'bottom':2500,'diameter':8.5},\n",
    "}\n",
    "\n",
    "csg = {\n",
    "    'sup':{\"type\": \"casing\", \"top\": 0, \"bottom\": 240,'diameter':13.325},\n",
    "    'int':{\"type\": \"casing\", \"top\": 0, \"bottom\":490,'diameter':9.625},\n",
    "}\n",
    "\n",
    "w1 = ws.well_schema(open_hole=oh, casing=csg)\n",
    "w1.plot(csg_kw={'pipe_width':0.04,'shoe_scale':10},ax=ax)"
   ]
  },
  {
   "cell_type": "code",
   "execution_count": null,
   "metadata": {},
   "outputs": [],
   "source": []
  }
 ],
 "metadata": {
  "kernelspec": {
   "display_name": "Python 3",
   "language": "python",
   "name": "python3"
  },
  "language_info": {
   "codemirror_mode": {
    "name": "ipython",
    "version": 3
   },
   "file_extension": ".py",
   "mimetype": "text/x-python",
   "name": "python",
   "nbconvert_exporter": "python",
   "pygments_lexer": "ipython3",
   "version": "3.7.5"
  }
 },
 "nbformat": 4,
 "nbformat_minor": 4
}
