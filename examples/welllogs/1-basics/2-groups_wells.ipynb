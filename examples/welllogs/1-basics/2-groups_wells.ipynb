{
 "cells": [
  {
   "cell_type": "markdown",
   "metadata": {
    "colab_type": "text",
    "id": "4yrdYIPSIAD9"
   },
   "source": [
    "# WELL NOTEBOOK\n",
    "## Well logs visualization &amp; petrophysics"
   ]
  },
  {
   "cell_type": "markdown",
   "metadata": {
    "colab_type": "text",
    "id": "p8qMZCfPIAD_"
   },
   "source": [
    "Install the the repository reservoirpy from github and import the required packages"
   ]
  },
  {
   "cell_type": "code",
   "execution_count": 18,
   "metadata": {
    "colab": {
     "base_uri": "https://localhost:8080/",
     "height": 564
    },
    "colab_type": "code",
    "id": "MFmaILapIAEA",
    "outputId": "1cab79f5-0c00-47b8-9832-c6113ad59e67"
   },
   "outputs": [],
   "source": [
    "import os\n",
    "path = os.path.abspath(os.path.join('..','..','..'))\n",
    "import sys\n",
    "sys.path.append(path)\n",
    "import pandas as pd\n",
    "import geopandas as gpd\n",
    "import numpy as np\n",
    "import matplotlib.pyplot as plt\n",
    "import seaborn as sns\n",
    "from shapely.geometry import Point\n",
    "import folium\n",
    "from pyproj import Proj, transform, CRS, Transformer\n",
    "import pyvista as pv\n",
    "from reservoirpy.wellpy import path as ph\n"
   ]
  },
  {
   "cell_type": "markdown",
   "metadata": {
    "colab_type": "text",
    "id": "WidbSIz2IAEF"
   },
   "source": [
    "### Well atributes\n",
    "\n",
    "Well atributes, name, rte, coordinates, survey"
   ]
  },
  {
   "cell_type": "code",
   "execution_count": 19,
   "metadata": {},
   "outputs": [
    {
     "data": {
      "text/html": [
       "<div>\n",
       "<style scoped>\n",
       "    .dataframe tbody tr th:only-of-type {\n",
       "        vertical-align: middle;\n",
       "    }\n",
       "\n",
       "    .dataframe tbody tr th {\n",
       "        vertical-align: top;\n",
       "    }\n",
       "\n",
       "    .dataframe thead th {\n",
       "        text-align: right;\n",
       "    }\n",
       "</style>\n",
       "<table border=\"1\" class=\"dataframe\">\n",
       "  <thead>\n",
       "    <tr style=\"text-align: right;\">\n",
       "      <th></th>\n",
       "      <th>md</th>\n",
       "      <th>inc</th>\n",
       "      <th>azi</th>\n",
       "    </tr>\n",
       "  </thead>\n",
       "  <tbody>\n",
       "    <tr>\n",
       "      <th>0</th>\n",
       "      <td>0.0</td>\n",
       "      <td>0.00</td>\n",
       "      <td>0.0</td>\n",
       "    </tr>\n",
       "    <tr>\n",
       "      <th>1</th>\n",
       "      <td>193.0</td>\n",
       "      <td>0.06</td>\n",
       "      <td>0.0</td>\n",
       "    </tr>\n",
       "    <tr>\n",
       "      <th>2</th>\n",
       "      <td>375.0</td>\n",
       "      <td>0.12</td>\n",
       "      <td>0.0</td>\n",
       "    </tr>\n",
       "    <tr>\n",
       "      <th>3</th>\n",
       "      <td>559.0</td>\n",
       "      <td>0.33</td>\n",
       "      <td>347.6</td>\n",
       "    </tr>\n",
       "    <tr>\n",
       "      <th>4</th>\n",
       "      <td>651.0</td>\n",
       "      <td>0.36</td>\n",
       "      <td>340.5</td>\n",
       "    </tr>\n",
       "  </tbody>\n",
       "</table>\n",
       "</div>"
      ],
      "text/plain": [
       "      md   inc    azi\n",
       "0    0.0  0.00    0.0\n",
       "1  193.0  0.06    0.0\n",
       "2  375.0  0.12    0.0\n",
       "3  559.0  0.33  347.6\n",
       "4  651.0  0.36  340.5"
      ]
     },
     "execution_count": 19,
     "metadata": {},
     "output_type": "execute_result"
    }
   ],
   "source": [
    "deviation = pd.read_csv('survey.csv', header=[0])\n",
    "deviation.head()"
   ]
  },
  {
   "cell_type": "code",
   "execution_count": 20,
   "metadata": {},
   "outputs": [
    {
     "data": {
      "text/html": [
       "<div>\n",
       "<style scoped>\n",
       "    .dataframe tbody tr th:only-of-type {\n",
       "        vertical-align: middle;\n",
       "    }\n",
       "\n",
       "    .dataframe tbody tr th {\n",
       "        vertical-align: top;\n",
       "    }\n",
       "\n",
       "    .dataframe thead th {\n",
       "        text-align: right;\n",
       "    }\n",
       "</style>\n",
       "<table border=\"1\" class=\"dataframe\">\n",
       "  <thead>\n",
       "    <tr style=\"text-align: right;\">\n",
       "      <th></th>\n",
       "      <th>md_top</th>\n",
       "      <th>md_bottom</th>\n",
       "    </tr>\n",
       "    <tr>\n",
       "      <th>formation</th>\n",
       "      <th></th>\n",
       "      <th></th>\n",
       "    </tr>\n",
       "  </thead>\n",
       "  <tbody>\n",
       "    <tr>\n",
       "      <th>fm1</th>\n",
       "      <td>5000</td>\n",
       "      <td>5099</td>\n",
       "    </tr>\n",
       "    <tr>\n",
       "      <th>fm2</th>\n",
       "      <td>5100</td>\n",
       "      <td>5145</td>\n",
       "    </tr>\n",
       "  </tbody>\n",
       "</table>\n",
       "</div>"
      ],
      "text/plain": [
       "           md_top  md_bottom\n",
       "formation                   \n",
       "fm1          5000       5099\n",
       "fm2          5100       5145"
      ]
     },
     "execution_count": 20,
     "metadata": {},
     "output_type": "execute_result"
    }
   ],
   "source": [
    "tops1 = ph.tops({'formation':['fm1','fm2'],'md_top':[5000,5100],'md_bottom':[5099,5145]})\n",
    "tops1"
   ]
  },
  {
   "cell_type": "markdown",
   "metadata": {},
   "source": [
    "## Create some wells"
   ]
  },
  {
   "cell_type": "code",
   "execution_count": 21,
   "metadata": {
    "colab": {
     "base_uri": "https://localhost:8080/",
     "height": 221
    },
    "colab_type": "code",
    "id": "FK5K_TQyIAEH",
    "outputId": "b79bfabb-8dfc-4e7c-c2d3-2576422ff075"
   },
   "outputs": [],
   "source": [
    "#Create the well object\n",
    "name1 = 'well-1'\n",
    "rte1 = 1515.78 # Rotary table Elevation\n",
    "surf_coord1 = [1000000,1000000]#Point(1000100,1000000,520)\n",
    "crs1 = 'EPSG:3117'\n",
    "tops1 = ph.tops({'formation':['fm1','fm2'],'md_top':[12000,12100],'md_bottom':[12099,12145]})\n",
    "deviation1 = deviation.copy()\n",
    "deviation1['azi'] = deviation1['azi'] + 0\n",
    "\n",
    "w1 = ph.well(name=name1, \n",
    "             rte=rte1, \n",
    "             surf_coord=surf_coord1, \n",
    "             survey = deviation1,\n",
    "             tops=tops1,\n",
    "             crs=crs1)\n",
    "\n",
    "\n",
    "#Create the well object\n",
    "name2 = 'well-2'\n",
    "rte2 = 515 # Rotary table Elevation\n",
    "surf_coord2 = Point(1000100,1000000)\n",
    "crs2 = 'EPSG:3117'\n",
    "tops2 = ph.tops({'formation':['fm1','fm2'],'md_top':[12000,12100],'md_bottom':[12099,12145]})\n",
    "deviation2 = deviation.copy()\n",
    "deviation2['azi'] = deviation1['azi'] + 0\n",
    "\n",
    "w2 = ph.well(name=name2, \n",
    "             rte=rte2, \n",
    "             surf_coord=surf_coord2,\n",
    "             survey = deviation2,\n",
    "             tops=tops2,\n",
    "             crs=crs2)\n",
    "\n",
    "\n",
    "#Create the well object\n",
    "name3 = 'well-3'\n",
    "rte3 = 515 # Rotary table Elevation\n",
    "surf_coord3 = Point(1000500,1000000)\n",
    "crs3 = 'EPSG:3117'\n",
    "tops3 = ph.tops({'formation':['fm1','fm2'],'md_top':[12000,12100],'md_bottom':[12099,12145]})\n",
    "deviation3 = deviation.copy()\n",
    "deviation3['azi'] = deviation1['azi'] + 30\n",
    "\n",
    "w3 = ph.well(name=name3, \n",
    "             rte=rte3, \n",
    "             surf_coord=surf_coord3,\n",
    "             survey = deviation3,\n",
    "             tops=tops3,\n",
    "             crs=crs3)"
   ]
  },
  {
   "cell_type": "markdown",
   "metadata": {},
   "source": [
    "## Create an empty wells group\n",
    "\n",
    "You can create a `wells_group` object either empty or not. It only receives `well` object."
   ]
  },
  {
   "cell_type": "code",
   "execution_count": 22,
   "metadata": {},
   "outputs": [],
   "source": [
    "g1 = ph.wells_group(w1)"
   ]
  },
  {
   "cell_type": "markdown",
   "metadata": {},
   "source": [
    "To see the list of wells call the method `wells_group.wells`. It contains a dictionary with the name of each well as the key and the `well` object as the item"
   ]
  },
  {
   "cell_type": "code",
   "execution_count": 23,
   "metadata": {},
   "outputs": [
    {
     "data": {
      "text/plain": [
       "{'well-1': <reservoirpy.wellpy.path.wells.well at 0x7fd141caa990>}"
      ]
     },
     "execution_count": 23,
     "metadata": {},
     "output_type": "execute_result"
    }
   ],
   "source": [
    "g1.wells"
   ]
  },
  {
   "cell_type": "markdown",
   "metadata": {},
   "source": [
    "### Add more wells to existing list\n",
    "\n",
    "by calling the method `wells_group.add_well()` you can add more wells to an existing group"
   ]
  },
  {
   "cell_type": "code",
   "execution_count": 24,
   "metadata": {},
   "outputs": [
    {
     "data": {
      "text/plain": [
       "{'well-1': <reservoirpy.wellpy.path.wells.well at 0x7fd141caa990>,\n",
       " 'well-2': <reservoirpy.wellpy.path.wells.well at 0x7fd141caaa90>,\n",
       " 'well-3': <reservoirpy.wellpy.path.wells.well at 0x7fd141c942d0>}"
      ]
     },
     "execution_count": 24,
     "metadata": {},
     "output_type": "execute_result"
    }
   ],
   "source": [
    "g1.add_well(w2,w3)\n",
    "g1.wells"
   ]
  },
  {
   "cell_type": "markdown",
   "metadata": {},
   "source": [
    "### Get attributes from a `wells_group`"
   ]
  },
  {
   "cell_type": "code",
   "execution_count": 25,
   "metadata": {},
   "outputs": [
    {
     "data": {
      "text/plain": [
       "'POINT (1000500 1000000)'"
      ]
     },
     "execution_count": 25,
     "metadata": {},
     "output_type": "execute_result"
    }
   ],
   "source": [
    "g1.wells['well-3'].surf_coord.wkt"
   ]
  },
  {
   "cell_type": "markdown",
   "metadata": {},
   "source": [
    "### Describe each well with its attributes"
   ]
  },
  {
   "cell_type": "code",
   "execution_count": 26,
   "metadata": {},
   "outputs": [
    {
     "data": {
      "text/html": [
       "<div>\n",
       "<style scoped>\n",
       "    .dataframe tbody tr th:only-of-type {\n",
       "        vertical-align: middle;\n",
       "    }\n",
       "\n",
       "    .dataframe tbody tr th {\n",
       "        vertical-align: top;\n",
       "    }\n",
       "\n",
       "    .dataframe thead th {\n",
       "        text-align: right;\n",
       "    }\n",
       "</style>\n",
       "<table border=\"1\" class=\"dataframe\">\n",
       "  <thead>\n",
       "    <tr style=\"text-align: right;\">\n",
       "      <th></th>\n",
       "      <th>rte</th>\n",
       "      <th>surf_coord</th>\n",
       "      <th>crs</th>\n",
       "      <th>survey</th>\n",
       "      <th>perforations</th>\n",
       "      <th>tops</th>\n",
       "      <th>openlog</th>\n",
       "      <th>masterlog</th>\n",
       "      <th>caselog</th>\n",
       "    </tr>\n",
       "  </thead>\n",
       "  <tbody>\n",
       "    <tr>\n",
       "      <th>well-1</th>\n",
       "      <td>1515.78</td>\n",
       "      <td>POINT (1000000.000 1000000.000)</td>\n",
       "      <td>EPSG:3117</td>\n",
       "      <td>True</td>\n",
       "      <td>False</td>\n",
       "      <td>True</td>\n",
       "      <td>False</td>\n",
       "      <td>False</td>\n",
       "      <td>False</td>\n",
       "    </tr>\n",
       "    <tr>\n",
       "      <th>well-2</th>\n",
       "      <td>515.00</td>\n",
       "      <td>POINT (1000100.000 1000000.000)</td>\n",
       "      <td>EPSG:3117</td>\n",
       "      <td>True</td>\n",
       "      <td>False</td>\n",
       "      <td>True</td>\n",
       "      <td>False</td>\n",
       "      <td>False</td>\n",
       "      <td>False</td>\n",
       "    </tr>\n",
       "    <tr>\n",
       "      <th>well-3</th>\n",
       "      <td>515.00</td>\n",
       "      <td>POINT (1000500.000 1000000.000)</td>\n",
       "      <td>EPSG:3117</td>\n",
       "      <td>True</td>\n",
       "      <td>False</td>\n",
       "      <td>True</td>\n",
       "      <td>False</td>\n",
       "      <td>False</td>\n",
       "      <td>False</td>\n",
       "    </tr>\n",
       "  </tbody>\n",
       "</table>\n",
       "</div>"
      ],
      "text/plain": [
       "            rte                       surf_coord        crs  survey  \\\n",
       "well-1  1515.78  POINT (1000000.000 1000000.000)  EPSG:3117    True   \n",
       "well-2   515.00  POINT (1000100.000 1000000.000)  EPSG:3117    True   \n",
       "well-3   515.00  POINT (1000500.000 1000000.000)  EPSG:3117    True   \n",
       "\n",
       "        perforations  tops  openlog  masterlog  caselog  \n",
       "well-1         False  True    False      False    False  \n",
       "well-2         False  True    False      False    False  \n",
       "well-3         False  True    False      False    False  "
      ]
     },
     "execution_count": 26,
     "metadata": {},
     "output_type": "execute_result"
    }
   ],
   "source": [
    "g1.describe()"
   ]
  },
  {
   "cell_type": "markdown",
   "metadata": {},
   "source": [
    "#### Wells tops\n",
    "\n",
    "Get the wells formations tops. If no parameters passed, it returns all wells and formations. You can pass `wells` and `formations` parameter to get the selected wells and formations"
   ]
  },
  {
   "cell_type": "code",
   "execution_count": 27,
   "metadata": {},
   "outputs": [
    {
     "data": {
      "text/html": [
       "<div>\n",
       "<style scoped>\n",
       "    .dataframe tbody tr th:only-of-type {\n",
       "        vertical-align: middle;\n",
       "    }\n",
       "\n",
       "    .dataframe tbody tr th {\n",
       "        vertical-align: top;\n",
       "    }\n",
       "\n",
       "    .dataframe thead th {\n",
       "        text-align: right;\n",
       "    }\n",
       "</style>\n",
       "<table border=\"1\" class=\"dataframe\">\n",
       "  <thead>\n",
       "    <tr style=\"text-align: right;\">\n",
       "      <th></th>\n",
       "      <th>formation</th>\n",
       "      <th>md_top</th>\n",
       "      <th>md_bottom</th>\n",
       "      <th>tvd_top</th>\n",
       "      <th>tvd_bottom</th>\n",
       "      <th>tvd_tick</th>\n",
       "      <th>tvdss_top</th>\n",
       "      <th>tvdss_bottom</th>\n",
       "      <th>northing</th>\n",
       "      <th>easting</th>\n",
       "      <th>geometry</th>\n",
       "      <th>well</th>\n",
       "    </tr>\n",
       "  </thead>\n",
       "  <tbody>\n",
       "    <tr>\n",
       "      <th>0</th>\n",
       "      <td>fm1</td>\n",
       "      <td>12000</td>\n",
       "      <td>12099</td>\n",
       "      <td>11769.039476</td>\n",
       "      <td>11862.764382</td>\n",
       "      <td>93.724906</td>\n",
       "      <td>-10253.259476</td>\n",
       "      <td>-10346.984382</td>\n",
       "      <td>999560.336081</td>\n",
       "      <td>9.999743e+05</td>\n",
       "      <td>POINT (999974.312 999560.336)</td>\n",
       "      <td>well-1</td>\n",
       "    </tr>\n",
       "    <tr>\n",
       "      <th>1</th>\n",
       "      <td>fm2</td>\n",
       "      <td>12100</td>\n",
       "      <td>12145</td>\n",
       "      <td>11863.712479</td>\n",
       "      <td>11906.390781</td>\n",
       "      <td>42.678303</td>\n",
       "      <td>-10347.932479</td>\n",
       "      <td>-10390.610781</td>\n",
       "      <td>999550.532263</td>\n",
       "      <td>9.999739e+05</td>\n",
       "      <td>POINT (999973.871 999550.532)</td>\n",
       "      <td>well-1</td>\n",
       "    </tr>\n",
       "    <tr>\n",
       "      <th>2</th>\n",
       "      <td>fm1</td>\n",
       "      <td>12000</td>\n",
       "      <td>12099</td>\n",
       "      <td>11769.039476</td>\n",
       "      <td>11862.764382</td>\n",
       "      <td>93.724906</td>\n",
       "      <td>-11254.039476</td>\n",
       "      <td>-11347.764382</td>\n",
       "      <td>999560.336081</td>\n",
       "      <td>1.000074e+06</td>\n",
       "      <td>POINT (1000074.312 999560.336)</td>\n",
       "      <td>well-2</td>\n",
       "    </tr>\n",
       "    <tr>\n",
       "      <th>3</th>\n",
       "      <td>fm2</td>\n",
       "      <td>12100</td>\n",
       "      <td>12145</td>\n",
       "      <td>11863.712479</td>\n",
       "      <td>11906.390781</td>\n",
       "      <td>42.678303</td>\n",
       "      <td>-11348.712479</td>\n",
       "      <td>-11391.390781</td>\n",
       "      <td>999550.532263</td>\n",
       "      <td>1.000074e+06</td>\n",
       "      <td>POINT (1000073.871 999550.532)</td>\n",
       "      <td>well-2</td>\n",
       "    </tr>\n",
       "    <tr>\n",
       "      <th>4</th>\n",
       "      <td>fm1</td>\n",
       "      <td>12000</td>\n",
       "      <td>12099</td>\n",
       "      <td>11769.039476</td>\n",
       "      <td>11862.764382</td>\n",
       "      <td>93.724906</td>\n",
       "      <td>-11254.039476</td>\n",
       "      <td>-11347.764382</td>\n",
       "      <td>999632.083642</td>\n",
       "      <td>1.000258e+06</td>\n",
       "      <td>POINT (1000257.922 999632.084)</td>\n",
       "      <td>well-3</td>\n",
       "    </tr>\n",
       "    <tr>\n",
       "      <th>5</th>\n",
       "      <td>fm2</td>\n",
       "      <td>12100</td>\n",
       "      <td>12145</td>\n",
       "      <td>11863.712479</td>\n",
       "      <td>11906.390781</td>\n",
       "      <td>42.678303</td>\n",
       "      <td>-11348.712479</td>\n",
       "      <td>-11391.390781</td>\n",
       "      <td>999623.814231</td>\n",
       "      <td>1.000253e+06</td>\n",
       "      <td>POINT (1000252.637 999623.814)</td>\n",
       "      <td>well-3</td>\n",
       "    </tr>\n",
       "  </tbody>\n",
       "</table>\n",
       "</div>"
      ],
      "text/plain": [
       "  formation  md_top  md_bottom       tvd_top    tvd_bottom   tvd_tick  \\\n",
       "0       fm1   12000      12099  11769.039476  11862.764382  93.724906   \n",
       "1       fm2   12100      12145  11863.712479  11906.390781  42.678303   \n",
       "2       fm1   12000      12099  11769.039476  11862.764382  93.724906   \n",
       "3       fm2   12100      12145  11863.712479  11906.390781  42.678303   \n",
       "4       fm1   12000      12099  11769.039476  11862.764382  93.724906   \n",
       "5       fm2   12100      12145  11863.712479  11906.390781  42.678303   \n",
       "\n",
       "      tvdss_top  tvdss_bottom       northing       easting  \\\n",
       "0 -10253.259476 -10346.984382  999560.336081  9.999743e+05   \n",
       "1 -10347.932479 -10390.610781  999550.532263  9.999739e+05   \n",
       "2 -11254.039476 -11347.764382  999560.336081  1.000074e+06   \n",
       "3 -11348.712479 -11391.390781  999550.532263  1.000074e+06   \n",
       "4 -11254.039476 -11347.764382  999632.083642  1.000258e+06   \n",
       "5 -11348.712479 -11391.390781  999623.814231  1.000253e+06   \n",
       "\n",
       "                         geometry    well  \n",
       "0   POINT (999974.312 999560.336)  well-1  \n",
       "1   POINT (999973.871 999550.532)  well-1  \n",
       "2  POINT (1000074.312 999560.336)  well-2  \n",
       "3  POINT (1000073.871 999550.532)  well-2  \n",
       "4  POINT (1000257.922 999632.084)  well-3  \n",
       "5  POINT (1000252.637 999623.814)  well-3  "
      ]
     },
     "execution_count": 27,
     "metadata": {},
     "output_type": "execute_result"
    }
   ],
   "source": [
    "g1.wells_tops()"
   ]
  },
  {
   "cell_type": "code",
   "execution_count": 28,
   "metadata": {},
   "outputs": [
    {
     "data": {
      "text/html": [
       "<div>\n",
       "<style scoped>\n",
       "    .dataframe tbody tr th:only-of-type {\n",
       "        vertical-align: middle;\n",
       "    }\n",
       "\n",
       "    .dataframe tbody tr th {\n",
       "        vertical-align: top;\n",
       "    }\n",
       "\n",
       "    .dataframe thead th {\n",
       "        text-align: right;\n",
       "    }\n",
       "</style>\n",
       "<table border=\"1\" class=\"dataframe\">\n",
       "  <thead>\n",
       "    <tr style=\"text-align: right;\">\n",
       "      <th></th>\n",
       "      <th>formation</th>\n",
       "      <th>md_top</th>\n",
       "      <th>md_bottom</th>\n",
       "      <th>tvd_top</th>\n",
       "      <th>tvd_bottom</th>\n",
       "      <th>tvd_tick</th>\n",
       "      <th>tvdss_top</th>\n",
       "      <th>tvdss_bottom</th>\n",
       "      <th>northing</th>\n",
       "      <th>easting</th>\n",
       "      <th>geometry</th>\n",
       "      <th>well</th>\n",
       "    </tr>\n",
       "  </thead>\n",
       "  <tbody>\n",
       "    <tr>\n",
       "      <th>0</th>\n",
       "      <td>fm1</td>\n",
       "      <td>12000</td>\n",
       "      <td>12099</td>\n",
       "      <td>11769.039476</td>\n",
       "      <td>11862.764382</td>\n",
       "      <td>93.724906</td>\n",
       "      <td>-10253.259476</td>\n",
       "      <td>-10346.984382</td>\n",
       "      <td>999560.336081</td>\n",
       "      <td>9.999743e+05</td>\n",
       "      <td>POINT (999974.312 999560.336)</td>\n",
       "      <td>well-1</td>\n",
       "    </tr>\n",
       "    <tr>\n",
       "      <th>1</th>\n",
       "      <td>fm1</td>\n",
       "      <td>12000</td>\n",
       "      <td>12099</td>\n",
       "      <td>11769.039476</td>\n",
       "      <td>11862.764382</td>\n",
       "      <td>93.724906</td>\n",
       "      <td>-11254.039476</td>\n",
       "      <td>-11347.764382</td>\n",
       "      <td>999560.336081</td>\n",
       "      <td>1.000074e+06</td>\n",
       "      <td>POINT (1000074.312 999560.336)</td>\n",
       "      <td>well-2</td>\n",
       "    </tr>\n",
       "  </tbody>\n",
       "</table>\n",
       "</div>"
      ],
      "text/plain": [
       "  formation  md_top  md_bottom       tvd_top    tvd_bottom   tvd_tick  \\\n",
       "0       fm1   12000      12099  11769.039476  11862.764382  93.724906   \n",
       "1       fm1   12000      12099  11769.039476  11862.764382  93.724906   \n",
       "\n",
       "      tvdss_top  tvdss_bottom       northing       easting  \\\n",
       "0 -10253.259476 -10346.984382  999560.336081  9.999743e+05   \n",
       "1 -11254.039476 -11347.764382  999560.336081  1.000074e+06   \n",
       "\n",
       "                         geometry    well  \n",
       "0   POINT (999974.312 999560.336)  well-1  \n",
       "1  POINT (1000074.312 999560.336)  well-2  "
      ]
     },
     "execution_count": 28,
     "metadata": {},
     "output_type": "execute_result"
    }
   ],
   "source": [
    "g1.wells_tops(wells=['well-1','well-2'], formations=['fm1'])"
   ]
  },
  {
   "cell_type": "markdown",
   "metadata": {},
   "source": [
    "#### Wells survey"
   ]
  },
  {
   "cell_type": "code",
   "execution_count": 29,
   "metadata": {},
   "outputs": [
    {
     "data": {
      "text/html": [
       "<div>\n",
       "<style scoped>\n",
       "    .dataframe tbody tr th:only-of-type {\n",
       "        vertical-align: middle;\n",
       "    }\n",
       "\n",
       "    .dataframe tbody tr th {\n",
       "        vertical-align: top;\n",
       "    }\n",
       "\n",
       "    .dataframe thead th {\n",
       "        text-align: right;\n",
       "    }\n",
       "</style>\n",
       "<table border=\"1\" class=\"dataframe\">\n",
       "  <thead>\n",
       "    <tr style=\"text-align: right;\">\n",
       "      <th></th>\n",
       "      <th>md</th>\n",
       "      <th>inc</th>\n",
       "      <th>azi</th>\n",
       "      <th>tvd</th>\n",
       "      <th>tvdss</th>\n",
       "      <th>north_offset</th>\n",
       "      <th>east_offset</th>\n",
       "      <th>northing</th>\n",
       "      <th>easting</th>\n",
       "      <th>dleg</th>\n",
       "      <th>geometry</th>\n",
       "      <th>well</th>\n",
       "    </tr>\n",
       "  </thead>\n",
       "  <tbody>\n",
       "    <tr>\n",
       "      <th>0</th>\n",
       "      <td>0.0</td>\n",
       "      <td>0.00</td>\n",
       "      <td>0.0</td>\n",
       "      <td>0.000000</td>\n",
       "      <td>1515.780000</td>\n",
       "      <td>0.000000</td>\n",
       "      <td>0.000000</td>\n",
       "      <td>1.000000e+06</td>\n",
       "      <td>1000000.000000</td>\n",
       "      <td>0.000000</td>\n",
       "      <td>POINT (1000000.000 1000000.000)</td>\n",
       "      <td>well-1</td>\n",
       "    </tr>\n",
       "    <tr>\n",
       "      <th>1</th>\n",
       "      <td>193.0</td>\n",
       "      <td>0.06</td>\n",
       "      <td>0.0</td>\n",
       "      <td>192.999965</td>\n",
       "      <td>1322.780035</td>\n",
       "      <td>0.101055</td>\n",
       "      <td>0.000000</td>\n",
       "      <td>1.000000e+06</td>\n",
       "      <td>1000000.000000</td>\n",
       "      <td>0.031088</td>\n",
       "      <td>POINT (1000000.000 1000000.031)</td>\n",
       "      <td>well-1</td>\n",
       "    </tr>\n",
       "    <tr>\n",
       "      <th>2</th>\n",
       "      <td>375.0</td>\n",
       "      <td>0.12</td>\n",
       "      <td>0.0</td>\n",
       "      <td>374.999732</td>\n",
       "      <td>1140.780268</td>\n",
       "      <td>0.386939</td>\n",
       "      <td>0.000000</td>\n",
       "      <td>1.000000e+06</td>\n",
       "      <td>1000000.000000</td>\n",
       "      <td>0.032967</td>\n",
       "      <td>POINT (1000000.000 1000000.118)</td>\n",
       "      <td>well-1</td>\n",
       "    </tr>\n",
       "    <tr>\n",
       "      <th>3</th>\n",
       "      <td>559.0</td>\n",
       "      <td>0.33</td>\n",
       "      <td>347.6</td>\n",
       "      <td>558.998219</td>\n",
       "      <td>956.781781</td>\n",
       "      <td>1.097142</td>\n",
       "      <td>-0.113784</td>\n",
       "      <td>1.000000e+06</td>\n",
       "      <td>999999.965319</td>\n",
       "      <td>0.116497</td>\n",
       "      <td>POINT (999999.965 1000000.334)</td>\n",
       "      <td>well-1</td>\n",
       "    </tr>\n",
       "    <tr>\n",
       "      <th>4</th>\n",
       "      <td>651.0</td>\n",
       "      <td>0.36</td>\n",
       "      <td>340.5</td>\n",
       "      <td>650.996554</td>\n",
       "      <td>864.783446</td>\n",
       "      <td>1.628348</td>\n",
       "      <td>-0.267154</td>\n",
       "      <td>1.000000e+06</td>\n",
       "      <td>999999.918571</td>\n",
       "      <td>0.056709</td>\n",
       "      <td>POINT (999999.919 1000000.496)</td>\n",
       "      <td>well-1</td>\n",
       "    </tr>\n",
       "  </tbody>\n",
       "</table>\n",
       "</div>"
      ],
      "text/plain": [
       "      md   inc    azi         tvd        tvdss  north_offset  east_offset  \\\n",
       "0    0.0  0.00    0.0    0.000000  1515.780000      0.000000     0.000000   \n",
       "1  193.0  0.06    0.0  192.999965  1322.780035      0.101055     0.000000   \n",
       "2  375.0  0.12    0.0  374.999732  1140.780268      0.386939     0.000000   \n",
       "3  559.0  0.33  347.6  558.998219   956.781781      1.097142    -0.113784   \n",
       "4  651.0  0.36  340.5  650.996554   864.783446      1.628348    -0.267154   \n",
       "\n",
       "       northing         easting      dleg                         geometry  \\\n",
       "0  1.000000e+06  1000000.000000  0.000000  POINT (1000000.000 1000000.000)   \n",
       "1  1.000000e+06  1000000.000000  0.031088  POINT (1000000.000 1000000.031)   \n",
       "2  1.000000e+06  1000000.000000  0.032967  POINT (1000000.000 1000000.118)   \n",
       "3  1.000000e+06   999999.965319  0.116497   POINT (999999.965 1000000.334)   \n",
       "4  1.000000e+06   999999.918571  0.056709   POINT (999999.919 1000000.496)   \n",
       "\n",
       "     well  \n",
       "0  well-1  \n",
       "1  well-1  \n",
       "2  well-1  \n",
       "3  well-1  \n",
       "4  well-1  "
      ]
     },
     "execution_count": 29,
     "metadata": {},
     "output_type": "execute_result"
    }
   ],
   "source": [
    "g1.wells_surveys().head()"
   ]
  },
  {
   "cell_type": "code",
   "execution_count": 40,
   "metadata": {},
   "outputs": [
    {
     "data": {
      "text/html": [
       "<div>\n",
       "<style scoped>\n",
       "    .dataframe tbody tr th:only-of-type {\n",
       "        vertical-align: middle;\n",
       "    }\n",
       "\n",
       "    .dataframe tbody tr th {\n",
       "        vertical-align: top;\n",
       "    }\n",
       "\n",
       "    .dataframe thead th {\n",
       "        text-align: right;\n",
       "    }\n",
       "</style>\n",
       "<table border=\"1\" class=\"dataframe\">\n",
       "  <thead>\n",
       "    <tr style=\"text-align: right;\">\n",
       "      <th></th>\n",
       "      <th>md</th>\n",
       "      <th>inc</th>\n",
       "      <th>azi</th>\n",
       "      <th>tvd</th>\n",
       "      <th>tvdss</th>\n",
       "      <th>north_offset</th>\n",
       "      <th>east_offset</th>\n",
       "      <th>northing</th>\n",
       "      <th>easting</th>\n",
       "      <th>dleg</th>\n",
       "      <th>geometry</th>\n",
       "      <th>well</th>\n",
       "    </tr>\n",
       "  </thead>\n",
       "  <tbody>\n",
       "    <tr>\n",
       "      <th>0</th>\n",
       "      <td>0.0</td>\n",
       "      <td>0.00</td>\n",
       "      <td>0.00</td>\n",
       "      <td>0.000000</td>\n",
       "      <td>1515.780000</td>\n",
       "      <td>0.000000</td>\n",
       "      <td>0.000000</td>\n",
       "      <td>1.000000e+06</td>\n",
       "      <td>1.000000e+06</td>\n",
       "      <td>0.000000</td>\n",
       "      <td>POINT (1000000.000 1000000.000)</td>\n",
       "      <td>well-1</td>\n",
       "    </tr>\n",
       "    <tr>\n",
       "      <th>1</th>\n",
       "      <td>193.0</td>\n",
       "      <td>0.06</td>\n",
       "      <td>0.00</td>\n",
       "      <td>192.999965</td>\n",
       "      <td>1322.780035</td>\n",
       "      <td>0.101055</td>\n",
       "      <td>0.000000</td>\n",
       "      <td>1.000000e+06</td>\n",
       "      <td>1.000000e+06</td>\n",
       "      <td>0.031088</td>\n",
       "      <td>POINT (1000000.000 1000000.031)</td>\n",
       "      <td>well-1</td>\n",
       "    </tr>\n",
       "    <tr>\n",
       "      <th>2</th>\n",
       "      <td>375.0</td>\n",
       "      <td>0.12</td>\n",
       "      <td>0.00</td>\n",
       "      <td>374.999732</td>\n",
       "      <td>1140.780268</td>\n",
       "      <td>0.386939</td>\n",
       "      <td>0.000000</td>\n",
       "      <td>1.000000e+06</td>\n",
       "      <td>1.000000e+06</td>\n",
       "      <td>0.032967</td>\n",
       "      <td>POINT (1000000.000 1000000.118)</td>\n",
       "      <td>well-1</td>\n",
       "    </tr>\n",
       "    <tr>\n",
       "      <th>3</th>\n",
       "      <td>559.0</td>\n",
       "      <td>0.33</td>\n",
       "      <td>347.60</td>\n",
       "      <td>558.998219</td>\n",
       "      <td>956.781781</td>\n",
       "      <td>1.097142</td>\n",
       "      <td>-0.113784</td>\n",
       "      <td>1.000000e+06</td>\n",
       "      <td>1.000000e+06</td>\n",
       "      <td>0.116497</td>\n",
       "      <td>POINT (999999.965 1000000.334)</td>\n",
       "      <td>well-1</td>\n",
       "    </tr>\n",
       "    <tr>\n",
       "      <th>4</th>\n",
       "      <td>651.0</td>\n",
       "      <td>0.36</td>\n",
       "      <td>340.50</td>\n",
       "      <td>650.996554</td>\n",
       "      <td>864.783446</td>\n",
       "      <td>1.628348</td>\n",
       "      <td>-0.267154</td>\n",
       "      <td>1.000000e+06</td>\n",
       "      <td>9.999999e+05</td>\n",
       "      <td>0.056709</td>\n",
       "      <td>POINT (999999.919 1000000.496)</td>\n",
       "      <td>well-1</td>\n",
       "    </tr>\n",
       "    <tr>\n",
       "      <th>...</th>\n",
       "      <td>...</td>\n",
       "      <td>...</td>\n",
       "      <td>...</td>\n",
       "      <td>...</td>\n",
       "      <td>...</td>\n",
       "      <td>...</td>\n",
       "      <td>...</td>\n",
       "      <td>...</td>\n",
       "      <td>...</td>\n",
       "      <td>...</td>\n",
       "      <td>...</td>\n",
       "      <td>...</td>\n",
       "    </tr>\n",
       "    <tr>\n",
       "      <th>132</th>\n",
       "      <td>12222.0</td>\n",
       "      <td>18.48</td>\n",
       "      <td>183.46</td>\n",
       "      <td>11979.483886</td>\n",
       "      <td>-11464.483886</td>\n",
       "      <td>-1513.062040</td>\n",
       "      <td>-87.705754</td>\n",
       "      <td>9.995388e+05</td>\n",
       "      <td>1.000073e+06</td>\n",
       "      <td>0.422310</td>\n",
       "      <td>POINT (1000073.267 999538.819)</td>\n",
       "      <td>well-2</td>\n",
       "    </tr>\n",
       "    <tr>\n",
       "      <th>133</th>\n",
       "      <td>12312.0</td>\n",
       "      <td>18.32</td>\n",
       "      <td>183.53</td>\n",
       "      <td>12064.882700</td>\n",
       "      <td>-11549.882700</td>\n",
       "      <td>-1541.417598</td>\n",
       "      <td>-89.437497</td>\n",
       "      <td>9.995302e+05</td>\n",
       "      <td>1.000073e+06</td>\n",
       "      <td>0.179465</td>\n",
       "      <td>POINT (1000072.739 999530.176)</td>\n",
       "      <td>well-2</td>\n",
       "    </tr>\n",
       "    <tr>\n",
       "      <th>134</th>\n",
       "      <td>12401.0</td>\n",
       "      <td>18.66</td>\n",
       "      <td>183.58</td>\n",
       "      <td>12149.288309</td>\n",
       "      <td>-11634.288309</td>\n",
       "      <td>-1569.588577</td>\n",
       "      <td>-91.187763</td>\n",
       "      <td>9.995216e+05</td>\n",
       "      <td>1.000072e+06</td>\n",
       "      <td>0.382438</td>\n",
       "      <td>POINT (1000072.206 999521.589)</td>\n",
       "      <td>well-2</td>\n",
       "    </tr>\n",
       "    <tr>\n",
       "      <th>135</th>\n",
       "      <td>12488.0</td>\n",
       "      <td>19.28</td>\n",
       "      <td>182.83</td>\n",
       "      <td>12231.562968</td>\n",
       "      <td>-11716.562968</td>\n",
       "      <td>-1597.825002</td>\n",
       "      <td>-92.765977</td>\n",
       "      <td>9.995130e+05</td>\n",
       "      <td>1.000072e+06</td>\n",
       "      <td>0.765749</td>\n",
       "      <td>POINT (1000071.725 999512.983)</td>\n",
       "      <td>well-2</td>\n",
       "    </tr>\n",
       "    <tr>\n",
       "      <th>136</th>\n",
       "      <td>12520.0</td>\n",
       "      <td>19.00</td>\n",
       "      <td>182.50</td>\n",
       "      <td>12261.793994</td>\n",
       "      <td>-11746.793994</td>\n",
       "      <td>-1608.305662</td>\n",
       "      <td>-93.254029</td>\n",
       "      <td>9.995098e+05</td>\n",
       "      <td>1.000072e+06</td>\n",
       "      <td>0.938055</td>\n",
       "      <td>POINT (1000071.576 999509.788)</td>\n",
       "      <td>well-2</td>\n",
       "    </tr>\n",
       "  </tbody>\n",
       "</table>\n",
       "<p>274 rows × 12 columns</p>\n",
       "</div>"
      ],
      "text/plain": [
       "          md    inc     azi           tvd         tvdss  north_offset  \\\n",
       "0        0.0   0.00    0.00      0.000000   1515.780000      0.000000   \n",
       "1      193.0   0.06    0.00    192.999965   1322.780035      0.101055   \n",
       "2      375.0   0.12    0.00    374.999732   1140.780268      0.386939   \n",
       "3      559.0   0.33  347.60    558.998219    956.781781      1.097142   \n",
       "4      651.0   0.36  340.50    650.996554    864.783446      1.628348   \n",
       "..       ...    ...     ...           ...           ...           ...   \n",
       "132  12222.0  18.48  183.46  11979.483886 -11464.483886  -1513.062040   \n",
       "133  12312.0  18.32  183.53  12064.882700 -11549.882700  -1541.417598   \n",
       "134  12401.0  18.66  183.58  12149.288309 -11634.288309  -1569.588577   \n",
       "135  12488.0  19.28  182.83  12231.562968 -11716.562968  -1597.825002   \n",
       "136  12520.0  19.00  182.50  12261.793994 -11746.793994  -1608.305662   \n",
       "\n",
       "     east_offset      northing       easting      dleg  \\\n",
       "0       0.000000  1.000000e+06  1.000000e+06  0.000000   \n",
       "1       0.000000  1.000000e+06  1.000000e+06  0.031088   \n",
       "2       0.000000  1.000000e+06  1.000000e+06  0.032967   \n",
       "3      -0.113784  1.000000e+06  1.000000e+06  0.116497   \n",
       "4      -0.267154  1.000000e+06  9.999999e+05  0.056709   \n",
       "..           ...           ...           ...       ...   \n",
       "132   -87.705754  9.995388e+05  1.000073e+06  0.422310   \n",
       "133   -89.437497  9.995302e+05  1.000073e+06  0.179465   \n",
       "134   -91.187763  9.995216e+05  1.000072e+06  0.382438   \n",
       "135   -92.765977  9.995130e+05  1.000072e+06  0.765749   \n",
       "136   -93.254029  9.995098e+05  1.000072e+06  0.938055   \n",
       "\n",
       "                            geometry    well  \n",
       "0    POINT (1000000.000 1000000.000)  well-1  \n",
       "1    POINT (1000000.000 1000000.031)  well-1  \n",
       "2    POINT (1000000.000 1000000.118)  well-1  \n",
       "3     POINT (999999.965 1000000.334)  well-1  \n",
       "4     POINT (999999.919 1000000.496)  well-1  \n",
       "..                               ...     ...  \n",
       "132   POINT (1000073.267 999538.819)  well-2  \n",
       "133   POINT (1000072.739 999530.176)  well-2  \n",
       "134   POINT (1000072.206 999521.589)  well-2  \n",
       "135   POINT (1000071.725 999512.983)  well-2  \n",
       "136   POINT (1000071.576 999509.788)  well-2  \n",
       "\n",
       "[274 rows x 12 columns]"
      ]
     },
     "execution_count": 40,
     "metadata": {},
     "output_type": "execute_result"
    }
   ],
   "source": [
    "g1.wells_surveys(wells=['well-1','well-2'])"
   ]
  },
  {
   "cell_type": "code",
   "execution_count": 34,
   "metadata": {},
   "outputs": [
    {
     "data": {
      "text/html": [
       "<div>\n",
       "<style scoped>\n",
       "    .dataframe tbody tr th:only-of-type {\n",
       "        vertical-align: middle;\n",
       "    }\n",
       "\n",
       "    .dataframe tbody tr th {\n",
       "        vertical-align: top;\n",
       "    }\n",
       "\n",
       "    .dataframe thead th {\n",
       "        text-align: right;\n",
       "    }\n",
       "</style>\n",
       "<table border=\"1\" class=\"dataframe\">\n",
       "  <thead>\n",
       "    <tr style=\"text-align: right;\">\n",
       "      <th></th>\n",
       "      <th>well-1</th>\n",
       "      <th>well-2</th>\n",
       "      <th>well-3</th>\n",
       "    </tr>\n",
       "  </thead>\n",
       "  <tbody>\n",
       "    <tr>\n",
       "      <th>well-1</th>\n",
       "      <td>0.000000</td>\n",
       "      <td>305.037744</td>\n",
       "      <td>305.037744</td>\n",
       "    </tr>\n",
       "    <tr>\n",
       "      <th>well-2</th>\n",
       "      <td>305.037744</td>\n",
       "      <td>0.000000</td>\n",
       "      <td>0.000000</td>\n",
       "    </tr>\n",
       "    <tr>\n",
       "      <th>well-3</th>\n",
       "      <td>305.037744</td>\n",
       "      <td>0.000000</td>\n",
       "      <td>0.000000</td>\n",
       "    </tr>\n",
       "  </tbody>\n",
       "</table>\n",
       "</div>"
      ],
      "text/plain": [
       "            well-1      well-2      well-3\n",
       "well-1    0.000000  305.037744  305.037744\n",
       "well-2  305.037744    0.000000    0.000000\n",
       "well-3  305.037744    0.000000    0.000000"
      ]
     },
     "execution_count": 34,
     "metadata": {},
     "output_type": "execute_result"
    }
   ],
   "source": [
    "g1.wells_distance(dims=['z'])"
   ]
  },
  {
   "cell_type": "code",
   "execution_count": 37,
   "metadata": {},
   "outputs": [
    {
     "data": {
      "text/html": [
       "<div>\n",
       "<style scoped>\n",
       "    .dataframe tbody tr th:only-of-type {\n",
       "        vertical-align: middle;\n",
       "    }\n",
       "\n",
       "    .dataframe tbody tr th {\n",
       "        vertical-align: top;\n",
       "    }\n",
       "\n",
       "    .dataframe thead th {\n",
       "        text-align: right;\n",
       "    }\n",
       "</style>\n",
       "<table border=\"1\" class=\"dataframe\">\n",
       "  <thead>\n",
       "    <tr style=\"text-align: right;\">\n",
       "      <th></th>\n",
       "      <th>well-1</th>\n",
       "      <th>well-2</th>\n",
       "    </tr>\n",
       "  </thead>\n",
       "  <tbody>\n",
       "    <tr>\n",
       "      <th>well-1</th>\n",
       "      <td>0.000000</td>\n",
       "      <td>321.010943</td>\n",
       "    </tr>\n",
       "    <tr>\n",
       "      <th>well-2</th>\n",
       "      <td>321.010943</td>\n",
       "      <td>0.000000</td>\n",
       "    </tr>\n",
       "  </tbody>\n",
       "</table>\n",
       "</div>"
      ],
      "text/plain": [
       "            well-1      well-2\n",
       "well-1    0.000000  321.010943\n",
       "well-2  321.010943    0.000000"
      ]
     },
     "execution_count": 37,
     "metadata": {},
     "output_type": "execute_result"
    }
   ],
   "source": [
    "dist = g1.wells_distance(wells=['well-1','well-2'],dims=['y','z','x'])\n",
    "dist"
   ]
  },
  {
   "cell_type": "code",
   "execution_count": null,
   "metadata": {},
   "outputs": [],
   "source": []
  },
  {
   "cell_type": "code",
   "execution_count": 38,
   "metadata": {},
   "outputs": [
    {
     "data": {
      "text/html": [
       "<div style=\"width:100%;\"><div style=\"position:relative;width:100%;height:0;padding-bottom:60%;\"><iframe src=\"about:blank\" style=\"position:absolute;width:100%;height:100%;left:0;top:0;border:none !important;\" data-html=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 onload=\"this.contentDocument.open();this.contentDocument.write(atob(this.getAttribute('data-html')));this.contentDocument.close();\" allowfullscreen webkitallowfullscreen mozallowfullscreen></iframe></div></div>"
      ],
      "text/plain": [
       "<folium.folium.Map at 0x7fd141cd0350>"
      ]
     },
     "execution_count": 38,
     "metadata": {},
     "output_type": "execute_result"
    }
   ],
   "source": [
    "m = g1.wells_map(zoom=13)\n",
    "m"
   ]
  },
  {
   "cell_type": "code",
   "execution_count": 45,
   "metadata": {},
   "outputs": [
    {
     "data": {
      "text/html": [
       "<div>\n",
       "<style scoped>\n",
       "    .dataframe tbody tr th:only-of-type {\n",
       "        vertical-align: middle;\n",
       "    }\n",
       "\n",
       "    .dataframe tbody tr th {\n",
       "        vertical-align: top;\n",
       "    }\n",
       "\n",
       "    .dataframe thead th {\n",
       "        text-align: right;\n",
       "    }\n",
       "</style>\n",
       "<table border=\"1\" class=\"dataframe\">\n",
       "  <thead>\n",
       "    <tr style=\"text-align: right;\">\n",
       "      <th></th>\n",
       "      <th>x</th>\n",
       "      <th>y</th>\n",
       "      <th>z</th>\n",
       "      <th>geometry</th>\n",
       "      <th>lon</th>\n",
       "      <th>lat</th>\n",
       "    </tr>\n",
       "  </thead>\n",
       "  <tbody>\n",
       "    <tr>\n",
       "      <th>well-1</th>\n",
       "      <td>1000000.0</td>\n",
       "      <td>1000000.0</td>\n",
       "      <td>462.009744</td>\n",
       "      <td>POINT (-71.07751 4.59620)</td>\n",
       "      <td>-71.077508</td>\n",
       "      <td>4.5962</td>\n",
       "    </tr>\n",
       "    <tr>\n",
       "      <th>well-2</th>\n",
       "      <td>1000100.0</td>\n",
       "      <td>1000000.0</td>\n",
       "      <td>156.972000</td>\n",
       "      <td>POINT (-71.07661 4.59620)</td>\n",
       "      <td>-71.076607</td>\n",
       "      <td>4.5962</td>\n",
       "    </tr>\n",
       "    <tr>\n",
       "      <th>well-3</th>\n",
       "      <td>1000500.0</td>\n",
       "      <td>1000000.0</td>\n",
       "      <td>156.972000</td>\n",
       "      <td>POINT (-71.07300 4.59620)</td>\n",
       "      <td>-71.073002</td>\n",
       "      <td>4.5962</td>\n",
       "    </tr>\n",
       "  </tbody>\n",
       "</table>\n",
       "</div>"
      ],
      "text/plain": [
       "                x          y           z                   geometry  \\\n",
       "well-1  1000000.0  1000000.0  462.009744  POINT (-71.07751 4.59620)   \n",
       "well-2  1000100.0  1000000.0  156.972000  POINT (-71.07661 4.59620)   \n",
       "well-3  1000500.0  1000000.0  156.972000  POINT (-71.07300 4.59620)   \n",
       "\n",
       "              lon     lat  \n",
       "well-1 -71.077508  4.5962  \n",
       "well-2 -71.076607  4.5962  \n",
       "well-3 -71.073002  4.5962  "
      ]
     },
     "execution_count": 45,
     "metadata": {},
     "output_type": "execute_result"
    }
   ],
   "source": [
    "g1.wells_coordinates()"
   ]
  },
  {
   "cell_type": "code",
   "execution_count": 48,
   "metadata": {},
   "outputs": [
    {
     "data": {
      "text/html": [
       "<div>\n",
       "<style scoped>\n",
       "    .dataframe tbody tr th:only-of-type {\n",
       "        vertical-align: middle;\n",
       "    }\n",
       "\n",
       "    .dataframe tbody tr th {\n",
       "        vertical-align: top;\n",
       "    }\n",
       "\n",
       "    .dataframe thead th {\n",
       "        text-align: right;\n",
       "    }\n",
       "</style>\n",
       "<table border=\"1\" class=\"dataframe\">\n",
       "  <thead>\n",
       "    <tr style=\"text-align: right;\">\n",
       "      <th></th>\n",
       "      <th>md_top</th>\n",
       "      <th>md_bottom</th>\n",
       "      <th>tvd_top</th>\n",
       "      <th>tvd_bottom</th>\n",
       "      <th>tvd_tick</th>\n",
       "      <th>tvdss_top</th>\n",
       "      <th>tvdss_bottom</th>\n",
       "      <th>northing</th>\n",
       "      <th>easting</th>\n",
       "      <th>geometry</th>\n",
       "      <th>well</th>\n",
       "    </tr>\n",
       "    <tr>\n",
       "      <th>formation</th>\n",
       "      <th></th>\n",
       "      <th></th>\n",
       "      <th></th>\n",
       "      <th></th>\n",
       "      <th></th>\n",
       "      <th></th>\n",
       "      <th></th>\n",
       "      <th></th>\n",
       "      <th></th>\n",
       "      <th></th>\n",
       "      <th></th>\n",
       "    </tr>\n",
       "  </thead>\n",
       "  <tbody>\n",
       "    <tr>\n",
       "      <th>fm1</th>\n",
       "      <td>12000</td>\n",
       "      <td>12099</td>\n",
       "      <td>11769.039476</td>\n",
       "      <td>11862.764382</td>\n",
       "      <td>93.724906</td>\n",
       "      <td>-10253.259476</td>\n",
       "      <td>-10346.984382</td>\n",
       "      <td>999560.336081</td>\n",
       "      <td>9.999743e+05</td>\n",
       "      <td>POINT (999974.312 999560.336)</td>\n",
       "      <td>well-1</td>\n",
       "    </tr>\n",
       "    <tr>\n",
       "      <th>fm2</th>\n",
       "      <td>12100</td>\n",
       "      <td>12145</td>\n",
       "      <td>11863.712479</td>\n",
       "      <td>11906.390781</td>\n",
       "      <td>42.678303</td>\n",
       "      <td>-10347.932479</td>\n",
       "      <td>-10390.610781</td>\n",
       "      <td>999550.532263</td>\n",
       "      <td>9.999739e+05</td>\n",
       "      <td>POINT (999973.871 999550.532)</td>\n",
       "      <td>well-1</td>\n",
       "    </tr>\n",
       "    <tr>\n",
       "      <th>fm1</th>\n",
       "      <td>12000</td>\n",
       "      <td>12099</td>\n",
       "      <td>11769.039476</td>\n",
       "      <td>11862.764382</td>\n",
       "      <td>93.724906</td>\n",
       "      <td>-11254.039476</td>\n",
       "      <td>-11347.764382</td>\n",
       "      <td>999560.336081</td>\n",
       "      <td>1.000074e+06</td>\n",
       "      <td>POINT (1000074.312 999560.336)</td>\n",
       "      <td>well-2</td>\n",
       "    </tr>\n",
       "    <tr>\n",
       "      <th>fm2</th>\n",
       "      <td>12100</td>\n",
       "      <td>12145</td>\n",
       "      <td>11863.712479</td>\n",
       "      <td>11906.390781</td>\n",
       "      <td>42.678303</td>\n",
       "      <td>-11348.712479</td>\n",
       "      <td>-11391.390781</td>\n",
       "      <td>999550.532263</td>\n",
       "      <td>1.000074e+06</td>\n",
       "      <td>POINT (1000073.871 999550.532)</td>\n",
       "      <td>well-2</td>\n",
       "    </tr>\n",
       "    <tr>\n",
       "      <th>fm1</th>\n",
       "      <td>12000</td>\n",
       "      <td>12099</td>\n",
       "      <td>11769.039476</td>\n",
       "      <td>11862.764382</td>\n",
       "      <td>93.724906</td>\n",
       "      <td>-11254.039476</td>\n",
       "      <td>-11347.764382</td>\n",
       "      <td>999632.083642</td>\n",
       "      <td>1.000258e+06</td>\n",
       "      <td>POINT (1000257.922 999632.084)</td>\n",
       "      <td>well-3</td>\n",
       "    </tr>\n",
       "  </tbody>\n",
       "</table>\n",
       "</div>"
      ],
      "text/plain": [
       "           md_top  md_bottom       tvd_top    tvd_bottom   tvd_tick  \\\n",
       "formation                                                             \n",
       "fm1         12000      12099  11769.039476  11862.764382  93.724906   \n",
       "fm2         12100      12145  11863.712479  11906.390781  42.678303   \n",
       "fm1         12000      12099  11769.039476  11862.764382  93.724906   \n",
       "fm2         12100      12145  11863.712479  11906.390781  42.678303   \n",
       "fm1         12000      12099  11769.039476  11862.764382  93.724906   \n",
       "\n",
       "              tvdss_top  tvdss_bottom       northing       easting  \\\n",
       "formation                                                            \n",
       "fm1       -10253.259476 -10346.984382  999560.336081  9.999743e+05   \n",
       "fm2       -10347.932479 -10390.610781  999550.532263  9.999739e+05   \n",
       "fm1       -11254.039476 -11347.764382  999560.336081  1.000074e+06   \n",
       "fm2       -11348.712479 -11391.390781  999550.532263  1.000074e+06   \n",
       "fm1       -11254.039476 -11347.764382  999632.083642  1.000258e+06   \n",
       "\n",
       "                                 geometry    well  \n",
       "formation                                          \n",
       "fm1         POINT (999974.312 999560.336)  well-1  \n",
       "fm2         POINT (999973.871 999550.532)  well-1  \n",
       "fm1        POINT (1000074.312 999560.336)  well-2  \n",
       "fm2        POINT (1000073.871 999550.532)  well-2  \n",
       "fm1        POINT (1000257.922 999632.084)  well-3  "
      ]
     },
     "execution_count": 48,
     "metadata": {},
     "output_type": "execute_result"
    }
   ],
   "source": [
    "g1.wells_tops().head()"
   ]
  },
  {
   "cell_type": "code",
   "execution_count": 52,
   "metadata": {},
   "outputs": [
    {
     "data": {
      "text/html": [
       "<div>\n",
       "<style scoped>\n",
       "    .dataframe tbody tr th:only-of-type {\n",
       "        vertical-align: middle;\n",
       "    }\n",
       "\n",
       "    .dataframe tbody tr th {\n",
       "        vertical-align: top;\n",
       "    }\n",
       "\n",
       "    .dataframe thead th {\n",
       "        text-align: right;\n",
       "    }\n",
       "</style>\n",
       "<table border=\"1\" class=\"dataframe\">\n",
       "  <thead>\n",
       "    <tr style=\"text-align: right;\">\n",
       "      <th>well</th>\n",
       "      <th>well-1</th>\n",
       "      <th>well-2</th>\n",
       "      <th>well-3</th>\n",
       "    </tr>\n",
       "    <tr>\n",
       "      <th>well</th>\n",
       "      <th></th>\n",
       "      <th></th>\n",
       "      <th></th>\n",
       "    </tr>\n",
       "  </thead>\n",
       "  <tbody>\n",
       "    <tr>\n",
       "      <th>well-1</th>\n",
       "      <td>0.000000</td>\n",
       "      <td>321.010943</td>\n",
       "      <td>419.677503</td>\n",
       "    </tr>\n",
       "    <tr>\n",
       "      <th>well-2</th>\n",
       "      <td>321.010943</td>\n",
       "      <td>0.000000</td>\n",
       "      <td>193.204087</td>\n",
       "    </tr>\n",
       "    <tr>\n",
       "      <th>well-3</th>\n",
       "      <td>419.677503</td>\n",
       "      <td>193.204087</td>\n",
       "      <td>0.000000</td>\n",
       "    </tr>\n",
       "  </tbody>\n",
       "</table>\n",
       "</div>"
      ],
      "text/plain": [
       "well        well-1      well-2      well-3\n",
       "well                                      \n",
       "well-1    0.000000  321.010943  419.677503\n",
       "well-2  321.010943    0.000000  193.204087\n",
       "well-3  419.677503  193.204087    0.000000"
      ]
     },
     "execution_count": 52,
     "metadata": {},
     "output_type": "execute_result"
    }
   ],
   "source": [
    "g1.formation_distance(formation='fm2')"
   ]
  },
  {
   "cell_type": "code",
   "execution_count": 44,
   "metadata": {},
   "outputs": [
    {
     "data": {
      "text/html": [
       "<div>\n",
       "<style scoped>\n",
       "    .dataframe tbody tr th:only-of-type {\n",
       "        vertical-align: middle;\n",
       "    }\n",
       "\n",
       "    .dataframe tbody tr th {\n",
       "        vertical-align: top;\n",
       "    }\n",
       "\n",
       "    .dataframe thead th {\n",
       "        text-align: right;\n",
       "    }\n",
       "</style>\n",
       "<table border=\"1\" class=\"dataframe\">\n",
       "  <thead>\n",
       "    <tr style=\"text-align: right;\">\n",
       "      <th>well</th>\n",
       "      <th>well-1</th>\n",
       "      <th>well-2</th>\n",
       "      <th>well-3</th>\n",
       "    </tr>\n",
       "    <tr>\n",
       "      <th>well</th>\n",
       "      <th></th>\n",
       "      <th></th>\n",
       "      <th></th>\n",
       "    </tr>\n",
       "  </thead>\n",
       "  <tbody>\n",
       "    <tr>\n",
       "      <th>well-1</th>\n",
       "      <td>0.000000</td>\n",
       "      <td>305.037744</td>\n",
       "      <td>305.037744</td>\n",
       "    </tr>\n",
       "    <tr>\n",
       "      <th>well-2</th>\n",
       "      <td>305.037744</td>\n",
       "      <td>0.000000</td>\n",
       "      <td>0.000000</td>\n",
       "    </tr>\n",
       "    <tr>\n",
       "      <th>well-3</th>\n",
       "      <td>305.037744</td>\n",
       "      <td>0.000000</td>\n",
       "      <td>0.000000</td>\n",
       "    </tr>\n",
       "  </tbody>\n",
       "</table>\n",
       "</div>"
      ],
      "text/plain": [
       "well        well-1      well-2      well-3\n",
       "well                                      \n",
       "well-1    0.000000  305.037744  305.037744\n",
       "well-2  305.037744    0.000000    0.000000\n",
       "well-3  305.037744    0.000000    0.000000"
      ]
     },
     "execution_count": 44,
     "metadata": {},
     "output_type": "execute_result"
    }
   ],
   "source": [
    "g1.formation_distance(wells=['well-1','well-2','well-3'],formation='fm2', dims=['tvdss_top'])"
   ]
  },
  {
   "cell_type": "code",
   "execution_count": 53,
   "metadata": {},
   "outputs": [
    {
     "data": {
      "image/png": "[encoded data removed]",
      "text/plain": [
       "<Figure size 432x288 with 1 Axes>"
      ]
     },
     "metadata": {
      "needs_background": "light"
     },
     "output_type": "display_data"
    }
   ],
   "source": [
    "fig, ax = plt.subplots()\n",
    "\n",
    "for i in g1.wells:\n",
    "    _t = g1.wells[i].tops\n",
    "    _s = g1.wells[i].survey\n",
    "    ax.scatter(_t['easting']-1000000,_t['northing']-1000000)\n",
    "    ax.plot(_s['easting']-1000000,_s['northing']-1000000)"
   ]
  },
  {
   "cell_type": "code",
   "execution_count": 56,
   "metadata": {},
   "outputs": [
    {
     "name": "stdout",
     "output_type": "stream",
     "text": [
      "[1000101.15424695  999579.60576028]\n",
      "  formation  md_top  md_bottom       tvd_top    tvd_bottom   tvd_tick  \\\n",
      "0       fm1   12000      12099  11769.039476  11862.764382  93.724906   \n",
      "1       fm2   12100      12145  11863.712479  11906.390781  42.678303   \n",
      "2       fm1   12000      12099  11769.039476  11862.764382  93.724906   \n",
      "3       fm2   12100      12145  11863.712479  11906.390781  42.678303   \n",
      "4       fm1   12000      12099  11769.039476  11862.764382  93.724906   \n",
      "5       fm2   12100      12145  11863.712479  11906.390781  42.678303   \n",
      "\n",
      "      tvdss_top  tvdss_bottom       northing       easting  \\\n",
      "0 -10253.259476 -10346.984382  999560.336081  9.999743e+05   \n",
      "1 -10347.932479 -10390.610781  999550.532263  9.999739e+05   \n",
      "2 -11254.039476 -11347.764382  999560.336081  1.000074e+06   \n",
      "3 -11348.712479 -11391.390781  999550.532263  1.000074e+06   \n",
      "4 -11254.039476 -11347.764382  999632.083642  1.000258e+06   \n",
      "5 -11348.712479 -11391.390781  999623.814231  1.000253e+06   \n",
      "\n",
      "                         geometry    well  projection  \n",
      "0   POINT (999974.312 999560.336)  well-1 -103.316402  \n",
      "1   POINT (999973.871 999550.532)  well-1 -110.561210  \n",
      "2  POINT (1000074.312 999560.336)  well-2  -32.605723  \n",
      "3  POINT (1000073.871 999550.532)  well-2  -39.850532  \n",
      "4  POINT (1000257.922 999632.084)  well-3  147.958998  \n",
      "5  POINT (1000252.637 999623.814)  well-3  138.374868  \n"
     ]
    }
   ],
   "source": [
    "df, c = g1.wells_tops(projection1d=True, azi=45)\n",
    "print(c)\n",
    "print(df)"
   ]
  },
  {
   "cell_type": "code",
   "execution_count": 57,
   "metadata": {},
   "outputs": [
    {
     "name": "stdout",
     "output_type": "stream",
     "text": [
      "          md    inc     azi           tvd         tvdss  north_offset  \\\n",
      "0        0.0   0.00    0.00      0.000000   1515.780000      0.000000   \n",
      "1      193.0   0.06    0.00    192.999965   1322.780035      0.101055   \n",
      "2      375.0   0.12    0.00    374.999732   1140.780268      0.386939   \n",
      "3      559.0   0.33  347.60    558.998219    956.781781      1.097142   \n",
      "4      651.0   0.36  340.50    650.996554    864.783446      1.628348   \n",
      "..       ...    ...     ...           ...           ...           ...   \n",
      "132  12222.0  18.48  213.46  11979.483886 -11464.483886  -1266.497287   \n",
      "133  12312.0  18.32  213.53  12064.882700 -11549.882700  -1290.188049   \n",
      "134  12401.0  18.66  213.58  12149.288309 -11634.288309  -1313.709700   \n",
      "135  12488.0  19.28  212.83  12231.562968 -11716.562968  -1337.374054   \n",
      "136  12520.0  19.00  212.50  12261.793994 -11746.793994  -1346.206546   \n",
      "\n",
      "     east_offset      northing       easting      dleg  \\\n",
      "0       0.000000  1.000000e+06  1.000000e+06  0.000000   \n",
      "1       0.000000  1.000000e+06  1.000000e+06  0.031088   \n",
      "2       0.000000  1.000000e+06  1.000000e+06  0.032967   \n",
      "3      -0.113784  1.000000e+06  1.000000e+06  0.116497   \n",
      "4      -0.267154  1.000000e+06  9.999999e+05  0.056709   \n",
      "..           ...           ...           ...       ...   \n",
      "132  -832.486431  9.996140e+05  1.000246e+06  0.422310   \n",
      "133  -848.163944  9.996068e+05  1.000241e+06  0.179465   \n",
      "134  -863.765207  9.995996e+05  1.000237e+06  0.382438   \n",
      "135  -879.250193  9.995924e+05  1.000232e+06  0.765749   \n",
      "136  -884.913189  9.995897e+05  1.000230e+06  0.938055   \n",
      "\n",
      "                            geometry    well  projection  \n",
      "0    POINT (1000000.000 1000000.000)  well-1  225.736764  \n",
      "1    POINT (1000000.000 1000000.031)  well-1  225.758544  \n",
      "2    POINT (1000000.000 1000000.118)  well-1  225.820159  \n",
      "3     POINT (999999.965 1000000.334)  well-1  225.948703  \n",
      "4     POINT (999999.919 1000000.496)  well-1  226.030137  \n",
      "..                               ...     ...         ...  \n",
      "132   POINT (1000246.258 999613.972)  well-3  126.904281  \n",
      "133   POINT (1000241.480 999606.751)  well-3  118.419389  \n",
      "134   POINT (1000236.724 999599.581)  well-3  109.987378  \n",
      "135   POINT (1000232.005 999592.368)  well-3  101.549671  \n",
      "136   POINT (1000230.278 999589.676)  well-3   98.425514  \n",
      "\n",
      "[411 rows x 13 columns]\n"
     ]
    }
   ],
   "source": [
    "surv,ce = g1.wells_surveys(projection1d=True, azi=45, center=c)\n",
    "print(surv)"
   ]
  },
  {
   "cell_type": "code",
   "execution_count": 61,
   "metadata": {},
   "outputs": [],
   "source": [
    "azi= 0\n",
    "\n",
    "tops, center = g1.wells_tops(projection1d=True, azi=azi)\n",
    "surv,ce = g1.wells_surveys(projection1d=True, azi=azi, center=center)"
   ]
  },
  {
   "cell_type": "code",
   "execution_count": 62,
   "metadata": {},
   "outputs": [
    {
     "data": {
      "text/plain": [
       "<matplotlib.axes._subplots.AxesSubplot at 0x7fd141678350>"
      ]
     },
     "execution_count": 62,
     "metadata": {},
     "output_type": "execute_result"
    },
    {
     "data": {
      "image/png": "[encoded data removed]",
      "text/plain": [
       "<Figure size 432x288 with 1 Axes>"
      ]
     },
     "metadata": {
      "needs_background": "light"
     },
     "output_type": "display_data"
    }
   ],
   "source": [
    "fig, ax =  plt.subplots()\n",
    "sns.lineplot(x='projection',y='tvdss_top', data=tops, \n",
    "                hue='formation', style='formation',markers=True, ax=ax, palette='Set1')\n",
    "\n",
    "sns.lineplot(x='projection',y='tvdss', data=surv, \n",
    "                hue='well', style='well', ax=ax,palette='GnBu_d')"
   ]
  },
  {
   "cell_type": "code",
   "execution_count": 48,
   "metadata": {},
   "outputs": [
    {
     "data": {
      "image/png": "[encoded data removed]",
      "text/plain": [
       "<Figure size 432x288 with 1 Axes>"
      ]
     },
     "metadata": {
      "needs_background": "light"
     },
     "output_type": "display_data"
    }
   ],
   "source": [
    "\n",
    "g1.structural_view(azi=45,ylims=[-4000,-12000],formations=['fm2'])"
   ]
  },
  {
   "cell_type": "code",
   "execution_count": 70,
   "metadata": {},
   "outputs": [
    {
     "data": {
      "image/png": "[encoded data removed]",
      "text/plain": [
       "<Figure size 432x288 with 1 Axes>"
      ]
     },
     "metadata": {
      "needs_background": "light"
     },
     "output_type": "display_data"
    }
   ],
   "source": [
    "g1.structural_view(azi=45,formations=['fm1'], wells=['well-1','well-2'])"
   ]
  },
  {
   "cell_type": "markdown",
   "metadata": {},
   "source": [
    "## Export wells survey to PyVista object vtk"
   ]
  },
  {
   "cell_type": "code",
   "execution_count": 72,
   "metadata": {},
   "outputs": [
    {
     "data": {
      "text/html": [
       "<table><tr><th>Header</th><th>Data Arrays</th></tr><tr><td>\n",
       "<table>\n",
       "<tr><th>PolyData</th><th>Information</th></tr>\n",
       "<tr><td>N Cells</td><td>136</td></tr>\n",
       "<tr><td>N Points</td><td>137</td></tr>\n",
       "<tr><td>X Bounds</td><td>1.000e+06, 1.000e+06</td></tr>\n",
       "<tr><td>Y Bounds</td><td>9.995e+05, 1.000e+06</td></tr>\n",
       "<tr><td>Z Bounds</td><td>-1.075e+04, 1.516e+03</td></tr>\n",
       "<tr><td>N Arrays</td><td>9</td></tr>\n",
       "</table>\n",
       "\n",
       "</td><td>\n",
       "<table>\n",
       "<tr><th>Name</th><th>Field</th><th>Type</th><th>N Comp</th><th>Min</th><th>Max</th></tr>\n",
       "<tr><td><b>inc</b></td><td>Points</td><td>float64</td><td>1</td><td>0.000e+00</td><td>2.107e+01</td></tr>\n",
       "<tr><td>azi</td><td>Points</td><td>float64</td><td>1</td><td>0.000e+00</td><td>3.537e+02</td></tr>\n",
       "<tr><td>tvd</td><td>Points</td><td>float64</td><td>1</td><td>0.000e+00</td><td>1.226e+04</td></tr>\n",
       "<tr><td>tvdss</td><td>Points</td><td>float64</td><td>1</td><td>-1.075e+04</td><td>1.516e+03</td></tr>\n",
       "<tr><td>north_offset</td><td>Points</td><td>float64</td><td>1</td><td>-1.608e+03</td><td>1.250e+01</td></tr>\n",
       "<tr><td>east_offset</td><td>Points</td><td>float64</td><td>1</td><td>-9.325e+01</td><td>9.833e+00</td></tr>\n",
       "<tr><td>northing</td><td>Points</td><td>float64</td><td>1</td><td>9.995e+05</td><td>1.000e+06</td></tr>\n",
       "<tr><td>easting</td><td>Points</td><td>float64</td><td>1</td><td>1.000e+06</td><td>1.000e+06</td></tr>\n",
       "<tr><td>dleg</td><td>Points</td><td>float64</td><td>1</td><td>0.000e+00</td><td>2.131e+00</td></tr>\n",
       "</table>\n",
       "\n",
       "</td></tr> </table>"
      ],
      "text/plain": [
       "PolyData (0x7fd1410d7600)\n",
       "  N Cells:\t136\n",
       "  N Points:\t137\n",
       "  X Bounds:\t1.000e+06, 1.000e+06\n",
       "  Y Bounds:\t9.995e+05, 1.000e+06\n",
       "  Z Bounds:\t-1.075e+04, 1.516e+03\n",
       "  N Arrays:\t9"
      ]
     },
     "execution_count": 72,
     "metadata": {},
     "output_type": "execute_result"
    }
   ],
   "source": [
    "w1_vtk = g1.wells['well-1'].get_vtk()\n",
    "w1_vtk"
   ]
  },
  {
   "cell_type": "code",
   "execution_count": 75,
   "metadata": {},
   "outputs": [
    {
     "data": {
      "text/plain": [
       "[(999666.7089782311, 999484.6485869153, 2927.033389249602),\n",
       " (999987.2865798048, 999756.7997870044, -4615.1169970913425),\n",
       " (-0.27751124769324725, -0.9596001893699134, -0.0464218048438812)]"
      ]
     },
     "execution_count": 75,
     "metadata": {},
     "output_type": "execute_result"
    }
   ],
   "source": [
    "w1_vtk.plot(notebook=False)"
   ]
  },
  {
   "cell_type": "code",
   "execution_count": 80,
   "metadata": {},
   "outputs": [
    {
     "data": {
      "text/plain": [
       "[(1000250.2671489477, 1000795.6828422967, 2994.202881484691),\n",
       " (1000237.5486438649, 999756.9523065898, -5115.506997091343),\n",
       " (-0.6020281362593035, -0.7918850758660543, 0.10237260264720695)]"
      ]
     },
     "execution_count": 80,
     "metadata": {},
     "output_type": "execute_result"
    }
   ],
   "source": [
    "ss=g1.wells_surveys_vtk()\n",
    "\n",
    "ss.plot(notebook=False)"
   ]
  },
  {
   "cell_type": "code",
   "execution_count": 84,
   "metadata": {},
   "outputs": [
    {
     "data": {
      "text/plain": [
       "[(1000190.5405940494, 1000372.5856833332, -2030.2762640327364),\n",
       " (1000037.2865798048, 999756.7997870044, -5115.506997091343),\n",
       " (-0.6844792689334893, -0.7076567781582116, 0.1752427308820989)]"
      ]
     },
     "execution_count": 84,
     "metadata": {},
     "output_type": "execute_result"
    }
   ],
   "source": [
    "p=pv.Plotter(notebook=False)\n",
    "p.add_mesh(ss['well-1'], scalars='azi')\n",
    "p.add_mesh(ss['well-2'], scalars='tvdss')\n",
    "p.show() "
   ]
  },
  {
   "cell_type": "code",
   "execution_count": 90,
   "metadata": {},
   "outputs": [
    {
     "data": {
      "text/plain": [
       "[(1000444.349853906, 1001811.2816527236, -13095.029822658653),\n",
       " (1000115.8962843373, 999591.3079527195, -10800.985977462957),\n",
       " (-0.5476114670720029, 0.639103688737251, 0.5400631038811001)]"
      ]
     },
     "execution_count": 90,
     "metadata": {},
     "output_type": "execute_result"
    }
   ],
   "source": [
    "tops_vtk = g1.tops_vtk()\n",
    "tops_vtk.plot(notebook=False)"
   ]
  },
  {
   "cell_type": "code",
   "execution_count": 91,
   "metadata": {},
   "outputs": [
    {
     "data": {
      "text/plain": [
       "[(1000239.3782145374, 999762.8042163549, -5058.274612518931),\n",
       " (1000237.5486438649, 999756.9523065898, -5115.506997091343),\n",
       " (-0.554530868399353, -0.8258672598026414, 0.10217037329057838)]"
      ]
     },
     "execution_count": 91,
     "metadata": {},
     "output_type": "execute_result"
    }
   ],
   "source": [
    "str_vtk = g1.structural_view_vtk()\n",
    "str_vtk.plot(notebook=False)"
   ]
  },
  {
   "cell_type": "code",
   "execution_count": null,
   "metadata": {},
   "outputs": [],
   "source": []
  },
  {
   "cell_type": "code",
   "execution_count": null,
   "metadata": {},
   "outputs": [],
   "source": []
  },
  {
   "cell_type": "code",
   "execution_count": null,
   "metadata": {},
   "outputs": [],
   "source": []
  }
 ],
 "metadata": {
  "accelerator": "GPU",
  "celltoolbar": "Slideshow",
  "colab": {
   "name": "Boral-02 Notebook.ipynb",
   "provenance": []
  },
  "kernelspec": {
   "display_name": "Python 3",
   "language": "python",
   "name": "python3"
  },
  "language_info": {
   "codemirror_mode": {
    "name": "ipython",
    "version": 3
   },
   "file_extension": ".py",
   "mimetype": "text/x-python",
   "name": "python",
   "nbconvert_exporter": "python",
   "pygments_lexer": "ipython3",
   "version": "3.7.5"
  }
 },
 "nbformat": 4,
 "nbformat_minor": 1
}
